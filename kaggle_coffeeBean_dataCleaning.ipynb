{
 "cells": [
  {
   "cell_type": "markdown",
   "id": "10377827-fa56-45db-a8c6-cbb3bd2e0511",
   "metadata": {},
   "source": [
    "# Python Project - Data Cleaning & Preprocessing\n",
    "\n",
    "This project demonstrates essential data-cleaning techniques. The dataset will be processed through the following steps, including:\n",
    "\n",
    "- Removing duplicate entries to ensure data integrity\n",
    "- Handling outlier and missing values through imputation or removal\n",
    "- Standardizing data formats for consistency across the dataset\n",
    "- Transforming features to ensure the data is clean, suitable, and well-prepared for analysis or modeling (optional)\n",
    "\n",
    "These steps help prepare the data for more accurate analysis and modeling.\n",
    "\n",
    "\n",
    "## Outline\n",
    "1. Import libraries\n",
    "2. Load and read dataset\n",
    "3. Clean dataset\n",
    "\n",
    "   3-1. Remove duplicates\n",
    "   \n",
    "   3-2. Identify & handle outliers\n",
    "   \n",
    "   3-3. Address missing values\n",
    "\n",
    "   3-4. Standardize data formats \n",
    "    \n",
    "   3-5. Transform features (optional)\n",
    "   \n",
    "5. Save final dataset"
   ]
  },
  {
   "cell_type": "markdown",
   "id": "fda128a1-c410-44e1-a2de-0ac54be62d59",
   "metadata": {},
   "source": [
    "## 1. Import Libraries\n",
    "\n",
    "For the data preprocessing process, several libraries are required to manipulate and transform data to meet analysis needs.\n",
    "\n",
    "- `NumPy`: This library is primarily used for performing **low-level** numerical computations and efficiently handling multi-dimensional arrays (1D arrays, 2D matrices, 3D tensors, etc.).\n",
    "- `Pandas`: This library is built on top of `NumPy`. It provides **higher-level** data structures, such as Series (labeled 1D arrays) and DataFrames (labeled 2D tables), along with powerful tools for data manipulation, cleaning, and analysis, making it more intuitive for working with structured data.\n",
    "- `Matplotlib`: For creating static, interactive, and animated visualizations in Python, particularly useful for plotting graphs like histograms, line charts, and scatter plots.\n",
    "- `Seaborn`: A statistical data visualization library built on top of Matplotlib, offering more complex and aesthetically pleasing plots for data exploration.\n",
    "- `SciPy`: Provides functionality for scientific computing, including statistical tests (e.g., Shapiro-Wilk test, Kolmogorov-Smirnov test) and optimizations.\n",
    "- `Counter`: A simple tool to count the occurrences of elements in a collection, particularly useful for frequency analysis in datasets.\n",
    "- `re`: A library for working with regular expressions, enabling pattern matching, text parsing, and string manipulation.\n"
   ]
  },
  {
   "cell_type": "code",
   "execution_count": 1,
   "id": "bf507192-77e4-415b-b2e5-363c5bfde319",
   "metadata": {},
   "outputs": [],
   "source": [
    "import pandas as pd # Data manipulation and analysis\n",
    "import numpy as np # Numerical computing\n",
    "import matplotlib.pyplot as plt  # Data visualization\n",
    "import seaborn as sns  # Statistical data visualization\n",
    "import scipy.stats as stats  # Statistical tests and optimizations\n",
    "from scipy.stats import shapiro, kstest  # Specific statistical tests\n",
    "from collections import Counter  # Counting occurrences \n",
    "import re  # Regular expressions "
   ]
  },
  {
   "cell_type": "markdown",
   "id": "16a7cb97-8e81-4c85-87f3-6611db78ac2f",
   "metadata": {},
   "source": [
    "## 2. Load and Read Dataset\n",
    "\n",
    "Once we import the necessary libraries, we can now load the dataset (`df_arabica_clean.csv`, a CSV file from [Kaggle](https://www.kaggle.com/datasets/fatihb/coffee-quality-data-cqi)) into a Pandas DataFrame using `read_csv()` to make it easier to work with. "
   ]
  },
  {
   "cell_type": "code",
   "execution_count": 2,
   "id": "8c10d840-6ae2-4b50-a728-6dc091ae8b3c",
   "metadata": {},
   "outputs": [],
   "source": [
    "df = pd.read_csv(\"df_arabica_clean.csv\")"
   ]
  },
  {
   "cell_type": "markdown",
   "id": "c9bb0f03-05a4-499f-9ff8-5da8d15f0991",
   "metadata": {},
   "source": [
    "### 2-1. View General Information about the DataFrame\n",
    "\n",
    "Before diving into any analysis, it's essential to understand the dataset first. In addition to reading the Kaggle dataset description, it's crucial to inspect the dataset using the `info()` function. This function provides a comprehensive overview of the dataset, giving us insights into its structure, data types, and any missing values, which are vital for preparing the data before conducting any analysis. \n",
    "\n",
    "Please note, if we only want to quickly check the size (dimensions) of the dataset, we can use `shape()`. This provides a concise way to get the number of rows and columns without all the additional details."
   ]
  },
  {
   "cell_type": "code",
   "execution_count": 3,
   "id": "42471de6-4ae2-4681-a66f-c61b840a1b96",
   "metadata": {},
   "outputs": [
    {
     "name": "stdout",
     "output_type": "stream",
     "text": [
      "<class 'pandas.core.frame.DataFrame'>\n",
      "RangeIndex: 207 entries, 0 to 206\n",
      "Data columns (total 41 columns):\n",
      " #   Column                 Non-Null Count  Dtype  \n",
      "---  ------                 --------------  -----  \n",
      " 0   Unnamed: 0             207 non-null    int64  \n",
      " 1   ID                     207 non-null    int64  \n",
      " 2   Country of Origin      207 non-null    object \n",
      " 3   Farm Name              205 non-null    object \n",
      " 4   Lot Number             206 non-null    object \n",
      " 5   Mill                   204 non-null    object \n",
      " 6   ICO Number             75 non-null     object \n",
      " 7   Company                207 non-null    object \n",
      " 8   Altitude               206 non-null    object \n",
      " 9   Region                 205 non-null    object \n",
      " 10  Producer               206 non-null    object \n",
      " 11  Number of Bags         207 non-null    int64  \n",
      " 12  Bag Weight             207 non-null    object \n",
      " 13  In-Country Partner     207 non-null    object \n",
      " 14  Harvest Year           207 non-null    object \n",
      " 15  Grading Date           207 non-null    object \n",
      " 16  Owner                  207 non-null    object \n",
      " 17  Variety                201 non-null    object \n",
      " 18  Status                 207 non-null    object \n",
      " 19  Processing Method      202 non-null    object \n",
      " 20  Aroma                  207 non-null    float64\n",
      " 21  Flavor                 207 non-null    float64\n",
      " 22  Aftertaste             207 non-null    float64\n",
      " 23  Acidity                207 non-null    float64\n",
      " 24  Body                   207 non-null    float64\n",
      " 25  Balance                207 non-null    float64\n",
      " 26  Uniformity             207 non-null    float64\n",
      " 27  Clean Cup              207 non-null    float64\n",
      " 28  Sweetness              207 non-null    float64\n",
      " 29  Overall                207 non-null    float64\n",
      " 30  Defects                207 non-null    float64\n",
      " 31  Total Cup Points       207 non-null    float64\n",
      " 32  Moisture Percentage    207 non-null    float64\n",
      " 33  Category One Defects   207 non-null    int64  \n",
      " 34  Quakers                207 non-null    int64  \n",
      " 35  Color                  207 non-null    object \n",
      " 36  Category Two Defects   207 non-null    int64  \n",
      " 37  Expiration             207 non-null    object \n",
      " 38  Certification Body     207 non-null    object \n",
      " 39  Certification Address  207 non-null    object \n",
      " 40  Certification Contact  207 non-null    object \n",
      "dtypes: float64(13), int64(6), object(22)\n",
      "memory usage: 66.4+ KB\n"
     ]
    }
   ],
   "source": [
    "df.info()  # Shows column names, non-null counts, and data types"
   ]
  },
  {
   "cell_type": "markdown",
   "id": "b1be2d99-3986-4824-8539-2a6ad8bd1d2b",
   "metadata": {},
   "source": [
    "Overall, we can see that there are 207 rows with 41 columns, with the following distribution of data types:\n",
    "\n",
    "- 13 floating point variables\n",
    "- 6 integer variables\n",
    "- 22 categorical variables\n",
    "\n",
    "We can easily see that there are a few columns with missing data:\n",
    "- `Farm Name`: 2 missing values\n",
    "- `Lot Number`: 1 missing value\n",
    "- `Mill`: 3 missing values\n",
    "- `ICO Number`: 132 missing values (significantly more than others; likely an optional field for some entries)\n",
    "- `Variety`: 6 missing values\n",
    "- `Processing Method`: 5 missing values"
   ]
  },
  {
   "cell_type": "markdown",
   "id": "3deba761-522a-45db-9a23-a4f5fc07fda0",
   "metadata": {},
   "source": [
    "Since the `ICO Number` has significantly large missing values, I looked into the missing ICO numbers to ensure it wouldn't affect the analysis. It seems lots of coffee beans do not have the ICO numbers. Usually, coffee beans that are commercial grade (commodity coffee) are more likely to follow the ICO regulations. \n",
    "\n",
    "Here are some reasons that beans might not have ICO numbers: \n",
    "- Specialty coffee sold through direct trade (e.g., farm-to-roaster relationships)\n",
    "- Micro-lots and experimental coffee that bypass large commodity markets\n",
    "- Coffee consumed within the producing country (not exported)\n",
    "\n",
    "When studying **coffee quality and sustainability**, missing ICO numbers may not be a significant issue in the dataset, as these factors often relate to the coffee’s trade and market structure rather than its quality."
   ]
  },
  {
   "cell_type": "markdown",
   "id": "ea097c65-3e01-4ff5-a72b-86a4c8184f40",
   "metadata": {},
   "source": [
    "### 2-2. Quick Preview of Data \n",
    "\n",
    "We can also use `head()` to get a glimpse of the data, allowing us to check for any obvious issues or anomalies. Similarly, `tail()` can be used to inspect the last few rows and verify its consistency."
   ]
  },
  {
   "cell_type": "code",
   "execution_count": 4,
   "id": "08f91b7d-8597-41e9-a1aa-46bf30622d8a",
   "metadata": {},
   "outputs": [
    {
     "data": {
      "text/html": [
       "<div>\n",
       "<style scoped>\n",
       "    .dataframe tbody tr th:only-of-type {\n",
       "        vertical-align: middle;\n",
       "    }\n",
       "\n",
       "    .dataframe tbody tr th {\n",
       "        vertical-align: top;\n",
       "    }\n",
       "\n",
       "    .dataframe thead th {\n",
       "        text-align: right;\n",
       "    }\n",
       "</style>\n",
       "<table border=\"1\" class=\"dataframe\">\n",
       "  <thead>\n",
       "    <tr style=\"text-align: right;\">\n",
       "      <th></th>\n",
       "      <th>Unnamed: 0</th>\n",
       "      <th>ID</th>\n",
       "      <th>Country of Origin</th>\n",
       "      <th>Farm Name</th>\n",
       "      <th>Lot Number</th>\n",
       "      <th>Mill</th>\n",
       "      <th>ICO Number</th>\n",
       "      <th>Company</th>\n",
       "      <th>Altitude</th>\n",
       "      <th>Region</th>\n",
       "      <th>...</th>\n",
       "      <th>Total Cup Points</th>\n",
       "      <th>Moisture Percentage</th>\n",
       "      <th>Category One Defects</th>\n",
       "      <th>Quakers</th>\n",
       "      <th>Color</th>\n",
       "      <th>Category Two Defects</th>\n",
       "      <th>Expiration</th>\n",
       "      <th>Certification Body</th>\n",
       "      <th>Certification Address</th>\n",
       "      <th>Certification Contact</th>\n",
       "    </tr>\n",
       "  </thead>\n",
       "  <tbody>\n",
       "    <tr>\n",
       "      <th>0</th>\n",
       "      <td>0</td>\n",
       "      <td>0</td>\n",
       "      <td>Colombia</td>\n",
       "      <td>Finca El Paraiso</td>\n",
       "      <td>CQU2022015</td>\n",
       "      <td>Finca El Paraiso</td>\n",
       "      <td>NaN</td>\n",
       "      <td>Coffee Quality Union</td>\n",
       "      <td>1700-1930</td>\n",
       "      <td>Piendamo,Cauca</td>\n",
       "      <td>...</td>\n",
       "      <td>89.33</td>\n",
       "      <td>11.8</td>\n",
       "      <td>0</td>\n",
       "      <td>0</td>\n",
       "      <td>green</td>\n",
       "      <td>3</td>\n",
       "      <td>September 21st, 2023</td>\n",
       "      <td>Japan Coffee Exchange</td>\n",
       "      <td>〒413-0002 静岡県熱海市伊豆山１１７３−５８ 1173-58 Izusan, Ata...</td>\n",
       "      <td>松澤　宏樹　Koju Matsuzawa - +81(0)9085642901</td>\n",
       "    </tr>\n",
       "    <tr>\n",
       "      <th>1</th>\n",
       "      <td>1</td>\n",
       "      <td>1</td>\n",
       "      <td>Taiwan</td>\n",
       "      <td>Royal Bean Geisha Estate</td>\n",
       "      <td>The 2022 Pacific Rim Coffee Summit,T037</td>\n",
       "      <td>Royal Bean Geisha Estate</td>\n",
       "      <td>NaN</td>\n",
       "      <td>Taiwan Coffee Laboratory</td>\n",
       "      <td>1200</td>\n",
       "      <td>Chiayi</td>\n",
       "      <td>...</td>\n",
       "      <td>87.58</td>\n",
       "      <td>10.5</td>\n",
       "      <td>0</td>\n",
       "      <td>0</td>\n",
       "      <td>blue-green</td>\n",
       "      <td>0</td>\n",
       "      <td>November 15th, 2023</td>\n",
       "      <td>Taiwan Coffee Laboratory 台灣咖啡研究室</td>\n",
       "      <td>QAHWAH CO., LTD 4F, No. 225, Sec. 3, Beixin Rd...</td>\n",
       "      <td>Lin, Jen-An Neil 林仁安 - 886-289116612</td>\n",
       "    </tr>\n",
       "    <tr>\n",
       "      <th>2</th>\n",
       "      <td>2</td>\n",
       "      <td>2</td>\n",
       "      <td>Laos</td>\n",
       "      <td>OKLAO coffee farms</td>\n",
       "      <td>The 2022 Pacific Rim Coffee Summit,LA01</td>\n",
       "      <td>oklao coffee processing plant</td>\n",
       "      <td>NaN</td>\n",
       "      <td>Taiwan Coffee Laboratory</td>\n",
       "      <td>1300</td>\n",
       "      <td>Laos Borofen Plateau</td>\n",
       "      <td>...</td>\n",
       "      <td>87.42</td>\n",
       "      <td>10.4</td>\n",
       "      <td>0</td>\n",
       "      <td>0</td>\n",
       "      <td>yellowish</td>\n",
       "      <td>2</td>\n",
       "      <td>November 15th, 2023</td>\n",
       "      <td>Taiwan Coffee Laboratory 台灣咖啡研究室</td>\n",
       "      <td>QAHWAH CO., LTD 4F, No. 225, Sec. 3, Beixin Rd...</td>\n",
       "      <td>Lin, Jen-An Neil 林仁安 - 886-289116612</td>\n",
       "    </tr>\n",
       "    <tr>\n",
       "      <th>3</th>\n",
       "      <td>3</td>\n",
       "      <td>3</td>\n",
       "      <td>Costa Rica</td>\n",
       "      <td>La Cumbre</td>\n",
       "      <td>CQU2022017</td>\n",
       "      <td>La Montana Tarrazu MIll</td>\n",
       "      <td>NaN</td>\n",
       "      <td>Coffee Quality Union</td>\n",
       "      <td>1900</td>\n",
       "      <td>Los Santos,Tarrazu</td>\n",
       "      <td>...</td>\n",
       "      <td>87.17</td>\n",
       "      <td>11.8</td>\n",
       "      <td>0</td>\n",
       "      <td>0</td>\n",
       "      <td>green</td>\n",
       "      <td>0</td>\n",
       "      <td>September 21st, 2023</td>\n",
       "      <td>Japan Coffee Exchange</td>\n",
       "      <td>〒413-0002 静岡県熱海市伊豆山１１７３−５８ 1173-58 Izusan, Ata...</td>\n",
       "      <td>松澤　宏樹　Koju Matsuzawa - +81(0)9085642901</td>\n",
       "    </tr>\n",
       "    <tr>\n",
       "      <th>4</th>\n",
       "      <td>4</td>\n",
       "      <td>4</td>\n",
       "      <td>Colombia</td>\n",
       "      <td>Finca Santuario</td>\n",
       "      <td>CQU2023002</td>\n",
       "      <td>Finca Santuario</td>\n",
       "      <td>NaN</td>\n",
       "      <td>Coffee Quality Union</td>\n",
       "      <td>1850-2100</td>\n",
       "      <td>Popayan,Cauca</td>\n",
       "      <td>...</td>\n",
       "      <td>87.08</td>\n",
       "      <td>11.6</td>\n",
       "      <td>0</td>\n",
       "      <td>2</td>\n",
       "      <td>yellow-green</td>\n",
       "      <td>2</td>\n",
       "      <td>March 5th, 2024</td>\n",
       "      <td>Japan Coffee Exchange</td>\n",
       "      <td>〒413-0002 静岡県熱海市伊豆山１１７３−５８ 1173-58 Izusan, Ata...</td>\n",
       "      <td>松澤　宏樹　Koju Matsuzawa - +81(0)9085642901</td>\n",
       "    </tr>\n",
       "  </tbody>\n",
       "</table>\n",
       "<p>5 rows × 41 columns</p>\n",
       "</div>"
      ],
      "text/plain": [
       "   Unnamed: 0  ID Country of Origin                 Farm Name  \\\n",
       "0           0   0          Colombia          Finca El Paraiso   \n",
       "1           1   1            Taiwan  Royal Bean Geisha Estate   \n",
       "2           2   2              Laos        OKLAO coffee farms   \n",
       "3           3   3        Costa Rica                 La Cumbre   \n",
       "4           4   4          Colombia           Finca Santuario   \n",
       "\n",
       "                                Lot Number                           Mill  \\\n",
       "0                               CQU2022015               Finca El Paraiso   \n",
       "1  The 2022 Pacific Rim Coffee Summit,T037       Royal Bean Geisha Estate   \n",
       "2  The 2022 Pacific Rim Coffee Summit,LA01  oklao coffee processing plant   \n",
       "3                               CQU2022017        La Montana Tarrazu MIll   \n",
       "4                               CQU2023002                Finca Santuario   \n",
       "\n",
       "  ICO Number                   Company   Altitude                Region  ...  \\\n",
       "0        NaN      Coffee Quality Union  1700-1930        Piendamo,Cauca  ...   \n",
       "1        NaN  Taiwan Coffee Laboratory       1200                Chiayi  ...   \n",
       "2        NaN  Taiwan Coffee Laboratory       1300  Laos Borofen Plateau  ...   \n",
       "3        NaN      Coffee Quality Union       1900    Los Santos,Tarrazu  ...   \n",
       "4        NaN      Coffee Quality Union  1850-2100         Popayan,Cauca  ...   \n",
       "\n",
       "  Total Cup Points  Moisture Percentage Category One Defects Quakers  \\\n",
       "0            89.33                 11.8                    0       0   \n",
       "1            87.58                 10.5                    0       0   \n",
       "2            87.42                 10.4                    0       0   \n",
       "3            87.17                 11.8                    0       0   \n",
       "4            87.08                 11.6                    0       2   \n",
       "\n",
       "          Color Category Two Defects            Expiration  \\\n",
       "0         green                    3  September 21st, 2023   \n",
       "1    blue-green                    0   November 15th, 2023   \n",
       "2     yellowish                    2   November 15th, 2023   \n",
       "3         green                    0  September 21st, 2023   \n",
       "4  yellow-green                    2       March 5th, 2024   \n",
       "\n",
       "                 Certification Body  \\\n",
       "0             Japan Coffee Exchange   \n",
       "1  Taiwan Coffee Laboratory 台灣咖啡研究室   \n",
       "2  Taiwan Coffee Laboratory 台灣咖啡研究室   \n",
       "3             Japan Coffee Exchange   \n",
       "4             Japan Coffee Exchange   \n",
       "\n",
       "                               Certification Address  \\\n",
       "0  〒413-0002 静岡県熱海市伊豆山１１７３−５８ 1173-58 Izusan, Ata...   \n",
       "1  QAHWAH CO., LTD 4F, No. 225, Sec. 3, Beixin Rd...   \n",
       "2  QAHWAH CO., LTD 4F, No. 225, Sec. 3, Beixin Rd...   \n",
       "3  〒413-0002 静岡県熱海市伊豆山１１７３−５８ 1173-58 Izusan, Ata...   \n",
       "4  〒413-0002 静岡県熱海市伊豆山１１７３−５８ 1173-58 Izusan, Ata...   \n",
       "\n",
       "                     Certification Contact  \n",
       "0  松澤　宏樹　Koju Matsuzawa - +81(0)9085642901  \n",
       "1     Lin, Jen-An Neil 林仁安 - 886-289116612  \n",
       "2     Lin, Jen-An Neil 林仁安 - 886-289116612  \n",
       "3  松澤　宏樹　Koju Matsuzawa - +81(0)9085642901  \n",
       "4  松澤　宏樹　Koju Matsuzawa - +81(0)9085642901  \n",
       "\n",
       "[5 rows x 41 columns]"
      ]
     },
     "execution_count": 4,
     "metadata": {},
     "output_type": "execute_result"
    }
   ],
   "source": [
    "df.head() # Displays the first 5 rows of the DataFrame for a quick preview"
   ]
  },
  {
   "cell_type": "code",
   "execution_count": 5,
   "id": "87d188dc-cef8-4684-b440-8fe6a1d6ddf6",
   "metadata": {},
   "outputs": [
    {
     "data": {
      "text/html": [
       "<div>\n",
       "<style scoped>\n",
       "    .dataframe tbody tr th:only-of-type {\n",
       "        vertical-align: middle;\n",
       "    }\n",
       "\n",
       "    .dataframe tbody tr th {\n",
       "        vertical-align: top;\n",
       "    }\n",
       "\n",
       "    .dataframe thead th {\n",
       "        text-align: right;\n",
       "    }\n",
       "</style>\n",
       "<table border=\"1\" class=\"dataframe\">\n",
       "  <thead>\n",
       "    <tr style=\"text-align: right;\">\n",
       "      <th></th>\n",
       "      <th>Unnamed: 0</th>\n",
       "      <th>ID</th>\n",
       "      <th>Country of Origin</th>\n",
       "      <th>Farm Name</th>\n",
       "      <th>Lot Number</th>\n",
       "      <th>Mill</th>\n",
       "      <th>ICO Number</th>\n",
       "      <th>Company</th>\n",
       "      <th>Altitude</th>\n",
       "      <th>Region</th>\n",
       "      <th>...</th>\n",
       "      <th>Total Cup Points</th>\n",
       "      <th>Moisture Percentage</th>\n",
       "      <th>Category One Defects</th>\n",
       "      <th>Quakers</th>\n",
       "      <th>Color</th>\n",
       "      <th>Category Two Defects</th>\n",
       "      <th>Expiration</th>\n",
       "      <th>Certification Body</th>\n",
       "      <th>Certification Address</th>\n",
       "      <th>Certification Contact</th>\n",
       "    </tr>\n",
       "  </thead>\n",
       "  <tbody>\n",
       "    <tr>\n",
       "      <th>202</th>\n",
       "      <td>202</td>\n",
       "      <td>202</td>\n",
       "      <td>Brazil</td>\n",
       "      <td>Fazenda Conquista</td>\n",
       "      <td>019/22</td>\n",
       "      <td>Dry Mill</td>\n",
       "      <td>NaN</td>\n",
       "      <td>Ipanema Coffees</td>\n",
       "      <td>950</td>\n",
       "      <td>Sul de Minas</td>\n",
       "      <td>...</td>\n",
       "      <td>80.08</td>\n",
       "      <td>11.4</td>\n",
       "      <td>0</td>\n",
       "      <td>0</td>\n",
       "      <td>green</td>\n",
       "      <td>4</td>\n",
       "      <td>February 2nd, 2024</td>\n",
       "      <td>Brazil Specialty Coffee Association</td>\n",
       "      <td>Rua Gaspar Batista Paiva, 416 – Santa Luiza Va...</td>\n",
       "      <td>Chris Allen - 55 35 3212-4705</td>\n",
       "    </tr>\n",
       "    <tr>\n",
       "      <th>203</th>\n",
       "      <td>203</td>\n",
       "      <td>203</td>\n",
       "      <td>Nicaragua</td>\n",
       "      <td>Finca San Felipe</td>\n",
       "      <td>017-053-0155</td>\n",
       "      <td>Beneficio Atlantic Sébaco</td>\n",
       "      <td>017-053-0155</td>\n",
       "      <td>Exportadora Atlantic S.A</td>\n",
       "      <td>1200</td>\n",
       "      <td>Matagalpa</td>\n",
       "      <td>...</td>\n",
       "      <td>80.00</td>\n",
       "      <td>10.4</td>\n",
       "      <td>0</td>\n",
       "      <td>2</td>\n",
       "      <td>green</td>\n",
       "      <td>12</td>\n",
       "      <td>March 2nd, 2024</td>\n",
       "      <td>Asociación de Cafés Especiales de Nicaragua</td>\n",
       "      <td>Del Hotel Seminole 2 C al lago, 1 C arriba.</td>\n",
       "      <td>Maria Ines Benavidez Toval - 011-(505)-8396 4717</td>\n",
       "    </tr>\n",
       "    <tr>\n",
       "      <th>204</th>\n",
       "      <td>204</td>\n",
       "      <td>204</td>\n",
       "      <td>Laos</td>\n",
       "      <td>-</td>\n",
       "      <td>105/3/VL7285-005</td>\n",
       "      <td>DRY MILL</td>\n",
       "      <td>105/3/VL7285-005</td>\n",
       "      <td>Marubeni Corporation</td>\n",
       "      <td>1300</td>\n",
       "      <td>Bolaven Plateau</td>\n",
       "      <td>...</td>\n",
       "      <td>79.67</td>\n",
       "      <td>11.6</td>\n",
       "      <td>0</td>\n",
       "      <td>9</td>\n",
       "      <td>green</td>\n",
       "      <td>11</td>\n",
       "      <td>November 11th, 2023</td>\n",
       "      <td>Japan Coffee Exchange</td>\n",
       "      <td>〒413-0002 静岡県熱海市伊豆山１１７３−５８ 1173-58 Izusan, Ata...</td>\n",
       "      <td>松澤　宏樹　Koju Matsuzawa - +81(0)9085642901</td>\n",
       "    </tr>\n",
       "    <tr>\n",
       "      <th>205</th>\n",
       "      <td>205</td>\n",
       "      <td>205</td>\n",
       "      <td>El Salvador</td>\n",
       "      <td>Rosario de Maria II, Area de La Pila</td>\n",
       "      <td>0423A01</td>\n",
       "      <td>Optimum Coffee, San Salvador, El Salvador</td>\n",
       "      <td>NaN</td>\n",
       "      <td>Aprentium Enterprises LLC</td>\n",
       "      <td>1200</td>\n",
       "      <td>Volcan de San Vicente, La Paz, El Salvador</td>\n",
       "      <td>...</td>\n",
       "      <td>78.08</td>\n",
       "      <td>11.0</td>\n",
       "      <td>0</td>\n",
       "      <td>12</td>\n",
       "      <td>bluish-green</td>\n",
       "      <td>13</td>\n",
       "      <td>March 7th, 2024</td>\n",
       "      <td>Salvadoran Coffee Council</td>\n",
       "      <td>Final 1a. Av. Norte y 13 Calle Pte., dentro de...</td>\n",
       "      <td>Tomas Bonilla - (503) 2505-6600</td>\n",
       "    </tr>\n",
       "    <tr>\n",
       "      <th>206</th>\n",
       "      <td>206</td>\n",
       "      <td>206</td>\n",
       "      <td>Brazil</td>\n",
       "      <td>Walter Matter</td>\n",
       "      <td>1058 y 1059</td>\n",
       "      <td>Beneficio humedo/seco</td>\n",
       "      <td>002/1208/1016</td>\n",
       "      <td>Descafeinadores Mexicano SA. de CV</td>\n",
       "      <td>850-1100</td>\n",
       "      <td>Minas Gerais</td>\n",
       "      <td>...</td>\n",
       "      <td>78.00</td>\n",
       "      <td>11.3</td>\n",
       "      <td>0</td>\n",
       "      <td>0</td>\n",
       "      <td>green</td>\n",
       "      <td>1</td>\n",
       "      <td>November 18th, 2023</td>\n",
       "      <td>Centro Agroecológico del Café A.C.</td>\n",
       "      <td>Instituto de Ecología A. C., Campus III Edific...</td>\n",
       "      <td>Stephany Escamilla Femat - Tel. +52 228 842180...</td>\n",
       "    </tr>\n",
       "  </tbody>\n",
       "</table>\n",
       "<p>5 rows × 41 columns</p>\n",
       "</div>"
      ],
      "text/plain": [
       "     Unnamed: 0   ID Country of Origin                             Farm Name  \\\n",
       "202         202  202            Brazil                     Fazenda Conquista   \n",
       "203         203  203         Nicaragua                      Finca San Felipe   \n",
       "204         204  204              Laos                                     -   \n",
       "205         205  205       El Salvador  Rosario de Maria II, Area de La Pila   \n",
       "206         206  206            Brazil                         Walter Matter   \n",
       "\n",
       "           Lot Number                                       Mill  \\\n",
       "202            019/22                                   Dry Mill   \n",
       "203      017-053-0155                  Beneficio Atlantic Sébaco   \n",
       "204  105/3/VL7285-005                                   DRY MILL   \n",
       "205           0423A01  Optimum Coffee, San Salvador, El Salvador   \n",
       "206       1058 y 1059                      Beneficio humedo/seco   \n",
       "\n",
       "           ICO Number                             Company  Altitude  \\\n",
       "202               NaN                     Ipanema Coffees       950   \n",
       "203      017-053-0155            Exportadora Atlantic S.A      1200   \n",
       "204  105/3/VL7285-005                Marubeni Corporation      1300   \n",
       "205               NaN           Aprentium Enterprises LLC      1200   \n",
       "206     002/1208/1016  Descafeinadores Mexicano SA. de CV  850-1100   \n",
       "\n",
       "                                         Region  ... Total Cup Points  \\\n",
       "202                                Sul de Minas  ...            80.08   \n",
       "203                                   Matagalpa  ...            80.00   \n",
       "204                             Bolaven Plateau  ...            79.67   \n",
       "205  Volcan de San Vicente, La Paz, El Salvador  ...            78.08   \n",
       "206                                Minas Gerais  ...            78.00   \n",
       "\n",
       "     Moisture Percentage Category One Defects Quakers         Color  \\\n",
       "202                 11.4                    0       0         green   \n",
       "203                 10.4                    0       2         green   \n",
       "204                 11.6                    0       9         green   \n",
       "205                 11.0                    0      12  bluish-green   \n",
       "206                 11.3                    0       0         green   \n",
       "\n",
       "    Category Two Defects           Expiration  \\\n",
       "202                    4   February 2nd, 2024   \n",
       "203                   12      March 2nd, 2024   \n",
       "204                   11  November 11th, 2023   \n",
       "205                   13      March 7th, 2024   \n",
       "206                    1  November 18th, 2023   \n",
       "\n",
       "                              Certification Body  \\\n",
       "202          Brazil Specialty Coffee Association   \n",
       "203  Asociación de Cafés Especiales de Nicaragua   \n",
       "204                        Japan Coffee Exchange   \n",
       "205                    Salvadoran Coffee Council   \n",
       "206           Centro Agroecológico del Café A.C.   \n",
       "\n",
       "                                 Certification Address  \\\n",
       "202  Rua Gaspar Batista Paiva, 416 – Santa Luiza Va...   \n",
       "203        Del Hotel Seminole 2 C al lago, 1 C arriba.   \n",
       "204  〒413-0002 静岡県熱海市伊豆山１１７３−５８ 1173-58 Izusan, Ata...   \n",
       "205  Final 1a. Av. Norte y 13 Calle Pte., dentro de...   \n",
       "206  Instituto de Ecología A. C., Campus III Edific...   \n",
       "\n",
       "                                 Certification Contact  \n",
       "202                      Chris Allen - 55 35 3212-4705  \n",
       "203   Maria Ines Benavidez Toval - 011-(505)-8396 4717  \n",
       "204            松澤　宏樹　Koju Matsuzawa - +81(0)9085642901  \n",
       "205                    Tomas Bonilla - (503) 2505-6600  \n",
       "206  Stephany Escamilla Femat - Tel. +52 228 842180...  \n",
       "\n",
       "[5 rows x 41 columns]"
      ]
     },
     "execution_count": 5,
     "metadata": {},
     "output_type": "execute_result"
    }
   ],
   "source": [
    "df.tail() # Displays the last 5 rows of the DataFrame for a quick preview; to check consistensy"
   ]
  },
  {
   "cell_type": "markdown",
   "id": "c6ab9ce0-9320-48a3-907a-60bfb815abf0",
   "metadata": {},
   "source": [
    "After reviewing both results above, no discrepancies or inconsistencies were identified, indicating the data appears fairly consistent."
   ]
  },
  {
   "cell_type": "markdown",
   "id": "0cf23120-9459-4dbb-9a67-63293200a0d7",
   "metadata": {},
   "source": [
    "### 2-3. Explore Summary Statistics for Numerical and Categorical Columns\n",
    "\n",
    "In addition to understanding the structure and completeness of the data, it’s important to explore the distribution and characteristics of the data values as well. We can achieve this using the following functions:\n",
    "\n",
    "- `describe()`: Displays summary statistics for **numerical** columns, inclduing count, mean, standard deviation, min, max, etc.\n",
    "- `describe(include='object')`: Provides summary statistics for **categorical** columns, inclduing count, unique values, the most frequent value (top), and its frequency"
   ]
  },
  {
   "cell_type": "code",
   "execution_count": 6,
   "id": "a5a61576-1d18-496d-8669-0ea40ae12537",
   "metadata": {},
   "outputs": [
    {
     "data": {
      "text/html": [
       "<div>\n",
       "<style scoped>\n",
       "    .dataframe tbody tr th:only-of-type {\n",
       "        vertical-align: middle;\n",
       "    }\n",
       "\n",
       "    .dataframe tbody tr th {\n",
       "        vertical-align: top;\n",
       "    }\n",
       "\n",
       "    .dataframe thead th {\n",
       "        text-align: right;\n",
       "    }\n",
       "</style>\n",
       "<table border=\"1\" class=\"dataframe\">\n",
       "  <thead>\n",
       "    <tr style=\"text-align: right;\">\n",
       "      <th></th>\n",
       "      <th>Unnamed: 0</th>\n",
       "      <th>ID</th>\n",
       "      <th>Number of Bags</th>\n",
       "      <th>Aroma</th>\n",
       "      <th>Flavor</th>\n",
       "      <th>Aftertaste</th>\n",
       "      <th>Acidity</th>\n",
       "      <th>Body</th>\n",
       "      <th>Balance</th>\n",
       "      <th>Uniformity</th>\n",
       "      <th>Clean Cup</th>\n",
       "      <th>Sweetness</th>\n",
       "      <th>Overall</th>\n",
       "      <th>Defects</th>\n",
       "      <th>Total Cup Points</th>\n",
       "      <th>Moisture Percentage</th>\n",
       "      <th>Category One Defects</th>\n",
       "      <th>Quakers</th>\n",
       "      <th>Category Two Defects</th>\n",
       "    </tr>\n",
       "  </thead>\n",
       "  <tbody>\n",
       "    <tr>\n",
       "      <th>count</th>\n",
       "      <td>207.000000</td>\n",
       "      <td>207.000000</td>\n",
       "      <td>207.000000</td>\n",
       "      <td>207.000000</td>\n",
       "      <td>207.000000</td>\n",
       "      <td>207.000000</td>\n",
       "      <td>207.00000</td>\n",
       "      <td>207.000000</td>\n",
       "      <td>207.000000</td>\n",
       "      <td>207.000000</td>\n",
       "      <td>207.0</td>\n",
       "      <td>207.0</td>\n",
       "      <td>207.000000</td>\n",
       "      <td>207.0</td>\n",
       "      <td>207.000000</td>\n",
       "      <td>207.000000</td>\n",
       "      <td>207.000000</td>\n",
       "      <td>207.000000</td>\n",
       "      <td>207.000000</td>\n",
       "    </tr>\n",
       "    <tr>\n",
       "      <th>mean</th>\n",
       "      <td>103.000000</td>\n",
       "      <td>103.000000</td>\n",
       "      <td>155.449275</td>\n",
       "      <td>7.721063</td>\n",
       "      <td>7.744734</td>\n",
       "      <td>7.599758</td>\n",
       "      <td>7.69029</td>\n",
       "      <td>7.640918</td>\n",
       "      <td>7.644058</td>\n",
       "      <td>9.990338</td>\n",
       "      <td>10.0</td>\n",
       "      <td>10.0</td>\n",
       "      <td>7.676812</td>\n",
       "      <td>0.0</td>\n",
       "      <td>83.706570</td>\n",
       "      <td>10.735266</td>\n",
       "      <td>0.135266</td>\n",
       "      <td>0.690821</td>\n",
       "      <td>2.251208</td>\n",
       "    </tr>\n",
       "    <tr>\n",
       "      <th>std</th>\n",
       "      <td>59.899917</td>\n",
       "      <td>59.899917</td>\n",
       "      <td>244.484868</td>\n",
       "      <td>0.287626</td>\n",
       "      <td>0.279613</td>\n",
       "      <td>0.275911</td>\n",
       "      <td>0.25951</td>\n",
       "      <td>0.233499</td>\n",
       "      <td>0.256299</td>\n",
       "      <td>0.103306</td>\n",
       "      <td>0.0</td>\n",
       "      <td>0.0</td>\n",
       "      <td>0.306359</td>\n",
       "      <td>0.0</td>\n",
       "      <td>1.730417</td>\n",
       "      <td>1.247468</td>\n",
       "      <td>0.592070</td>\n",
       "      <td>1.686918</td>\n",
       "      <td>2.950183</td>\n",
       "    </tr>\n",
       "    <tr>\n",
       "      <th>min</th>\n",
       "      <td>0.000000</td>\n",
       "      <td>0.000000</td>\n",
       "      <td>1.000000</td>\n",
       "      <td>6.500000</td>\n",
       "      <td>6.750000</td>\n",
       "      <td>6.670000</td>\n",
       "      <td>6.83000</td>\n",
       "      <td>6.830000</td>\n",
       "      <td>6.670000</td>\n",
       "      <td>8.670000</td>\n",
       "      <td>10.0</td>\n",
       "      <td>10.0</td>\n",
       "      <td>6.670000</td>\n",
       "      <td>0.0</td>\n",
       "      <td>78.000000</td>\n",
       "      <td>0.000000</td>\n",
       "      <td>0.000000</td>\n",
       "      <td>0.000000</td>\n",
       "      <td>0.000000</td>\n",
       "    </tr>\n",
       "    <tr>\n",
       "      <th>25%</th>\n",
       "      <td>51.500000</td>\n",
       "      <td>51.500000</td>\n",
       "      <td>1.000000</td>\n",
       "      <td>7.580000</td>\n",
       "      <td>7.580000</td>\n",
       "      <td>7.420000</td>\n",
       "      <td>7.50000</td>\n",
       "      <td>7.500000</td>\n",
       "      <td>7.500000</td>\n",
       "      <td>10.000000</td>\n",
       "      <td>10.0</td>\n",
       "      <td>10.0</td>\n",
       "      <td>7.500000</td>\n",
       "      <td>0.0</td>\n",
       "      <td>82.580000</td>\n",
       "      <td>10.100000</td>\n",
       "      <td>0.000000</td>\n",
       "      <td>0.000000</td>\n",
       "      <td>0.000000</td>\n",
       "    </tr>\n",
       "    <tr>\n",
       "      <th>50%</th>\n",
       "      <td>103.000000</td>\n",
       "      <td>103.000000</td>\n",
       "      <td>14.000000</td>\n",
       "      <td>7.670000</td>\n",
       "      <td>7.750000</td>\n",
       "      <td>7.580000</td>\n",
       "      <td>7.67000</td>\n",
       "      <td>7.670000</td>\n",
       "      <td>7.670000</td>\n",
       "      <td>10.000000</td>\n",
       "      <td>10.0</td>\n",
       "      <td>10.0</td>\n",
       "      <td>7.670000</td>\n",
       "      <td>0.0</td>\n",
       "      <td>83.750000</td>\n",
       "      <td>10.800000</td>\n",
       "      <td>0.000000</td>\n",
       "      <td>0.000000</td>\n",
       "      <td>1.000000</td>\n",
       "    </tr>\n",
       "    <tr>\n",
       "      <th>75%</th>\n",
       "      <td>154.500000</td>\n",
       "      <td>154.500000</td>\n",
       "      <td>275.000000</td>\n",
       "      <td>7.920000</td>\n",
       "      <td>7.920000</td>\n",
       "      <td>7.750000</td>\n",
       "      <td>7.87500</td>\n",
       "      <td>7.750000</td>\n",
       "      <td>7.790000</td>\n",
       "      <td>10.000000</td>\n",
       "      <td>10.0</td>\n",
       "      <td>10.0</td>\n",
       "      <td>7.920000</td>\n",
       "      <td>0.0</td>\n",
       "      <td>84.830000</td>\n",
       "      <td>11.500000</td>\n",
       "      <td>0.000000</td>\n",
       "      <td>1.000000</td>\n",
       "      <td>3.000000</td>\n",
       "    </tr>\n",
       "    <tr>\n",
       "      <th>max</th>\n",
       "      <td>206.000000</td>\n",
       "      <td>206.000000</td>\n",
       "      <td>2240.000000</td>\n",
       "      <td>8.580000</td>\n",
       "      <td>8.500000</td>\n",
       "      <td>8.420000</td>\n",
       "      <td>8.58000</td>\n",
       "      <td>8.250000</td>\n",
       "      <td>8.420000</td>\n",
       "      <td>10.000000</td>\n",
       "      <td>10.0</td>\n",
       "      <td>10.0</td>\n",
       "      <td>8.580000</td>\n",
       "      <td>0.0</td>\n",
       "      <td>89.330000</td>\n",
       "      <td>13.500000</td>\n",
       "      <td>5.000000</td>\n",
       "      <td>12.000000</td>\n",
       "      <td>16.000000</td>\n",
       "    </tr>\n",
       "  </tbody>\n",
       "</table>\n",
       "</div>"
      ],
      "text/plain": [
       "       Unnamed: 0          ID  Number of Bags       Aroma      Flavor  \\\n",
       "count  207.000000  207.000000      207.000000  207.000000  207.000000   \n",
       "mean   103.000000  103.000000      155.449275    7.721063    7.744734   \n",
       "std     59.899917   59.899917      244.484868    0.287626    0.279613   \n",
       "min      0.000000    0.000000        1.000000    6.500000    6.750000   \n",
       "25%     51.500000   51.500000        1.000000    7.580000    7.580000   \n",
       "50%    103.000000  103.000000       14.000000    7.670000    7.750000   \n",
       "75%    154.500000  154.500000      275.000000    7.920000    7.920000   \n",
       "max    206.000000  206.000000     2240.000000    8.580000    8.500000   \n",
       "\n",
       "       Aftertaste    Acidity        Body     Balance  Uniformity  Clean Cup  \\\n",
       "count  207.000000  207.00000  207.000000  207.000000  207.000000      207.0   \n",
       "mean     7.599758    7.69029    7.640918    7.644058    9.990338       10.0   \n",
       "std      0.275911    0.25951    0.233499    0.256299    0.103306        0.0   \n",
       "min      6.670000    6.83000    6.830000    6.670000    8.670000       10.0   \n",
       "25%      7.420000    7.50000    7.500000    7.500000   10.000000       10.0   \n",
       "50%      7.580000    7.67000    7.670000    7.670000   10.000000       10.0   \n",
       "75%      7.750000    7.87500    7.750000    7.790000   10.000000       10.0   \n",
       "max      8.420000    8.58000    8.250000    8.420000   10.000000       10.0   \n",
       "\n",
       "       Sweetness     Overall  Defects  Total Cup Points  Moisture Percentage  \\\n",
       "count      207.0  207.000000    207.0        207.000000           207.000000   \n",
       "mean        10.0    7.676812      0.0         83.706570            10.735266   \n",
       "std          0.0    0.306359      0.0          1.730417             1.247468   \n",
       "min         10.0    6.670000      0.0         78.000000             0.000000   \n",
       "25%         10.0    7.500000      0.0         82.580000            10.100000   \n",
       "50%         10.0    7.670000      0.0         83.750000            10.800000   \n",
       "75%         10.0    7.920000      0.0         84.830000            11.500000   \n",
       "max         10.0    8.580000      0.0         89.330000            13.500000   \n",
       "\n",
       "       Category One Defects     Quakers  Category Two Defects  \n",
       "count            207.000000  207.000000            207.000000  \n",
       "mean               0.135266    0.690821              2.251208  \n",
       "std                0.592070    1.686918              2.950183  \n",
       "min                0.000000    0.000000              0.000000  \n",
       "25%                0.000000    0.000000              0.000000  \n",
       "50%                0.000000    0.000000              1.000000  \n",
       "75%                0.000000    1.000000              3.000000  \n",
       "max                5.000000   12.000000             16.000000  "
      ]
     },
     "execution_count": 6,
     "metadata": {},
     "output_type": "execute_result"
    }
   ],
   "source": [
    "df.describe()  # Summary statistics for numerical columns"
   ]
  },
  {
   "cell_type": "markdown",
   "id": "157edb51-939c-4640-8ba5-9fe7ac5512ed",
   "metadata": {},
   "source": [
    "For numerical variables, we typically examine central tendency, spread & dispersion, outliers, and missing data.\n",
    "\n",
    "\n",
    "Here are some key findings of the numerical data: \n",
    "- `Number of Bags`: Has a large range (1 to 2240) and high standard deviation (~244.5), indicating extreme variations. We should check for potential outliers.\n",
    "- `Aroma`, `Flavor`, `Aftertaste`, `Acidity`, `Body`, `Balance`, `Uniformity`: Mostly around 7.6–7.7, with low standard deviations (0.1–0.3). No immediate concerns, but we should confirm there are no unexpected outliers.\n",
    "- `Clean Cup`, `Sweetness`, and `Defects`: Consistently scored 10 (`Clean Cup` & `Sweetness`) or 0 (`Defects`), suggesting no variation. We should verify whether these are meaningful variables or redundant.\n",
    "- `Total Cup Points`: Ranges from 78 to 89, with a mean of ~83.7. No major inconsistencies, but outliers should still be checked.\n",
    "- `Moisture Percentage`: Ranges from 0% to 13.5%, with a mean of 10.7%, showing that most of the beans fall within the ideal moisture content range (10–12%). Check if 0% values are errors or missing values recorded as zero.\n",
    "- Defects (`Category One Defects`, `Category Two Defects`): `Category Two Defects` appear more frequently than `Category One Defects`. Need to check for missing values and verify data distribution.\n",
    "- `Quakers`: Most coffee batches have 0 quakers, but a few have up to 12, suggesting possible outliers. The data seems skewed, so further checks may be needed.\n"
   ]
  },
  {
   "cell_type": "code",
   "execution_count": 7,
   "id": "742a7653-5ee5-4efe-a844-12ca82d7b608",
   "metadata": {},
   "outputs": [
    {
     "data": {
      "text/html": [
       "<div>\n",
       "<style scoped>\n",
       "    .dataframe tbody tr th:only-of-type {\n",
       "        vertical-align: middle;\n",
       "    }\n",
       "\n",
       "    .dataframe tbody tr th {\n",
       "        vertical-align: top;\n",
       "    }\n",
       "\n",
       "    .dataframe thead th {\n",
       "        text-align: right;\n",
       "    }\n",
       "</style>\n",
       "<table border=\"1\" class=\"dataframe\">\n",
       "  <thead>\n",
       "    <tr style=\"text-align: right;\">\n",
       "      <th></th>\n",
       "      <th>Country of Origin</th>\n",
       "      <th>Farm Name</th>\n",
       "      <th>Lot Number</th>\n",
       "      <th>Mill</th>\n",
       "      <th>ICO Number</th>\n",
       "      <th>Company</th>\n",
       "      <th>Altitude</th>\n",
       "      <th>Region</th>\n",
       "      <th>Producer</th>\n",
       "      <th>Bag Weight</th>\n",
       "      <th>In-Country Partner</th>\n",
       "      <th>Harvest Year</th>\n",
       "      <th>Grading Date</th>\n",
       "      <th>Owner</th>\n",
       "      <th>Variety</th>\n",
       "      <th>Status</th>\n",
       "      <th>Processing Method</th>\n",
       "      <th>Color</th>\n",
       "      <th>Expiration</th>\n",
       "      <th>Certification Body</th>\n",
       "    </tr>\n",
       "  </thead>\n",
       "  <tbody>\n",
       "    <tr>\n",
       "      <th>count</th>\n",
       "      <td>207</td>\n",
       "      <td>205</td>\n",
       "      <td>206</td>\n",
       "      <td>204</td>\n",
       "      <td>75</td>\n",
       "      <td>207</td>\n",
       "      <td>206</td>\n",
       "      <td>205</td>\n",
       "      <td>206</td>\n",
       "      <td>207</td>\n",
       "      <td>207</td>\n",
       "      <td>207</td>\n",
       "      <td>207</td>\n",
       "      <td>207</td>\n",
       "      <td>201</td>\n",
       "      <td>207</td>\n",
       "      <td>202</td>\n",
       "      <td>207</td>\n",
       "      <td>207</td>\n",
       "      <td>207</td>\n",
       "    </tr>\n",
       "    <tr>\n",
       "      <th>unique</th>\n",
       "      <td>22</td>\n",
       "      <td>172</td>\n",
       "      <td>187</td>\n",
       "      <td>162</td>\n",
       "      <td>67</td>\n",
       "      <td>72</td>\n",
       "      <td>97</td>\n",
       "      <td>120</td>\n",
       "      <td>172</td>\n",
       "      <td>39</td>\n",
       "      <td>21</td>\n",
       "      <td>7</td>\n",
       "      <td>75</td>\n",
       "      <td>80</td>\n",
       "      <td>48</td>\n",
       "      <td>1</td>\n",
       "      <td>10</td>\n",
       "      <td>12</td>\n",
       "      <td>75</td>\n",
       "      <td>21</td>\n",
       "    </tr>\n",
       "    <tr>\n",
       "      <th>top</th>\n",
       "      <td>Taiwan</td>\n",
       "      <td>Doi Tung Development Project</td>\n",
       "      <td>1</td>\n",
       "      <td>Dry Mill</td>\n",
       "      <td>non</td>\n",
       "      <td>Taiwan Coffee Laboratory</td>\n",
       "      <td>1200</td>\n",
       "      <td>Chiayi</td>\n",
       "      <td>Doi Tung Development Project</td>\n",
       "      <td>30 kg</td>\n",
       "      <td>Taiwan Coffee Laboratory 台灣咖啡研究室</td>\n",
       "      <td>2021 / 2022</td>\n",
       "      <td>November 15th, 2022</td>\n",
       "      <td>Taiwan Coffee Laboratory 台灣咖啡研究室</td>\n",
       "      <td>Gesha</td>\n",
       "      <td>Completed</td>\n",
       "      <td>Washed / Wet</td>\n",
       "      <td>green</td>\n",
       "      <td>November 15th, 2023</td>\n",
       "      <td>Taiwan Coffee Laboratory 台灣咖啡研究室</td>\n",
       "    </tr>\n",
       "    <tr>\n",
       "      <th>freq</th>\n",
       "      <td>61</td>\n",
       "      <td>7</td>\n",
       "      <td>11</td>\n",
       "      <td>11</td>\n",
       "      <td>5</td>\n",
       "      <td>51</td>\n",
       "      <td>23</td>\n",
       "      <td>12</td>\n",
       "      <td>7</td>\n",
       "      <td>39</td>\n",
       "      <td>83</td>\n",
       "      <td>99</td>\n",
       "      <td>40</td>\n",
       "      <td>30</td>\n",
       "      <td>27</td>\n",
       "      <td>207</td>\n",
       "      <td>124</td>\n",
       "      <td>101</td>\n",
       "      <td>40</td>\n",
       "      <td>83</td>\n",
       "    </tr>\n",
       "  </tbody>\n",
       "</table>\n",
       "</div>"
      ],
      "text/plain": [
       "       Country of Origin                     Farm Name Lot Number      Mill  \\\n",
       "count                207                           205        206       204   \n",
       "unique                22                           172        187       162   \n",
       "top               Taiwan  Doi Tung Development Project          1  Dry Mill   \n",
       "freq                  61                             7         11        11   \n",
       "\n",
       "       ICO Number                   Company Altitude  Region  \\\n",
       "count          75                       207      206     205   \n",
       "unique         67                        72       97     120   \n",
       "top           non  Taiwan Coffee Laboratory     1200  Chiayi   \n",
       "freq            5                        51       23      12   \n",
       "\n",
       "                            Producer Bag Weight  \\\n",
       "count                            206        207   \n",
       "unique                           172         39   \n",
       "top     Doi Tung Development Project      30 kg   \n",
       "freq                               7         39   \n",
       "\n",
       "                      In-Country Partner Harvest Year         Grading Date  \\\n",
       "count                                207          207                  207   \n",
       "unique                                21            7                   75   \n",
       "top     Taiwan Coffee Laboratory 台灣咖啡研究室  2021 / 2022  November 15th, 2022   \n",
       "freq                                  83           99                   40   \n",
       "\n",
       "                                   Owner Variety     Status Processing Method  \\\n",
       "count                                207     201        207               202   \n",
       "unique                                80      48          1                10   \n",
       "top     Taiwan Coffee Laboratory 台灣咖啡研究室   Gesha  Completed      Washed / Wet   \n",
       "freq                                  30      27        207               124   \n",
       "\n",
       "        Color           Expiration                Certification Body  \n",
       "count     207                  207                               207  \n",
       "unique     12                   75                                21  \n",
       "top     green  November 15th, 2023  Taiwan Coffee Laboratory 台灣咖啡研究室  \n",
       "freq      101                   40                                83  "
      ]
     },
     "execution_count": 7,
     "metadata": {},
     "output_type": "execute_result"
    }
   ],
   "source": [
    "df.describe(include='object').iloc[:, :20]  # Summary for categorical columns"
   ]
  },
  {
   "cell_type": "code",
   "execution_count": 8,
   "id": "5a8914c5-cab1-43f0-9156-636c75faa95c",
   "metadata": {},
   "outputs": [
    {
     "data": {
      "text/html": [
       "<div>\n",
       "<style scoped>\n",
       "    .dataframe tbody tr th:only-of-type {\n",
       "        vertical-align: middle;\n",
       "    }\n",
       "\n",
       "    .dataframe tbody tr th {\n",
       "        vertical-align: top;\n",
       "    }\n",
       "\n",
       "    .dataframe thead th {\n",
       "        text-align: right;\n",
       "    }\n",
       "</style>\n",
       "<table border=\"1\" class=\"dataframe\">\n",
       "  <thead>\n",
       "    <tr style=\"text-align: right;\">\n",
       "      <th></th>\n",
       "      <th>Certification Address</th>\n",
       "      <th>Certification Contact</th>\n",
       "    </tr>\n",
       "  </thead>\n",
       "  <tbody>\n",
       "    <tr>\n",
       "      <th>count</th>\n",
       "      <td>207</td>\n",
       "      <td>207</td>\n",
       "    </tr>\n",
       "    <tr>\n",
       "      <th>unique</th>\n",
       "      <td>21</td>\n",
       "      <td>21</td>\n",
       "    </tr>\n",
       "    <tr>\n",
       "      <th>top</th>\n",
       "      <td>QAHWAH CO., LTD 4F, No. 225, Sec. 3, Beixin Rd...</td>\n",
       "      <td>Lin, Jen-An Neil 林仁安 - 886-289116612</td>\n",
       "    </tr>\n",
       "    <tr>\n",
       "      <th>freq</th>\n",
       "      <td>83</td>\n",
       "      <td>83</td>\n",
       "    </tr>\n",
       "  </tbody>\n",
       "</table>\n",
       "</div>"
      ],
      "text/plain": [
       "                                    Certification Address  \\\n",
       "count                                                 207   \n",
       "unique                                                 21   \n",
       "top     QAHWAH CO., LTD 4F, No. 225, Sec. 3, Beixin Rd...   \n",
       "freq                                                   83   \n",
       "\n",
       "                       Certification Contact  \n",
       "count                                    207  \n",
       "unique                                    21  \n",
       "top     Lin, Jen-An Neil 林仁安 - 886-289116612  \n",
       "freq                                      83  "
      ]
     },
     "execution_count": 8,
     "metadata": {},
     "output_type": "execute_result"
    }
   ],
   "source": [
    "df.describe(include='object').iloc[:, 20:30]  # Summary for categorical columns"
   ]
  },
  {
   "cell_type": "markdown",
   "id": "a239833c-0fd7-4563-9656-801785b94e72",
   "metadata": {},
   "source": [
    "After careful review, I believe the following categorical variables may provide useful insights into the dataset:\n",
    "\n",
    "- `Country of Origin`: The dataset includes 22 countries, with \"Taiwan\" being the most frequent (66 out of 207, a relatively large proportion). We could analyze the distribution on a map for better visualization or focus on a subset of countries or group them by region. This approach could help simplify the analysis and communicate insights more effectively without overwhelming the viewer.\n",
    "- `Bag Weight`: There are 39 unique values for bag weight, and \"30 kg\" is the most frequent (66 out of 207, relatively frequent). This would be useful to examine further later on during EDA. Converting it to a numerical variable could also improve analysis.\n",
    "- `Harvest Year`: There are 7 unique years, with \"2021/2022\" having the highest frequency (99 out of 207, relatively large). Worth checking for trends or seasonality.\n",
    "- `Grading Date` & `Expiration`: Both variables have 75 unique values with the same top frequency (40 out of 207). It seems that the `Expiration date` is consistently one year after the `Grading date`. This could be worth verifying to ensure consistency.\n",
    "- `Variety`: With 48 unique values, Gesha has the highest frequency. It might be helpful to check for consistency in category names, as there may be variations or typos.\n",
    "- `Processing Method`: There are 10 unique values, and \"Washed/Wet\" is the most frequent (124 out of 207, a relatively large proportion). It’s worth checking to ensure the categories are properly defined and consistent.\n",
    "- `Color`: There are 12 unique values, with green being the most frequent (101 out of 207, a relatively large proportion). This might warrant further exploration to check for consistency or unusual entries.\n",
    "- `Company`, `In-Country Partner`, `Owner`, `Certification Body`: It may be beneficial to check the names for consistency. Additionally, both `In-Country Partner` and `Certification Body` have the same number of unique values and top frequencies, suggesting potential overlap or redundancy.\n",
    "\n",
    "Minor notes:\n",
    "- `Status`: Consistently labeled \"Completed\". We should verify whether these are meaningful variables or redundant.\n",
    "- `Certification Address` and `Certification Contact`: These fields may not be necessary, and we should consider removing them after review."
   ]
  },
  {
   "cell_type": "markdown",
   "id": "4379f791-0169-4f7f-a6ab-36dac2a715ed",
   "metadata": {},
   "source": [
    "Here’s a summary of the key steps to take after removing duplicates:\n",
    "\n",
    "1. Handle Outliers: Investigate outliers in variables like `Number of Bags`, `Moisture Percentage`, and `Quakers`\n",
    "2. Verify No-Variation Variables: Decide whether to keep or remove variables like `Clean Cup`, `Sweetness`, `Defects`, and `Status` that show no variation\n",
    "3. Check for Missing Data: Address any missing or incorrect values, especially in fields like `Moisture Percentage`\n",
    "4. Standardize Categorical Data: Ensure consistency in categorical variables such as `Variety`, `Processing Method`, and `Company`\n",
    "5. Validate Dates: Ensure `Grading Date` and `Expiration` follow a consistent pattern\n",
    "6. Group Categorical Data: Consider grouping categorical variables with too many unique values to simplify the analysis"
   ]
  },
  {
   "cell_type": "markdown",
   "id": "244b3967-e0ae-46e0-938f-bb5905ebeecd",
   "metadata": {},
   "source": [
    "## 3. Clean Dataset \n",
    "\n",
    "In this section, we will go through the following steps to clean and prepare the dataset for analysis:\n",
    "- Remove Duplicates: Identify and eliminate duplicate rows to ensure unique and accurate records\n",
    "- Handle Outliers: Detect and address outliers to prevent them from distorting analysis and model performance with skewed data\n",
    "- Address Missing Values: Impute missing values using appropriate statistical methods or remove records if necessary\n",
    "- Transform Features: Normalize, scale, or encode features to improve interpretability and prepare data for analysis or modeling\n"
   ]
  },
  {
   "cell_type": "markdown",
   "id": "9841542b-9b31-4b81-8972-87c7e6ffca66",
   "metadata": {},
   "source": [
    "### 3-1. Remove Duplicates\n",
    "\n",
    "After better understanding the dataset, we can move forward to identifying duplicate rows using `duplicated()` function. We usually handle duplicates first then null since duplicates may skew the data. Removing duplicates can help handle nulls more effectively using distinct values. "
   ]
  },
  {
   "cell_type": "code",
   "execution_count": 9,
   "id": "7492bd0f-7dc1-4441-817e-270eff8d906c",
   "metadata": {},
   "outputs": [
    {
     "name": "stdout",
     "output_type": "stream",
     "text": [
      "Number of duplicate rows: 0\n",
      "Duplicate rows: Empty DataFrame\n",
      "Columns: [Unnamed: 0, ID, Country of Origin, Farm Name, Lot Number, Mill, ICO Number, Company, Altitude, Region, Producer, Number of Bags, Bag Weight, In-Country Partner, Harvest Year, Grading Date, Owner, Variety, Status, Processing Method, Aroma, Flavor, Aftertaste, Acidity, Body, Balance, Uniformity, Clean Cup, Sweetness, Overall, Defects, Total Cup Points, Moisture Percentage, Category One Defects, Quakers, Color, Category Two Defects, Expiration, Certification Body, Certification Address, Certification Contact]\n",
      "Index: []\n",
      "\n",
      "[0 rows x 41 columns]\n",
      "Number of duplicate rows based on 'ID': 0\n"
     ]
    }
   ],
   "source": [
    "duplicate_rows = df.duplicated() # Check for exact duplicate rows\n",
    "print(\"Number of duplicate rows:\", duplicate_rows.sum())\n",
    "\n",
    "duplicates = df[duplicate_rows] # Find and view duplicate rows \n",
    "print(\"Duplicate rows:\", duplicates)\n",
    "\n",
    "duplicates_by_column = df[df.duplicated(subset=['ID'])] # Count and handle duplicates in specific columns\n",
    "print(\"Number of duplicate rows based on 'ID':\", duplicates_by_column.shape[0])"
   ]
  },
  {
   "cell_type": "markdown",
   "id": "19159923-d395-41ce-8e60-980653756c3c",
   "metadata": {},
   "source": [
    "There are no duplicate rows in the dataset. However, to ensure data integrity, we can use the `drop_duplicates()` function in Pandas, which is the primary method for removing duplicates. If needed, we can specify columns to check for duplicates rather than considering entire rows using `drop_duplicates(subset=['Column1', 'Column2'])`. This helps maintain a clean dataset while preventing unintended duplications in the analysis."
   ]
  },
  {
   "cell_type": "code",
   "execution_count": 10,
   "id": "7ec6b664-67b9-4382-ad1d-1f14d09de89c",
   "metadata": {},
   "outputs": [
    {
     "name": "stdout",
     "output_type": "stream",
     "text": [
      "Original shape: (207, 41)\n",
      "After dropping duplicate rows: (207, 41)\n"
     ]
    }
   ],
   "source": [
    "df_drop_duplicates = df.drop_duplicates()\n",
    "\n",
    "print(\"Original shape:\", df.shape)\n",
    "print(\"After dropping duplicate rows:\", df_drop_duplicates.shape)"
   ]
  },
  {
   "cell_type": "markdown",
   "id": "172a1fda-b4c7-4789-990a-f207171c7385",
   "metadata": {},
   "source": [
    "Other than duplicate rows, we should also avoid any duplicate columns. The column `Unnamed: 0` doesn't seem to contain meaningful data and is typically created when reading a CSV file with an index or when there's an extra index column in the data. It's better to remove it to clean up the dataset using `drop()`."
   ]
  },
  {
   "cell_type": "code",
   "execution_count": 11,
   "id": "f9b785e3-5135-4da7-b415-0e3da44b4692",
   "metadata": {},
   "outputs": [
    {
     "name": "stdout",
     "output_type": "stream",
     "text": [
      "Original shape: (207, 41)\n",
      "After dropping duplicate rows: (207, 40)\n"
     ]
    }
   ],
   "source": [
    "df_drop_duplicates = df_drop_duplicates.drop(columns=['Unnamed: 0'])\n",
    "\n",
    "print(\"Original shape:\", df.shape)\n",
    "print(\"After dropping duplicate rows:\", df_drop_duplicates.shape)"
   ]
  },
  {
   "cell_type": "code",
   "execution_count": 12,
   "id": "f25ac16b-921a-4d35-9ebb-97661f067d7b",
   "metadata": {},
   "outputs": [],
   "source": [
    "df_duplicates_dropped = df_drop_duplicates"
   ]
  },
  {
   "cell_type": "markdown",
   "id": "f90699c0-743f-48a7-9198-e59df7205823",
   "metadata": {},
   "source": [
    "### 3-2. Identify & Handle Outliers\n",
    "\n",
    "Based on the summary statistics from section 2-3, we should look into outliers in variables `Number of Bags`, `Moisture Percentage`, and `Quakers` using the interquartile range (IQR) method. "
   ]
  },
  {
   "cell_type": "code",
   "execution_count": 13,
   "id": "cf1a5441-7d24-48bf-a58f-5ec237dfb93a",
   "metadata": {},
   "outputs": [],
   "source": [
    "df_handle_outliers = df_duplicates_dropped"
   ]
  },
  {
   "cell_type": "markdown",
   "id": "c6076f0c-b973-4f1a-b748-9b4b0d74b355",
   "metadata": {},
   "source": [
    "#### 3-2-1. Investigate `Number of Bags`"
   ]
  },
  {
   "cell_type": "code",
   "execution_count": 14,
   "id": "69601044-b8e4-4da9-92a9-ff22576b54e9",
   "metadata": {},
   "outputs": [
    {
     "name": "stdout",
     "output_type": "stream",
     "text": [
      "Number of outliers: 2\n",
      "      ID  Number of Bags\n",
      "129  129             960\n",
      "202  202            2240\n"
     ]
    }
   ],
   "source": [
    "Q1 = df_handle_outliers['Number of Bags'].quantile(0.25)\n",
    "Q3 = df_handle_outliers['Number of Bags'].quantile(0.75)\n",
    "IQR = Q3 - Q1\n",
    "lower_bound = Q1 - 1.5 * IQR\n",
    "upper_bound = Q3 + 1.5 * IQR\n",
    "\n",
    "outliers_numOfBag = df_handle_outliers[(df_handle_outliers['Number of Bags'] < lower_bound) | \n",
    "                                    (df_handle_outliers['Number of Bags'] > upper_bound)]\n",
    "print(\"Number of outliers:\", outliers_numOfBag.shape[0])\n",
    "print(outliers_numOfBag[['ID', 'Number of Bags']])"
   ]
  },
  {
   "cell_type": "markdown",
   "id": "42e40a5a-8cfc-4992-afd4-389ea8e82519",
   "metadata": {},
   "source": [
    "There are two outliers in the `Number of Bags` column with values of 960 and 2240, which are significantly higher than the typical range observed in the dataset. Given that these outliers represent only 2 instances out of a total of 204 samples, and considering their potential to distort the analysis, I have decided to remove them to ensure more accurate and representative results."
   ]
  },
  {
   "cell_type": "code",
   "execution_count": 15,
   "id": "8c3c60df-3f6a-45bd-a916-d738a826b4bd",
   "metadata": {},
   "outputs": [
    {
     "name": "stdout",
     "output_type": "stream",
     "text": [
      "After dropping outlier rows: (205, 40)\n"
     ]
    }
   ],
   "source": [
    "# Drop the outliers\n",
    "df_handle_outliers = df_handle_outliers[~df_handle_outliers.index.isin(outliers_numOfBag.index)]\n",
    "\n",
    "# Verify the shape of the DataFrame after dropping\n",
    "print(\"After dropping outlier rows:\", df_handle_outliers.shape)"
   ]
  },
  {
   "cell_type": "markdown",
   "id": "65db3deb-cc44-4d7f-bd7c-d5f44ce51a6f",
   "metadata": {},
   "source": [
    "#### 3-2-2. Investigate `Moisture Percentage`"
   ]
  },
  {
   "cell_type": "code",
   "execution_count": 16,
   "id": "d7b3826c-99b4-473a-a109-82911e8477c9",
   "metadata": {},
   "outputs": [
    {
     "name": "stdout",
     "output_type": "stream",
     "text": [
      "Number of outliers: 1\n",
      "      ID  Moisture Percentage\n",
      "125  125                  0.0\n"
     ]
    }
   ],
   "source": [
    "Q1 = df_handle_outliers['Moisture Percentage'].quantile(0.25)\n",
    "Q3 = df_handle_outliers['Moisture Percentage'].quantile(0.75)\n",
    "IQR = Q3 - Q1\n",
    "lower_bound = Q1 - 1.5 * IQR\n",
    "upper_bound = Q3 + 1.5 * IQR\n",
    "\n",
    "outliers_moistPct = df_handle_outliers[(df_handle_outliers['Moisture Percentage'] < lower_bound) | \n",
    "                                            (df_handle_outliers['Moisture Percentage'] > upper_bound)]\n",
    "print(\"Number of outliers:\", outliers_moistPct.shape[0])\n",
    "print(outliers_moistPct[['ID', 'Moisture Percentage']])"
   ]
  },
  {
   "cell_type": "markdown",
   "id": "50da6d5f-7b26-48a9-a4a2-8a4678bd49ee",
   "metadata": {},
   "source": [
    "Given the small dataset (207 rows), outright removal could lead to unnecessary data loss. A better approach may be to replace it with a reasonable value, such as:\n",
    "\n",
    "- **Mean** Moisture Percentage: The mean is a good choice if the data follows a normal distribution (bell-shaped). It retains the overall balance of the dataset\n",
    "- **Median** Moisture Percentage: The median is better when the data is skewed (e.g., right-skewed or left-skewed). It is robust to outliers, meaning extreme values won’t impact it much. This is usually the safest choice if the data isn’t normally distributed\n",
    "- **Mode** (Most Frequent Value): The mode is useful if Moisture Percentage has repeated values (e.g., most samples have the same moisture level). It’s good for categorical-like distributions but less common for continuous data\n",
    "\n",
    "Since this seems like an error rather than a natural outlier, replacing it with a reasonable estimate would maintain data integrity while avoiding distortions. We will first check the normality of the data here using the following visualization methods and statistical tests:\n",
    "\n",
    "- Visual methods (Histogram, Boxplot, QQ Plot) help spot skewness and outliers quickly\n",
    "- Statistical tests (Shapiro-Wilk for smaller dataset, Kolmogorov-Smirnov for larger ones) provide formal evidence for normality"
   ]
  },
  {
   "cell_type": "code",
   "execution_count": 17,
   "id": "d7b7408f-91cb-4610-bb13-91f977106706",
   "metadata": {},
   "outputs": [
    {
     "data": {
      "image/png": "[encoded data removed]",
      "text/plain": [
       "<Figure size 1200x600 with 1 Axes>"
      ]
     },
     "metadata": {},
     "output_type": "display_data"
    },
    {
     "data": {
      "image/png": "[encoded data removed]",
      "text/plain": [
       "<Figure size 800x400 with 1 Axes>"
      ]
     },
     "metadata": {},
     "output_type": "display_data"
    },
    {
     "data": {
      "image/png": "[encoded data removed]",
      "text/plain": [
       "<Figure size 600x600 with 1 Axes>"
      ]
     },
     "metadata": {},
     "output_type": "display_data"
    },
    {
     "name": "stdout",
     "output_type": "stream",
     "text": [
      "Shapiro-Wilk Test: p-value = 0.00000\n"
     ]
    }
   ],
   "source": [
    "# Histogram & KDE Plot\n",
    "plt.figure(figsize=(12, 6))\n",
    "sns.histplot(df_handle_outliers['Moisture Percentage'], kde=True, bins=20)\n",
    "plt.title('Distribution of Moisture Percentage')\n",
    "plt.show()\n",
    "\n",
    "# Box Plot\n",
    "plt.figure(figsize=(8, 4))\n",
    "sns.boxplot(x=df_handle_outliers['Moisture Percentage'])\n",
    "plt.title('Box Plot of Moisture Percentage')\n",
    "plt.show()\n",
    "\n",
    "# QQ Plot\n",
    "plt.figure(figsize=(6, 6))\n",
    "stats.probplot(df_handle_outliers['Moisture Percentage'], dist=\"norm\", plot=plt)\n",
    "plt.title('QQ Plot of Moisture Percentage')\n",
    "plt.show()\n",
    "\n",
    "# Shapiro-Wilk Test (Good for small datasets)\n",
    "shapiro_stat, shapiro_p = shapiro(df_handle_outliers['Moisture Percentage'])\n",
    "print(f'Shapiro-Wilk Test: p-value = {shapiro_p:.5f}')\n",
    "\n",
    "# Kolmogorov-Smirnov Test (For larger dataset)\n",
    "# ks_stat, ks_p = kstest(df_handle_outliers['Moisture Percentage'], 'norm')\n",
    "# print(f'Kolmogorov-Smirnov Test: p-value = {ks_p:.5f}')"
   ]
  },
  {
   "cell_type": "markdown",
   "id": "981147a8-3430-450e-9f1e-dbada7be000d",
   "metadata": {},
   "source": [
    "The histogram forms a bell-shaped curve and the QQ plot aligns with the diagonal, the data is likely normal. Also, the boxplot is symmetrical with few outliers, it supports the normality hypothesis. For the statistical testing using Shapiro-Wilk test, p-value is ≤ 0.05, it rejects normality (data is likely not normal).\n",
    "\n",
    "There is a conflict between visual inspections and the statistical test. We will use the **median** to be on the safe side. Since the normality test failed, this suggests potential mild skewness or outliers, and median is less affected by these issues."
   ]
  },
  {
   "cell_type": "code",
   "execution_count": 18,
   "id": "290923f7-1926-4f2a-a92e-917d3bca9a62",
   "metadata": {},
   "outputs": [
    {
     "name": "stdout",
     "output_type": "stream",
     "text": [
      "Number of outliers: 0\n",
      "Empty DataFrame\n",
      "Columns: [ID, Moisture Percentage]\n",
      "Index: []\n",
      "Total rows: 205\n"
     ]
    }
   ],
   "source": [
    "median_value = df_handle_outliers['Moisture Percentage'].median()\n",
    "df_handle_outliers.loc[:, 'Moisture Percentage'] = df_handle_outliers['Moisture Percentage'].replace(0.0, median_value)\n",
    "\n",
    "# Double check if the outlier is modified\n",
    "Q1 = df_handle_outliers['Moisture Percentage'].quantile(0.25)\n",
    "Q3 = df_handle_outliers['Moisture Percentage'].quantile(0.75)\n",
    "IQR = Q3 - Q1\n",
    "lower_bound = Q1 - 1.5 * IQR\n",
    "upper_bound = Q3 + 1.5 * IQR\n",
    "\n",
    "outliers_moistPct = df_handle_outliers[(df_handle_outliers['Moisture Percentage'] < lower_bound) | \n",
    "                                            (df_handle_outliers['Moisture Percentage'] > upper_bound)]\n",
    "print(\"Number of outliers:\", outliers_moistPct.shape[0])\n",
    "print(outliers_moistPct[['ID', 'Moisture Percentage']])\n",
    "\n",
    "print(\"Total rows:\", df_handle_outliers.shape[0])"
   ]
  },
  {
   "cell_type": "markdown",
   "id": "aa0a2556-13d0-416c-8b96-b610f885dff0",
   "metadata": {},
   "source": [
    "#### 3-2-3. Investigate `Quakers`"
   ]
  },
  {
   "cell_type": "code",
   "execution_count": 19,
   "id": "72b90f86-8832-4ba5-95cc-2496e4a9db47",
   "metadata": {},
   "outputs": [
    {
     "name": "stdout",
     "output_type": "stream",
     "text": [
      "Number of outliers: 16\n",
      "      ID  Quakers\n",
      "13    13        3\n",
      "34    34        3\n",
      "48    48        3\n",
      "51    51        3\n",
      "60    60        3\n",
      "76    76        5\n",
      "83    83        3\n",
      "101  101        5\n",
      "102  102        3\n",
      "165  165        7\n",
      "195  195        8\n",
      "198  198        3\n",
      "199  199        6\n",
      "200  200       10\n",
      "204  204        9\n",
      "205  205       12\n"
     ]
    }
   ],
   "source": [
    "Q1 = df_handle_outliers['Quakers'].quantile(0.25)\n",
    "Q3 = df_handle_outliers['Quakers'].quantile(0.75)\n",
    "IQR = Q3 - Q1\n",
    "lower_bound = Q1 - 1.5 * IQR\n",
    "upper_bound = Q3 + 1.5 * IQR\n",
    "\n",
    "outliers_quakers = df_handle_outliers[(df_handle_outliers['Quakers'] < lower_bound) | \n",
    "                                    (df_handle_outliers['Quakers'] > upper_bound)]\n",
    "print(\"Number of outliers:\", outliers_quakers.shape[0])\n",
    "print(outliers_quakers[['ID', 'Quakers']])"
   ]
  },
  {
   "cell_type": "markdown",
   "id": "b2f4541d-bad4-4e37-9b63-682671c8aa06",
   "metadata": {},
   "source": [
    "We identified several outliers in the `Quakers` feature, with values ranging from 3 to 12. These values are notably higher than the typical range and could represent either data errors or legitimate extreme cases. Instead of removing these outliers immediately, we will flag them for further review during the EDA stage (similar to `Number of Bags`). This will allow us to better understand their context and impact, and make an informed decision on whether they should be excluded, adjusted, or kept as-is for further analysis."
   ]
  },
  {
   "cell_type": "code",
   "execution_count": 20,
   "id": "89049739-50aa-46cc-acd8-b60340f676ad",
   "metadata": {},
   "outputs": [
    {
     "name": "stdout",
     "output_type": "stream",
     "text": [
      "Total rows: 205\n",
      "Number of outliers: 16\n",
      "      ID  Quakers  Outlier_Flag_Quakers\n",
      "0      0        0                 False\n",
      "1      1        0                 False\n",
      "2      2        0                 False\n",
      "3      3        0                 False\n",
      "4      4        2                 False\n",
      "..   ...      ...                   ...\n",
      "201  201        1                 False\n",
      "203  203        2                 False\n",
      "204  204        9                  True\n",
      "205  205       12                  True\n",
      "206  206        0                 False\n",
      "\n",
      "[205 rows x 3 columns]\n"
     ]
    }
   ],
   "source": [
    "# Flag outliers\n",
    "df_handle_outliers = df_handle_outliers.copy()  # Make sure it's a copy of the DataFrame\n",
    "df_handle_outliers.loc[:, 'Outlier_Flag_Quakers'] = df_handle_outliers['Quakers'].apply(\n",
    "    lambda x: True if x < lower_bound or x > upper_bound else False)\n",
    "\n",
    "# Inspect flagged rows\n",
    "print(\"Total rows:\", df_handle_outliers.shape[0])\n",
    "print(\"Number of outliers:\", outliers_quakers.shape[0])\n",
    "print(df_handle_outliers[['ID', 'Quakers', 'Outlier_Flag_Quakers']])"
   ]
  },
  {
   "cell_type": "code",
   "execution_count": 21,
   "id": "b9091c15-5a2d-42e6-88df-af0fe7ac6b63",
   "metadata": {},
   "outputs": [],
   "source": [
    "df_outliers_handled = df_handle_outliers"
   ]
  },
  {
   "cell_type": "markdown",
   "id": "106b97b2-3191-483b-a75d-67eaa150c94e",
   "metadata": {},
   "source": [
    "### 3-3. Address Missing Values\n",
    "\n",
    "Once duplicates are confirmed as handled, we can identify missing values using the `isnull()` function. Missing values are addressed after duplicates to prevent skewing the data. Depending on the context, we can either remove rows with missing values or impute them—using the median for numerical columns and the mode for categorical ones. This ensures the dataset is ready for the next step: standardizing formats."
   ]
  },
  {
   "cell_type": "code",
   "execution_count": 22,
   "id": "939938c9-9f16-4ec5-bac3-783d8afcd5b7",
   "metadata": {},
   "outputs": [],
   "source": [
    "df_adjust_missing = df_outliers_handled"
   ]
  },
  {
   "cell_type": "code",
   "execution_count": 23,
   "id": "77583eb1-f12b-47d5-8a26-e419a751ae80",
   "metadata": {},
   "outputs": [
    {
     "name": "stdout",
     "output_type": "stream",
     "text": [
      "Farm Name              2\n",
      "Lot Number             1\n",
      "Mill                   3\n",
      "ICO Number           130\n",
      "Altitude               1\n",
      "Region                 2\n",
      "Producer               1\n",
      "Variety                6\n",
      "Processing Method      5\n",
      "dtype: int64\n",
      "# of variables that has missing values:  9\n"
     ]
    }
   ],
   "source": [
    "null_counts = df_adjust_missing.isnull().sum() # Count missing values per column\n",
    "# print(null_counts)\n",
    "\n",
    "null_col_counts = null_counts[null_counts > 0] # Columns with missing values (+ counts)\n",
    "print(null_col_counts)\n",
    "print(\"# of variables that has missing values: \", null_col_counts.count())"
   ]
  },
  {
   "cell_type": "code",
   "execution_count": 24,
   "id": "31e84d7b-ef67-4fde-b39d-399f1f00ab60",
   "metadata": {},
   "outputs": [
    {
     "data": {
      "text/html": [
       "<div>\n",
       "<style scoped>\n",
       "    .dataframe tbody tr th:only-of-type {\n",
       "        vertical-align: middle;\n",
       "    }\n",
       "\n",
       "    .dataframe tbody tr th {\n",
       "        vertical-align: top;\n",
       "    }\n",
       "\n",
       "    .dataframe thead th {\n",
       "        text-align: right;\n",
       "    }\n",
       "</style>\n",
       "<table border=\"1\" class=\"dataframe\">\n",
       "  <thead>\n",
       "    <tr style=\"text-align: right;\">\n",
       "      <th></th>\n",
       "      <th>Missing Ratio (%)</th>\n",
       "    </tr>\n",
       "  </thead>\n",
       "  <tbody>\n",
       "    <tr>\n",
       "      <th>ICO Number</th>\n",
       "      <td>63.41</td>\n",
       "    </tr>\n",
       "    <tr>\n",
       "      <th>Variety</th>\n",
       "      <td>2.93</td>\n",
       "    </tr>\n",
       "    <tr>\n",
       "      <th>Processing Method</th>\n",
       "      <td>2.44</td>\n",
       "    </tr>\n",
       "    <tr>\n",
       "      <th>Mill</th>\n",
       "      <td>1.46</td>\n",
       "    </tr>\n",
       "    <tr>\n",
       "      <th>Farm Name</th>\n",
       "      <td>0.98</td>\n",
       "    </tr>\n",
       "    <tr>\n",
       "      <th>Region</th>\n",
       "      <td>0.98</td>\n",
       "    </tr>\n",
       "    <tr>\n",
       "      <th>Lot Number</th>\n",
       "      <td>0.49</td>\n",
       "    </tr>\n",
       "    <tr>\n",
       "      <th>Altitude</th>\n",
       "      <td>0.49</td>\n",
       "    </tr>\n",
       "    <tr>\n",
       "      <th>Producer</th>\n",
       "      <td>0.49</td>\n",
       "    </tr>\n",
       "  </tbody>\n",
       "</table>\n",
       "</div>"
      ],
      "text/plain": [
       "                   Missing Ratio (%)\n",
       "ICO Number                     63.41\n",
       "Variety                         2.93\n",
       "Processing Method               2.44\n",
       "Mill                            1.46\n",
       "Farm Name                       0.98\n",
       "Region                          0.98\n",
       "Lot Number                      0.49\n",
       "Altitude                        0.49\n",
       "Producer                        0.49"
      ]
     },
     "execution_count": 24,
     "metadata": {},
     "output_type": "execute_result"
    }
   ],
   "source": [
    "data_null_cols = (null_col_counts/ len(df_adjust_missing)) * 100 # Missing ratio per column\n",
    "data_null_cols = data_null_cols.sort_values(ascending=False)\n",
    "\n",
    "missing_data = pd.DataFrame({'Missing Ratio (%)' : data_null_cols.round(2)})\n",
    "missing_data.head(null_col_counts.count()) "
   ]
  },
  {
   "cell_type": "markdown",
   "id": "a34c7ccb-57e1-469c-9b13-aa639fae44b8",
   "metadata": {},
   "source": [
    "All missing values in this dataset are in categorical variables. As noted in Section 2-1, we don’t need to adjust the `ICO Number`. For the other columns with moderate to low missing ratios (2.9% and lower), imputing missing values with the mode (most frequent value) for each categorical variable is a reasonable and effective approach. Given that many of these columns have very low missing ratios (<1%), this imputation should not significantly impact the analysis."
   ]
  },
  {
   "cell_type": "code",
   "execution_count": 25,
   "id": "4db6fda9-7103-4b56-b2ca-f85054b91c5b",
   "metadata": {},
   "outputs": [
    {
     "name": "stdout",
     "output_type": "stream",
     "text": [
      "     ID  Count\n",
      "0    25      1\n",
      "1    97      2\n",
      "2   105      8\n",
      "3   177      1\n",
      "4   178      1\n",
      "5   194      1\n",
      "6    23      1\n",
      "7    44      1\n",
      "8    51      1\n",
      "9   143      1\n",
      "10   74      1\n",
      "11   98      1\n",
      "12  196      1\n"
     ]
    }
   ],
   "source": [
    "missing_ids_variety = df_adjust_missing.loc[df_adjust_missing['Variety'].isna(), 'ID'].tolist()\n",
    "missing_ids_proc = df_adjust_missing.loc[df_adjust_missing['Processing Method'].isna(), 'ID'].tolist()\n",
    "missing_ids_mill = df_adjust_missing.loc[df_adjust_missing['Mill'].isna(), 'ID'].tolist()\n",
    "missing_ids_farm = df_adjust_missing.loc[df_adjust_missing['Farm Name'].isna(), 'ID'].tolist()\n",
    "missing_ids_region = df_adjust_missing.loc[df_adjust_missing['Region'].isna(), 'ID'].tolist()\n",
    "missing_ids_lotnum = df_adjust_missing.loc[df_adjust_missing['Lot Number'].isna(), 'ID'].tolist()\n",
    "missing_ids_alti = df_adjust_missing.loc[df_adjust_missing['Altitude'].isna(), 'ID'].tolist()\n",
    "missing_ids_prod = df_adjust_missing.loc[df_adjust_missing['Producer'].isna(), 'ID'].tolist()\n",
    "\n",
    "# Combine all lists into one\n",
    "all_ids = (missing_ids_variety + missing_ids_proc + missing_ids_mill + \n",
    "missing_ids_farm + missing_ids_region + missing_ids_lotnum + \n",
    "missing_ids_alti + missing_ids_prod)\n",
    "\n",
    "# Count occurrences\n",
    "# from collections import Counter\n",
    "id_counts = Counter(all_ids)\n",
    "\n",
    "# Convert to DataFrame\n",
    "df_missing_id = pd.DataFrame(list(id_counts.items()), columns=['ID', 'Count'])\n",
    "print(df_missing_id)"
   ]
  },
  {
   "cell_type": "markdown",
   "id": "020bca05-3a4e-409d-806a-2b9dd3520741",
   "metadata": {},
   "source": [
    "We have identified that `ID` #105 has 8 missing values across categorical variables, which is significant enough to warrant removal. Therefore, this row will be excluded from the dataset. For the remaining rows with missing values in categorical variables, the missing values will be replaced with the mode. This approach ensures minimal impact on the analysis, as the missing ratios for these variables are relatively low, and using the mode preserves the general distribution of the data without introducing significant bias."
   ]
  },
  {
   "cell_type": "code",
   "execution_count": 26,
   "id": "96c552e9-3e34-4287-97b4-434012affa88",
   "metadata": {},
   "outputs": [
    {
     "name": "stdout",
     "output_type": "stream",
     "text": [
      "(204, 41)\n"
     ]
    }
   ],
   "source": [
    "df_adjust_missing = df_adjust_missing[df_adjust_missing['ID'] != 105]\n",
    "print(df_adjust_missing.shape)"
   ]
  },
  {
   "cell_type": "code",
   "execution_count": 27,
   "id": "fd881ac2-5525-4993-8a33-0e0d9392ede8",
   "metadata": {},
   "outputs": [],
   "source": [
    "df_adjust_missing.loc[:, 'Variety'] = df_adjust_missing['Variety'].fillna(df['Variety'].mode()[0])\n",
    "df_adjust_missing.loc[:, 'Processing Method'] = df_adjust_missing['Processing Method'].fillna(df['Processing Method'].mode()[0])\n",
    "df_adjust_missing.loc[:, 'Mill'] = df_adjust_missing['Mill'].fillna(df['Mill'].mode()[0])\n",
    "df_adjust_missing.loc[:, 'Farm Name'] = df_adjust_missing['Farm Name'].fillna(df['Farm Name'].mode()[0])\n",
    "df_adjust_missing.loc[:, 'Region'] = df_adjust_missing['Region'].fillna(df['Region'].mode()[0])\n",
    "df_adjust_missing.loc[:, 'Lot Number'] = df_adjust_missing['Lot Number'].fillna(df['Lot Number'].mode()[0])\n",
    "df_adjust_missing.loc[:, 'Altitude'] = df_adjust_missing['Altitude'].fillna(df['Altitude'].mode()[0])\n",
    "df_adjust_missing.loc[:, 'Producer'] = df_adjust_missing['Producer'].fillna(df['Producer'].mode()[0])"
   ]
  },
  {
   "cell_type": "code",
   "execution_count": 28,
   "id": "15d28461-191e-4ac9-a3ef-f049dd701437",
   "metadata": {},
   "outputs": [
    {
     "name": "stdout",
     "output_type": "stream",
     "text": [
      "Empty DataFrame\n",
      "Columns: [ID, Count]\n",
      "Index: []\n"
     ]
    }
   ],
   "source": [
    "# Double check if everything is modified\n",
    "missing_ids_variety = df_adjust_missing.loc[df_adjust_missing['Variety'].isna(), 'ID'].tolist()\n",
    "missing_ids_proc = df_adjust_missing.loc[df_adjust_missing['Processing Method'].isna(), 'ID'].tolist()\n",
    "missing_ids_mill = df_adjust_missing.loc[df_adjust_missing['Mill'].isna(), 'ID'].tolist()\n",
    "missing_ids_farm = df_adjust_missing.loc[df_adjust_missing['Farm Name'].isna(), 'ID'].tolist()\n",
    "missing_ids_region = df_adjust_missing.loc[df_adjust_missing['Region'].isna(), 'ID'].tolist()\n",
    "missing_ids_lotnum = df_adjust_missing.loc[df_adjust_missing['Lot Number'].isna(), 'ID'].tolist()\n",
    "missing_ids_alti = df_adjust_missing.loc[df_adjust_missing['Altitude'].isna(), 'ID'].tolist()\n",
    "missing_ids_prod = df_adjust_missing.loc[df_adjust_missing['Producer'].isna(), 'ID'].tolist()\n",
    "\n",
    "# Combine all lists into one\n",
    "all_ids = (missing_ids_variety + missing_ids_proc + missing_ids_mill + \n",
    "missing_ids_farm + missing_ids_region + missing_ids_lotnum + \n",
    "missing_ids_alti + missing_ids_prod)\n",
    "\n",
    "# Count occurrences\n",
    "id_counts = Counter(all_ids)\n",
    "\n",
    "# Convert to DataFrame\n",
    "df_missing_id = pd.DataFrame(list(id_counts.items()), columns=['ID', 'Count'])\n",
    "print(df_missing_id)"
   ]
  },
  {
   "cell_type": "markdown",
   "id": "e7e6c651-4cfb-4b24-8325-7bba13d104cf",
   "metadata": {},
   "source": [
    "Once the updates are checked, we can save the data frame as `df_missing_adjusted`."
   ]
  },
  {
   "cell_type": "code",
   "execution_count": 29,
   "id": "dab31012-958a-4c49-a7f5-e9da759d0b27",
   "metadata": {},
   "outputs": [],
   "source": [
    "df_missing_adjusted = df_adjust_missing"
   ]
  },
  {
   "cell_type": "markdown",
   "id": "2d53fb17-41d4-40e5-af34-7c5777a1ebf5",
   "metadata": {},
   "source": [
    "### 3-4. Standardize Data Formats\n",
    "\n",
    "To ensure consistency across the dataset, we standardize data formats for better analysis, visualization, and modeling. Key areas to address:\n",
    "\n",
    "- Removing Inconsistent Symbols/Spaces: Cleaning extra spaces, fixing typos, and replacing special characters if needed to maintain data integrity\n",
    "- Consistent Categorical Labels: Standardizing spelling, capitalization, and formats for categorical variables like `Country of Origin`, `Region`, `Variety`, `Processing Method`, `Mill`, `Color`, `Harvest Year`, `Company`, `In-Country Partner`, `Owner`, `Certification Body`\n",
    "- Numeric Format Standardization: Ensuring numeric fields maintain consistent decimal places or units. Although no major issues have been identified so far, the `Altitude` and `Bag Weight` variables are currently treated as categorical, but it might be more appropriate as a numerical variable. This requires further investigation\n",
    "- Date Standardization: Converting date fields like `Grading Date` and `Expiration` to a uniform format (e.g., YYYY-MM-DD) for consistency in time-based analysis\n",
    "\n",
    "\n",
    "\n",
    "We will mainly address the four key areas mentioned above and then perform a quick final check for consistency across all categorical and numerical variables."
   ]
  },
  {
   "cell_type": "markdown",
   "id": "23c8a67c-b5d3-4889-a31a-534eb0ef6051",
   "metadata": {},
   "source": [
    "#### 3-4-1. Column Names"
   ]
  },
  {
   "cell_type": "code",
   "execution_count": 30,
   "id": "5726111e-8f59-4e6a-a88b-356dafeeb5a3",
   "metadata": {},
   "outputs": [],
   "source": [
    "df_formatting = df_missing_adjusted"
   ]
  },
  {
   "cell_type": "code",
   "execution_count": 31,
   "id": "5c69d9db-9e68-457e-8bbd-5a891e9cdd47",
   "metadata": {},
   "outputs": [
    {
     "name": "stdout",
     "output_type": "stream",
     "text": [
      "Index(['ID', 'Country of Origin', 'Farm Name', 'Lot Number', 'Mill',\n",
      "       'ICO Number', 'Company', 'Altitude', 'Region', 'Producer',\n",
      "       'Number of Bags', 'Bag Weight', 'In-Country Partner', 'Harvest Year',\n",
      "       'Grading Date', 'Owner', 'Variety', 'Status', 'Processing Method',\n",
      "       'Aroma', 'Flavor', 'Aftertaste', 'Acidity', 'Body', 'Balance',\n",
      "       'Uniformity', 'Clean Cup', 'Sweetness', 'Overall', 'Defects',\n",
      "       'Total Cup Points', 'Moisture Percentage', 'Category One Defects',\n",
      "       'Quakers', 'Color', 'Category Two Defects', 'Expiration',\n",
      "       'Certification Body', 'Certification Address', 'Certification Contact',\n",
      "       'Outlier_Flag_Quakers'],\n",
      "      dtype='object')\n"
     ]
    }
   ],
   "source": [
    "# Print the actual column names in the DataFrame\n",
    "print(df_formatting.columns)\n",
    "# df_formatting.columns = df_formatting.columns.str.strip()  # Remove leading/trailing spaces if needed\n",
    "# df_formatting.columns = df_formatting.columns.str.title()  # Convert to title case if needed"
   ]
  },
  {
   "cell_type": "markdown",
   "id": "a26145ff-8d86-403f-9126-7fe298177fa5",
   "metadata": {},
   "source": [
    "Everything looks good, so we are ready to move forward with checking and standardizing the labels and values."
   ]
  },
  {
   "cell_type": "markdown",
   "id": "4a784fdc-b826-4f1a-84e6-b60f79f404ff",
   "metadata": {},
   "source": [
    "#### 3-4-2. Categorical & Numerical Labels\n",
    "\n"
   ]
  },
  {
   "cell_type": "code",
   "execution_count": 32,
   "id": "fab47ed8-5006-47c6-9dbf-764fcee225db",
   "metadata": {
    "scrolled": true
   },
   "outputs": [
    {
     "name": "stdout",
     "output_type": "stream",
     "text": [
      "Unique values in Country of Origin :\n",
      "['Colombia' 'Taiwan' 'Laos' 'Costa Rica' 'Guatemala'\n",
      " 'Tanzania, United Republic Of' 'Ethiopia' 'Thailand' 'Brazil'\n",
      " 'United States (Hawaii)' 'Kenya' 'Uganda' 'Indonesia' 'Peru' 'Panama'\n",
      " 'Nicaragua' 'Vietnam' 'Honduras' 'El Salvador' 'Madagascar' 'Mexico'\n",
      " 'Myanmar']\n",
      "\n",
      "Unique values in Region :\n",
      "['Piendamo,Cauca' 'Chiayi' 'Laos Borofen Plateau' 'Los Santos,Tarrazu'\n",
      " 'Popayan,Cauca' 'Chimaltenango' 'KILIMANJARO' 'Guji' 'Acatenango'\n",
      " 'Yunlin' 'tolima' 'Gedeb,Yirgacheffe,Sidamo'\n",
      " 'Shibi, Gukeng Township, Yunlin County 郵遞區號 , Taiwan (R.O.C.)'\n",
      " 'Gukeng Township, Yunlin County' 'Arusha'\n",
      " 'Guatemala, Fraijanes, Santa Rosa' '卓溪鄉Zhuoxi Township' 'Chiang Mai'\n",
      " 'Quindio' 'Região Vulcânica' 'Kona' '壽豐鄉Shoufeng Township'\n",
      " 'Dongshan Dist., Tainan City' 'Oromia' 'Southern Ethiopia Guji' 'OROMIA'\n",
      " 'Central' 'Caoling , Gukeng Township, Yunlin County'\n",
      " '秀林鄉Show Linxia Township' '台灣屏東' '苗栗縣' 'Rwenzori' 'Antigua' 'Santa Rosa'\n",
      " 'quiche' '新竹縣' 'Aceh Tengah' 'Villa Rica' 'Mbeya' 'Nantou'\n",
      " 'Campo das Vertentes' 'Boquete' 'Huehuetenango' 'ANTIGUA GUATEMALA'\n",
      " 'Tarrazu' '( Dongshan Dist., Tainan City)' 'ESTELI' 'Quang Tri'\n",
      " 'Centro, Lagunetillas-Ajuterique, Comayagua' 'Ethiopia'\n",
      " '玉里鎮Yuli Township' \"Ka'u district of Big Island\" 'Addis Ababa'\n",
      " 'Chalatenango' 'Sierra Nevada de Santa Marta'\n",
      " 'Lintong Nihuta/Dolok Sanggul,Sumatera Utara' 'Atitlán' 'Itasy' '新北市'\n",
      " 'Oriente Santa rosa' 'Sierra de las minas' 'San Andrés, Lempira' 'ARUSHA'\n",
      " 'Sidama' 'Huila' 'New Oriente' 'Nan' 'Pereira' 'HUEHUETENANGO' 'Cauca'\n",
      " \"Ka'u\" 'Tolima' 'Chiapas' 'South Shan State' 'San Jose, La Paz' 'QUICHE'\n",
      " 'Marcala' 'Popayán Cauca' 'North of Thailand' 'Suan Ya Lung' 'Mt Elgon'\n",
      " 'NEW ORIENTE & HUEHUETENANGO' '桃園市' 'Marcala, La Paz'\n",
      " 'Nongluang Bolaven Plateau, Champasack, Lao PDR'\n",
      " 'Centro, Lagunetillas - Ajuterique, Comayagua'\n",
      " 'Los Planes de Santa Maria, La Paz' 'HUILA' 'ZONGOLICA, VERACRUZ'\n",
      " 'Eatan Commune, Krong Nang District, Krong Nang Province' 'Matagalpa'\n",
      " 'west Villege' 'los planes de santa maria la paz' 'Apaneca - Ilamatepec'\n",
      " 'MANTIQUEIRA / SUL DE MINAS' 'Veracruz' 'Matagalpa, Nicaragua' 'Dalat'\n",
      " 'Chanchamayo, La Merced' 'Kona district of Big Island' 'Kericho'\n",
      " 'Corralillo Tarrazu' 'Oriente' 'Sumatra' 'Lam Dong Province'\n",
      " 'Mantiquira de minas' 'Sul de Minas' 'Santander' 'Coatepec, Veracruz'\n",
      " 'occidente' '臺北市' 'Chiang Rai' 'Alta Mogiana-Ibiraci'\n",
      " 'Volcan Chinchontepek, San Vicente, El Salvador' 'Jinotega'\n",
      " 'Caicedonia,Valle del Cauca' 'Chanchamayo, Lamerced' 'Bolaven Plateau'\n",
      " 'Volcan de San Vicente, La Paz, El Salvador' 'Minas Gerais']\n",
      "\n",
      "Unique values in Variety :\n",
      "['Castillo' 'Gesha' 'Java' 'Red Bourbon' 'Sl34+Gesha' 'SL34' 'Bourbon'\n",
      " 'Ethiopian Heirlooms' 'Caturra' 'Wolishalo,Kurume,Dega' 'Typica'\n",
      " 'Catimor' 'Castillo Paraguaycito' 'SL28' 'SL14' 'Catuai' 'Yellow Bourbon'\n",
      " 'Catrenic' 'unknown' 'Pacamara' 'Castillo and Colombia blend'\n",
      " 'Jember,TIM-TIM,Ateng' 'BOURBON, CATURRA Y CATIMOR' 'Bourbon Sidra'\n",
      " 'Sarchimor' 'Catimor,Catuai,Caturra,Bourbon' 'Parainema' 'SHG'\n",
      " 'Typica + SL34'\n",
      " 'MARSELLESA, CATUAI, CATURRA & MARSELLESA, ANACAFE 14, CATUAI'\n",
      " 'Red Bourbon,Caturra' 'Lempira' 'Typica Gesha' 'Gayo'\n",
      " 'Bourbon, Catimor, Caturra, Typica' 'unknow' 'Mundo Novo' 'Maragogype'\n",
      " 'Caturra-Catuai' 'SL28,SL34,Ruiru11' 'Yellow Catuai' 'Catucai'\n",
      " 'Santander' 'Typica Bourbon Caturra Catimor' 'Caturra,Colombia,Castillo'\n",
      " 'Castillo,Caturra,Bourbon' 'Pacas' 'Catuai and Mundo Novo']\n",
      "\n",
      "Unique values in Processing Method :\n",
      "['Double Anaerobic Washed' 'Washed / Wet' 'Semi Washed' 'Honey,Mossto'\n",
      " 'Natural / Dry' 'Pulped natural / honey'\n",
      " 'Double Carbonic Maceration / Natural' 'Wet Hulling' 'Anaerobico 1000h'\n",
      " 'SEMI-LAVADO']\n",
      "\n"
     ]
    }
   ],
   "source": [
    "# Inspect unique values in categorical columns\n",
    "categorical_columns = ['Country of Origin', 'Region', 'Variety', 'Processing Method']\n",
    "for col in categorical_columns:\n",
    "    if col in df_formatting.columns:  # Check if column exists\n",
    "        print(\"Unique values in\", col, \":\")\n",
    "        print(df_formatting[col].unique())\n",
    "        print()\n",
    "    else:\n",
    "        print(col, \"column is not present in the DataFrame.\")\n"
   ]
  },
  {
   "cell_type": "markdown",
   "id": "db740b9c-67ea-43d1-a1b8-5eafafb47971",
   "metadata": {},
   "source": [
    "- `Country`\n",
    "\n",
    "    For better data consistency and readability, I will make the following updates:\n",
    "\n",
    "    -  Update \"Tanzania, United Republic Of\" to \"Tanzania\"\n",
    "    -  Shorten \"United States (Hawaii)\" to \"United States\""
   ]
  },
  {
   "cell_type": "code",
   "execution_count": 33,
   "id": "71fd8b5e-bc0f-4d70-9831-4ff2399257aa",
   "metadata": {},
   "outputs": [
    {
     "name": "stdout",
     "output_type": "stream",
     "text": [
      "['Colombia' 'Taiwan' 'Laos' 'Costa Rica' 'Guatemala' 'Tanzania' 'Ethiopia'\n",
      " 'Thailand' 'Brazil' 'United States' 'Kenya' 'Uganda' 'Indonesia' 'Peru'\n",
      " 'Panama' 'Nicaragua' 'Vietnam' 'Honduras' 'El Salvador' 'Madagascar'\n",
      " 'Mexico' 'Myanmar']\n"
     ]
    },
    {
     "data": {
      "text/plain": [
       "Country of Origin\n",
       "Taiwan           61\n",
       "Guatemala        21\n",
       "Colombia         18\n",
       "Honduras         13\n",
       "Thailand         12\n",
       "Ethiopia         11\n",
       "Costa Rica        8\n",
       "Brazil            8\n",
       "Nicaragua         7\n",
       "El Salvador       7\n",
       "Tanzania          6\n",
       "United States     5\n",
       "Mexico            4\n",
       "Peru              4\n",
       "Vietnam           4\n",
       "Laos              3\n",
       "Uganda            3\n",
       "Indonesia         3\n",
       "Kenya             2\n",
       "Panama            2\n",
       "Madagascar        1\n",
       "Myanmar           1\n",
       "Name: count, dtype: int64"
      ]
     },
     "execution_count": 33,
     "metadata": {},
     "output_type": "execute_result"
    }
   ],
   "source": [
    "df_formatting.loc[:, 'Country of Origin'] = df_formatting['Country of Origin'].replace({\n",
    "    'Tanzania, United Republic Of': 'Tanzania',\n",
    "    'United States (Hawaii)': 'United States'\n",
    "})\n",
    "\n",
    "print(df_formatting['Country of Origin'].unique())   # Check unique values to confirm updates\n",
    "df_formatting['Country of Origin'].value_counts()    # Check distribution"
   ]
  },
  {
   "cell_type": "markdown",
   "id": "43570719-41d2-4742-9ca4-be18b6a1028b",
   "metadata": {},
   "source": [
    "- `Region` - Categorized into `Region_New` based on `Country of Origin`\n",
    "\n",
    "  The `Region` column contains 120 unique values, with additional details available in the summary statistics (sections 2-3). While excluding this variable is an option, doing so would result in the loss of potentially valuable geographic insights. Instead, grouping regions into broader categories based on `Country of Origin` provides a more structured and meaningful way to retain regional patterns while reducing complexity. To achieve this, I will group them as `Region_New`."
   ]
  },
  {
   "cell_type": "code",
   "execution_count": 34,
   "id": "21559e64-db0b-4146-bfb9-faeadac062c9",
   "metadata": {},
   "outputs": [
    {
     "data": {
      "text/plain": [
       "Region\n",
       "Chiayi                        13\n",
       "新竹縣                           11\n",
       "Yunlin                         7\n",
       "North of Thailand              7\n",
       "苗栗縣                            7\n",
       "                              ..\n",
       "Chimaltenango                  1\n",
       "Jinotega                       1\n",
       "Caicedonia,Valle del Cauca     1\n",
       "Chanchamayo, Lamerced          1\n",
       "Bolaven Plateau                1\n",
       "Name: count, Length: 120, dtype: int64"
      ]
     },
     "execution_count": 34,
     "metadata": {},
     "output_type": "execute_result"
    }
   ],
   "source": [
    "df_formatting['Region'].value_counts()"
   ]
  },
  {
   "cell_type": "code",
   "execution_count": 35,
   "id": "aa91df40-7700-4531-b432-ffb8a232b56f",
   "metadata": {},
   "outputs": [
    {
     "name": "stdout",
     "output_type": "stream",
     "text": [
      "  Country of Origin Region_New\n",
      "0          Colombia   Americas\n",
      "1            Taiwan       Asia\n",
      "2              Laos       Asia\n",
      "3        Costa Rica   Americas\n",
      "4          Colombia   Americas\n"
     ]
    },
    {
     "data": {
      "text/plain": [
       "Region_New\n",
       "Americas    97\n",
       "Asia        84\n",
       "Africa      23\n",
       "Name: count, dtype: int64"
      ]
     },
     "execution_count": 35,
     "metadata": {},
     "output_type": "execute_result"
    }
   ],
   "source": [
    "# Define grouping logic \n",
    "region_mapping = {\n",
    "    'Americas': ['United States', 'Costa Rica', 'Guatemala', 'Panama', 'Honduras', \n",
    "                 'El Salvador', 'Nicaragua', 'Mexico', 'Colombia', 'Brazil', 'Peru'],\n",
    "    'Africa': ['Tanzania', 'Kenya', 'Uganda', 'Ethiopia', 'Madagascar'],\n",
    "    'Asia': ['Taiwan', 'Laos', 'Thailand', 'Indonesia', 'Vietnam', 'Myanmar']\n",
    "}\n",
    "\n",
    "# Function to map country to region\n",
    "def map_region(country):\n",
    "    for region, countries in region_mapping.items():\n",
    "        if country in countries:\n",
    "            return region\n",
    "    return 'Other'  # If country is not in the defined categories\n",
    "\n",
    "# Apply the map_region function \n",
    "df_formatting = df_formatting.copy()  # Ensure it's a copy before modifying\n",
    "df_formatting.loc[:, 'Region_New'] = df_formatting['Country of Origin'].apply(map_region)\n",
    "\n",
    "# Display the first few rows to verify\n",
    "print(df_formatting[['Country of Origin', 'Region_New']].head())\n",
    "\n",
    "# Display counts to check distribution\n",
    "df_formatting['Region_New'].value_counts()"
   ]
  },
  {
   "cell_type": "markdown",
   "id": "423ec64d-8986-4bf3-b650-8ccc55d1f6f0",
   "metadata": {},
   "source": [
    "- `Variety`\n",
    "\n",
    "    There are 48 unique entries in total, including a mix of single varieties, blends, and 13 entries labeled as 'unknown'/'unknow'. Grouping these entries would be challenging, as it may either lose important information or require arbitrary splits. The only adjustment will be made for now is correcting the typo \"unknow\" to \"unknown,\" resulting in 47 unique values. Regrouping still remains complex and may require revisiting during analysis."
   ]
  },
  {
   "cell_type": "code",
   "execution_count": 36,
   "id": "a30149c7-babf-4b48-b1c3-b72e573fd97b",
   "metadata": {},
   "outputs": [
    {
     "data": {
      "text/plain": [
       "Variety\n",
       "Caturra                                                         32\n",
       "Gesha                                                           27\n",
       "Typica                                                          23\n",
       "Bourbon                                                         17\n",
       "Catuai                                                          12\n",
       "unknown                                                         12\n",
       "Catimor                                                         11\n",
       "Ethiopian Heirlooms                                              9\n",
       "SL34                                                             8\n",
       "SL14                                                             3\n",
       "Yellow Bourbon                                                   3\n",
       "Java                                                             3\n",
       "SHG                                                              3\n",
       "Pacamara                                                         2\n",
       "SL28                                                             2\n",
       "Sarchimor                                                        2\n",
       "Mundo Novo                                                       2\n",
       "Parainema                                                        2\n",
       "Maragogype                                                       2\n",
       "Castillo Paraguaycito                                            1\n",
       "Castillo                                                         1\n",
       "Wolishalo,Kurume,Dega                                            1\n",
       "Red Bourbon                                                      1\n",
       "Sl34+Gesha                                                       1\n",
       "Bourbon Sidra                                                    1\n",
       "BOURBON, CATURRA Y CATIMOR                                       1\n",
       "Jember,TIM-TIM,Ateng                                             1\n",
       "Catimor,Catuai,Caturra,Bourbon                                   1\n",
       "Typica + SL34                                                    1\n",
       "MARSELLESA, CATUAI, CATURRA & MARSELLESA, ANACAFE 14, CATUAI     1\n",
       "Castillo and Colombia blend                                      1\n",
       "Catrenic                                                         1\n",
       "Lempira                                                          1\n",
       "Red Bourbon,Caturra                                              1\n",
       "Typica Gesha                                                     1\n",
       "Gayo                                                             1\n",
       "unknow                                                           1\n",
       "Bourbon, Catimor, Caturra, Typica                                1\n",
       "Caturra-Catuai                                                   1\n",
       "SL28,SL34,Ruiru11                                                1\n",
       "Yellow Catuai                                                    1\n",
       "Catucai                                                          1\n",
       "Santander                                                        1\n",
       "Typica Bourbon Caturra Catimor                                   1\n",
       "Caturra,Colombia,Castillo                                        1\n",
       "Castillo,Caturra,Bourbon                                         1\n",
       "Pacas                                                            1\n",
       "Catuai and Mundo Novo                                            1\n",
       "Name: count, dtype: int64"
      ]
     },
     "execution_count": 36,
     "metadata": {},
     "output_type": "execute_result"
    }
   ],
   "source": [
    "df_formatting['Variety'].value_counts()"
   ]
  },
  {
   "cell_type": "code",
   "execution_count": 37,
   "id": "d9369620-6be3-4674-aacb-6d9c7a2a0fe7",
   "metadata": {},
   "outputs": [
    {
     "data": {
      "text/plain": [
       "Variety\n",
       "unknown    13\n",
       "Name: count, dtype: int64"
      ]
     },
     "execution_count": 37,
     "metadata": {},
     "output_type": "execute_result"
    }
   ],
   "source": [
    "df_formatting['Variety'] = df_formatting['Variety'].replace('unknow', 'unknown')\n",
    "\n",
    "df_formatting['Variety'].value_counts().loc[['unknown']] #Check updates"
   ]
  },
  {
   "cell_type": "markdown",
   "id": "0366a001-4a95-4d4b-9f07-d664b945a90e",
   "metadata": {},
   "source": [
    "- `Processing Method` - Categorized into `Processing_Method_New` \n",
    "\n",
    "    There are 10 unique entries in total. The top categories are dominated by: Washed / Wet (128), Natural / Dry (46), Pulped natural / honey (25), while many of them (7 out of 10) have only a single instance each. The current categories mix general processing methods with specific fermentation techniques, causing inconsistencies. To enhance clarity and structure, I will group them into broader, standardized categories as `Processing_Method_New`.\n"
   ]
  },
  {
   "cell_type": "code",
   "execution_count": 38,
   "id": "c7270f9b-0dd1-41b4-8d37-1936fc719926",
   "metadata": {},
   "outputs": [
    {
     "data": {
      "text/plain": [
       "Processing Method\n",
       "Washed / Wet                            128\n",
       "Natural / Dry                            44\n",
       "Pulped natural / honey                   25\n",
       "Double Anaerobic Washed                   1\n",
       "Honey,Mossto                              1\n",
       "Semi Washed                               1\n",
       "Double Carbonic Maceration / Natural      1\n",
       "Wet Hulling                               1\n",
       "Anaerobico 1000h                          1\n",
       "SEMI-LAVADO                               1\n",
       "Name: count, dtype: int64"
      ]
     },
     "execution_count": 38,
     "metadata": {},
     "output_type": "execute_result"
    }
   ],
   "source": [
    "df_formatting['Processing Method'].value_counts()"
   ]
  },
  {
   "cell_type": "markdown",
   "id": "55475af6-b0f5-41e8-ab09-e04791637742",
   "metadata": {},
   "source": [
    "Here are the redefined groups:\n",
    "\n",
    "  - `Washed / Wet` (132):\n",
    "      - 'Washed / Wet' (128)\n",
    "      - 'Double Anaerobic Washed' (1)\n",
    "      - 'Semi Washed' (1), 'SEMI-LAVADO' (1): 'Semi Washed' and 'SEMI-LAVADO' (Spanish for semi-washed) involve partial washing after depulping, leaving some mucilage but aligning closer to washed (skin off, wet-processed) than natural or honey \n",
    "      - 'Wet Hulling' (1): Commonly used in Indonesia. A semi-washed coffee processing method, distinct from traditional washed processing\n",
    "  \n",
    "  - `Natural / Dry` (47):\n",
    "      - 'Natural / Dry' (46)\n",
    "      - 'Double Carbonic Maceration / Natural' (1)\n",
    "\n",
    "  - `Honey / Pulped Natural` (26):\n",
    "      - 'Pulped natural / honey' (25)\n",
    "      - 'Honey, Mossto' (1)\n",
    "\n",
    "  - `Other` (1):\n",
    "      - 'Anaerobico 1000h' (1): A specialty fermentation method that does not belong to the three main processing categories. Classified separately for analysis and modeling purposes\n",
    "\n"
   ]
  },
  {
   "cell_type": "code",
   "execution_count": 39,
   "id": "990998e0-c67e-431c-8f19-fe275ee3e142",
   "metadata": {},
   "outputs": [
    {
     "name": "stdout",
     "output_type": "stream",
     "text": [
      "         Processing Method   Processing_Method_New\n",
      "0  Double Anaerobic Washed            Washed / Wet\n",
      "1             Washed / Wet            Washed / Wet\n",
      "2              Semi Washed            Washed / Wet\n",
      "3             Washed / Wet            Washed / Wet\n",
      "4             Honey,Mossto  Honey / Pulped Natural\n"
     ]
    },
    {
     "data": {
      "text/plain": [
       "Processing_Method_New\n",
       "Washed / Wet              132\n",
       "Natural / Dry              45\n",
       "Honey / Pulped Natural     26\n",
       "Other                       1\n",
       "Name: count, dtype: int64"
      ]
     },
     "execution_count": 39,
     "metadata": {},
     "output_type": "execute_result"
    }
   ],
   "source": [
    "# Define grouping logic \n",
    "method_mapping = {\n",
    "    'Washed / Wet': ['Washed / Wet', 'Double Anaerobic Washed', 'Semi Washed', 'SEMI-LAVADO', 'Wet Hulling'],\n",
    "    'Natural / Dry': ['Natural / Dry', 'Double Carbonic Maceration / Natural'],\n",
    "    'Honey / Pulped Natural': ['Pulped natural / honey', 'Honey,Mossto'],\n",
    "    'Other': ['Anaerobico 1000h']\n",
    "}\n",
    "\n",
    "# Function to map processing method\n",
    "def map_method(method):\n",
    "    for updated_method, methods in method_mapping.items():\n",
    "        if method in methods:\n",
    "            return updated_method\n",
    "    return 'Other'  # If method is not in the defined categories\n",
    "\n",
    "# Apply the map_method function \n",
    "df_formatting = df_formatting.copy()  # Ensure it's a copy before modifying\n",
    "df_formatting.loc[:, 'Processing_Method_New'] = df_missing_adjusted['Processing Method'].apply(map_method)\n",
    "\n",
    "# Display the first few rows to verify\n",
    "print(df_formatting[['Processing Method', 'Processing_Method_New']].head())\n",
    "\n",
    "# Display counts to check distribution\n",
    "df_formatting['Processing_Method_New'].value_counts()"
   ]
  },
  {
   "cell_type": "markdown",
   "id": "d876bd48-40f3-4945-8bb9-239736f01624",
   "metadata": {},
   "source": [
    "- `Mill`\n",
    "\n",
    "    There are 162 unique entries in total. No adjustments for now, and this may be excluded from analysis as it does not provide significant insights."
   ]
  },
  {
   "cell_type": "code",
   "execution_count": 40,
   "id": "8a9689a5-4f01-4115-8890-45c4ce42656a",
   "metadata": {},
   "outputs": [
    {
     "data": {
      "text/plain": [
       "Mill\n",
       "Dry Mill                                     12\n",
       "yes                                           5\n",
       "GOURMET COFFEE MILL                           4\n",
       "Optimum Coffee, San Salvador, El Salvador     3\n",
       "Agua Caliente                                 3\n",
       "                                             ..\n",
       "Beneficio La Giorgia                          1\n",
       "橫鹿                                            1\n",
       "大屯29莊園                                        1\n",
       "Miramar Coffee                                1\n",
       "Finca El Paraiso                              1\n",
       "Name: count, Length: 162, dtype: int64"
      ]
     },
     "execution_count": 40,
     "metadata": {},
     "output_type": "execute_result"
    }
   ],
   "source": [
    "df_formatting['Mill'].value_counts()"
   ]
  },
  {
   "cell_type": "markdown",
   "id": "f652a2b3-aa7f-44c3-9bc3-85537af08089",
   "metadata": {},
   "source": [
    "- `Color`\n",
    "\n",
    "    There seems to be 9 unique values with the following required updates:\n",
    "    - \"yellow green\", \"yellow- green\", \"yello-green\" should be updated to \"yellow-green\"\n",
    "    - \"browish-green\" should be updated to \"brownish-green\""
   ]
  },
  {
   "cell_type": "code",
   "execution_count": 41,
   "id": "ba6d820e-286f-4dc6-958d-9e09430ba4fd",
   "metadata": {},
   "outputs": [
    {
     "name": "stdout",
     "output_type": "stream",
     "text": [
      "Color\n",
      "green            99\n",
      "greenish         35\n",
      "bluish-green     21\n",
      "blue-green       12\n",
      "yellow-green     10\n",
      "brownish          9\n",
      "pale yellow       6\n",
      "yellow green      5\n",
      "yellowish         4\n",
      "yellow- green     1\n",
      "browish-green     1\n",
      "yello-green       1\n",
      "Name: count, dtype: int64\n",
      "12\n"
     ]
    }
   ],
   "source": [
    "print(df_formatting['Color'].value_counts())\n",
    "print(len(df_formatting['Color'].value_counts()))"
   ]
  },
  {
   "cell_type": "code",
   "execution_count": 42,
   "id": "3d9fa2e7-5cdf-4989-a8c9-d46674030c45",
   "metadata": {},
   "outputs": [
    {
     "data": {
      "text/plain": [
       "Color\n",
       "yellow-green      17\n",
       "brownish-green     1\n",
       "Name: count, dtype: int64"
      ]
     },
     "execution_count": 42,
     "metadata": {},
     "output_type": "execute_result"
    }
   ],
   "source": [
    "df_formatting['Color'] = df_formatting['Color'].replace({\n",
    "    'browish-green': 'brownish-green',\n",
    "    'yellow green': 'yellow-green',\n",
    "    'yellow- green': 'yellow-green',\n",
    "    'yello-green': 'yellow-green'\n",
    "})\n",
    "\n",
    "df_formatting['Color'].value_counts().loc[['yellow-green', 'brownish-green']] #Check updates"
   ]
  },
  {
   "cell_type": "markdown",
   "id": "f07146e4-ccc5-4a90-bf64-3ac8ed76f9b8",
   "metadata": {},
   "source": [
    "- `Harvest Year`\n",
    "\n",
    "    Since the counts for \"2017/2018\" and \"2018/2019\" are quite low (1 each) compared to the total (206), it'd be better to exclude these years to focus on the more recent data and trends moving forward. After removing them, we are left with 5 unique values."
   ]
  },
  {
   "cell_type": "code",
   "execution_count": 43,
   "id": "633af958-04dd-48db-a027-af4a658782c5",
   "metadata": {},
   "outputs": [
    {
     "name": "stdout",
     "output_type": "stream",
     "text": [
      "Harvest Year\n",
      "2021 / 2022    99\n",
      "2022           47\n",
      "2022 / 2023    40\n",
      "2021           13\n",
      "2023            3\n",
      "2017 / 2018     1\n",
      "2018 / 2019     1\n",
      "Name: count, dtype: int64\n",
      "7\n"
     ]
    }
   ],
   "source": [
    "print(df_formatting['Harvest Year'].value_counts())\n",
    "print(len(df_formatting['Harvest Year'].value_counts()))"
   ]
  },
  {
   "cell_type": "code",
   "execution_count": 44,
   "id": "26b94c28-fc26-439b-99d9-67c0671a0b7b",
   "metadata": {},
   "outputs": [
    {
     "name": "stdout",
     "output_type": "stream",
     "text": [
      "Harvest Year\n",
      "2021           13\n",
      "2021 / 2022    99\n",
      "2022           47\n",
      "2022 / 2023    40\n",
      "2023            3\n",
      "Name: count, dtype: int64\n",
      "5\n"
     ]
    }
   ],
   "source": [
    "# Calculate the count of each Harvest Year\n",
    "harvest_year_counts = df_formatting['Harvest Year'].value_counts()\n",
    "\n",
    "# Filter out rows where the Harvest Year count is 1\n",
    "df_formatting = df_formatting[~df_formatting['Harvest Year'].isin(harvest_year_counts[harvest_year_counts == 1].index)]\n",
    "\n",
    "# Check the updated Harvest Year distribution\n",
    "print(df_formatting['Harvest Year'].value_counts().sort_index())\n",
    "print(len(df_formatting['Harvest Year'].value_counts()))"
   ]
  },
  {
   "cell_type": "markdown",
   "id": "6ca7e55f-2007-49e3-aeef-9b00d83809f7",
   "metadata": {},
   "source": [
    "- `Company`\n",
    "\n",
    "    There are 71 unique entries in total. No adjustments for now, and this may be excluded from analysis as it does not provide significant insights."
   ]
  },
  {
   "cell_type": "code",
   "execution_count": 45,
   "id": "e46f8bc3-dfef-4fdb-a9f0-a59e4b596489",
   "metadata": {},
   "outputs": [
    {
     "data": {
      "text/plain": [
       "Company\n",
       "Taiwan Coffee Laboratory         51\n",
       "Taiwu Coffee Cooperative         25\n",
       "Coffee Quality Union             15\n",
       "Doi Tung Development Project      7\n",
       "Peter Schoenfeld, S.A.            6\n",
       "                                 ..\n",
       "Grupo ECOM                        1\n",
       "Alo Coffee                        1\n",
       "TADESSE DESTA IMPORT & EXPORT     1\n",
       "Kerchanshe Trading PLC            1\n",
       "Marubeni corp.,                   1\n",
       "Name: count, Length: 69, dtype: int64"
      ]
     },
     "execution_count": 45,
     "metadata": {},
     "output_type": "execute_result"
    }
   ],
   "source": [
    "df_formatting['Company'].value_counts()"
   ]
  },
  {
   "cell_type": "markdown",
   "id": "f13671c4-f41a-49bb-99ae-4044d6ad9f4c",
   "metadata": {},
   "source": [
    "- `Owner`\n",
    "\n",
    "    There are 79 unique entries in total. Similar to `Company`, no adjustments for now, and this may be excluded from analysis as it does not provide significant insights."
   ]
  },
  {
   "cell_type": "code",
   "execution_count": 46,
   "id": "4245fc7f-c5b6-4026-aa8a-07c0db7d4f1b",
   "metadata": {},
   "outputs": [
    {
     "data": {
      "text/plain": [
       "Owner\n",
       "Taiwan Coffee Laboratory 台灣咖啡研究室     30\n",
       "Taiwu                                25\n",
       "Coffee Quality Union                 15\n",
       "Yesica Alejandra Martìnez Vàsquez     8\n",
       "Doi Tung Development Project          7\n",
       "                                     ..\n",
       "Rodney Murray                         1\n",
       "Ruddy Azofeifa                        1\n",
       "王瀅惠                                   1\n",
       "丸山花織                                  1\n",
       "李晓斐 LI XIAO FEI                       1\n",
       "Name: count, Length: 76, dtype: int64"
      ]
     },
     "execution_count": 46,
     "metadata": {},
     "output_type": "execute_result"
    }
   ],
   "source": [
    "df_formatting['Owner'].value_counts()"
   ]
  },
  {
   "cell_type": "markdown",
   "id": "718386f8-1992-4518-99d1-b6581b3deabe",
   "metadata": {},
   "source": [
    "- `In-Country Partner`\n",
    "\n",
    "    There are 20 unique entries in total. Similar to `Company` and `Owner`, no adjustments for now, and this may be excluded from analysis as it does not provide significant insights."
   ]
  },
  {
   "cell_type": "code",
   "execution_count": 47,
   "id": "bdb99a97-6945-4877-b7c1-bd2cdfc547b0",
   "metadata": {},
   "outputs": [
    {
     "name": "stdout",
     "output_type": "stream",
     "text": [
      "In-Country Partner\n",
      "Taiwan Coffee Laboratory 台灣咖啡研究室                                     83\n",
      "Japan Coffee Exchange                                                27\n",
      "Asociacion Nacional Del Café                                         14\n",
      "Instituto Hondureño del Café                                         10\n",
      "FABB Academy of Coffee                                                9\n",
      "Kenya Coffee Traders Association                                      8\n",
      "METAD Agricultural Development plc                                    6\n",
      "Specialty Coffee Association of Costa Rica                            6\n",
      "Salvadoran Coffee Council                                             6\n",
      "Centro Agroecológico del Café A.C.                                    5\n",
      "Blossom Valley International宸嶧國際                                      5\n",
      "NKG Quality Service (a division of Bernhard Rothfos Intercafé AG)     4\n",
      "Specialty Coffee Association                                          4\n",
      "ASOCIACIÓN COLOMBIANA PARA LA EXCELENCIA DEL CAFE                     4\n",
      "Asociación de Cafés Especiales de Nicaragua                           3\n",
      "Uganda Coffee Development Authority                                   3\n",
      "Brazil Specialty Coffee Association                                   2\n",
      "Specialty Coffee Association of Indonesia                             1\n",
      "Specialty Coffee Institute of Thailand                                1\n",
      "Firedancer Coffee Consultants                                         1\n",
      "Name: count, dtype: int64\n",
      "20\n"
     ]
    }
   ],
   "source": [
    "print(df_formatting['In-Country Partner'].value_counts())\n",
    "print(len(df_formatting['In-Country Partner'].value_counts()))"
   ]
  },
  {
   "cell_type": "markdown",
   "id": "e228c307-d98a-4454-a05a-9b3cf06d864c",
   "metadata": {},
   "source": [
    "- `Certification Body`\n",
    "\n",
    "    There are 20 unique entries in total, the same as the `In-Country Partner`. It appears there is redundancy, as both columns contain the same values. However, each variable may serve a different purpose:\n",
    "\n",
    "    - `Certification Body` is likely more relevant for quality-related analysis, as certification bodies directly influence coffee quality standards\n",
    "    - `In-Country Partner` may be more relevant for trade relationships or regional insights, as in-country partners often play a role in facilitating the coffee industry locally\n",
    "\n",
    "    No adjustments will be made for now, but we may decide to exclude one of these columns based on the specific goals of the analysis."
   ]
  },
  {
   "cell_type": "code",
   "execution_count": 48,
   "id": "9c582ac5-ccc5-45fe-998a-63d921f193da",
   "metadata": {},
   "outputs": [
    {
     "name": "stdout",
     "output_type": "stream",
     "text": [
      "Certification Body\n",
      "Taiwan Coffee Laboratory 台灣咖啡研究室                                     83\n",
      "Japan Coffee Exchange                                                27\n",
      "Asociacion Nacional Del Café                                         14\n",
      "Instituto Hondureño del Café                                         10\n",
      "FABB Academy of Coffee                                                9\n",
      "Kenya Coffee Traders Association                                      8\n",
      "METAD Agricultural Development plc                                    6\n",
      "Specialty Coffee Association of Costa Rica                            6\n",
      "Salvadoran Coffee Council                                             6\n",
      "Centro Agroecológico del Café A.C.                                    5\n",
      "Blossom Valley International宸嶧國際                                      5\n",
      "NKG Quality Service (a division of Bernhard Rothfos Intercafé AG)     4\n",
      "Specialty Coffee Association                                          4\n",
      "ASOCIACIÓN COLOMBIANA PARA LA EXCELENCIA DEL CAFE                     4\n",
      "Asociación de Cafés Especiales de Nicaragua                           3\n",
      "Uganda Coffee Development Authority                                   3\n",
      "Brazil Specialty Coffee Association                                   2\n",
      "Specialty Coffee Association of Indonesia                             1\n",
      "Specialty Coffee Institute of Thailand                                1\n",
      "Firedancer Coffee Consultants                                         1\n",
      "Name: count, dtype: int64\n",
      "20\n"
     ]
    }
   ],
   "source": [
    "print(df_formatting['Certification Body'].value_counts())\n",
    "print(len(df_formatting['Certification Body'].value_counts()))"
   ]
  },
  {
   "cell_type": "code",
   "execution_count": 49,
   "id": "c4f3b382-b630-441a-98d8-8ab861e41a45",
   "metadata": {},
   "outputs": [
    {
     "name": "stdout",
     "output_type": "stream",
     "text": [
      "Number of matching rows: 202\n"
     ]
    }
   ],
   "source": [
    "# Check where the values in 'In-Country Partner' and 'Certification Body' are the same\n",
    "matching_rows = df_formatting[df_formatting['In-Country Partner'] == df_formatting['Certification Body']]\n",
    "\n",
    "# Display the matching rows (if any)\n",
    "matching_rows[['In-Country Partner', 'Certification Body']].head()  # Adjust .head() to see more rows\n",
    "\n",
    "# Count how many rows match\n",
    "matching_count = matching_rows.shape[0]\n",
    "print(\"Number of matching rows:\", matching_count)"
   ]
  },
  {
   "cell_type": "markdown",
   "id": "77659808-598c-440a-8939-3235a484fd50",
   "metadata": {},
   "source": [
    "- `Altitude`\n",
    "\n",
    "  While currently treated as categorical, `Altitude` may be better represented numerically. This allows for more accurate analysis and improved statistical manipulation. Each altitude range can be mapped to its median value (e.g., \"600-800\" as \"700\"), which provides a central tendency for each range, minimizing the impact of outliers and ensuring a more consistent representation for modeling."
   ]
  },
  {
   "cell_type": "code",
   "execution_count": 50,
   "id": "3148e286-6bd6-4186-94ec-b014ba05d3e2",
   "metadata": {},
   "outputs": [
    {
     "data": {
      "text/plain": [
       "Altitude\n",
       "1200        23\n",
       "1600        12\n",
       "1300         7\n",
       "1400         7\n",
       "1250         7\n",
       "            ..\n",
       "5400         1\n",
       "900-1000     1\n",
       "1574         1\n",
       "435          1\n",
       "600-800      1\n",
       "Name: count, Length: 96, dtype: int64"
      ]
     },
     "execution_count": 50,
     "metadata": {},
     "output_type": "execute_result"
    }
   ],
   "source": [
    "df_formatting['Altitude'].value_counts()"
   ]
  },
  {
   "cell_type": "code",
   "execution_count": 51,
   "id": "32a97275-e57f-499a-b2ab-76b2121ef1f9",
   "metadata": {},
   "outputs": [
    {
     "name": "stdout",
     "output_type": "stream",
     "text": [
      "Altitude\n",
      "1200.0    23\n",
      "1600.0    13\n",
      "1400.0    11\n",
      "1300.0     8\n",
      "1250.0     8\n",
      "          ..\n",
      "640.0      1\n",
      "950.0      1\n",
      "1574.0     1\n",
      "435.0      1\n",
      "975.0      1\n",
      "Name: count, Length: 76, dtype: int64\n"
     ]
    }
   ],
   "source": [
    "# Create a function to convert ranges to their median value or to convert str to float\n",
    "def convert_to_median(value):\n",
    "    if isinstance(value, str) and ('-' in value or '~' in value or ' A ' in value):  # Check if it's a string range with '-' or '~'\n",
    "        # Split the string by the separator and convert the values to integers\n",
    "        if '-' in value:\n",
    "            min_val, max_val = map(int, value.split('-'))\n",
    "        elif '~' in value:\n",
    "            min_val, max_val = map(int, value.split('~'))\n",
    "        elif ' A ' in value:\n",
    "            min_val, max_val = map(int, value.split(' A '))    \n",
    "        # Return the median value\n",
    "        return (min_val + max_val) / 2\n",
    "    else:\n",
    "        try:\n",
    "            # Attempt to convert the value to a float (in case it's a numeric string)\n",
    "            return float(value)\n",
    "        except ValueError:\n",
    "            # If it's neither a range nor a convertible string, return the value as is\n",
    "            return value\n",
    "\n",
    "# Apply the conversion function to the 'Altitude' column\n",
    "df_formatting['Altitude'] = df_formatting['Altitude'].apply(convert_to_median)\n",
    "\n",
    "# Check the updated 'Altitude' column\n",
    "print(df_formatting['Altitude'].value_counts())\n",
    "\n"
   ]
  },
  {
   "cell_type": "code",
   "execution_count": 52,
   "id": "a70c18c3-3e34-4573-b213-8713947c1c63",
   "metadata": {},
   "outputs": [
    {
     "name": "stdout",
     "output_type": "stream",
     "text": [
      "[]\n"
     ]
    }
   ],
   "source": [
    "# Check if all unique values that are of type str in the 'Altitude' column\n",
    "str_values = df_formatting['Altitude'][df_formatting['Altitude'].apply(lambda x: isinstance(x, str))].unique()\n",
    "\n",
    "# Print the list of string values\n",
    "print(str_values)"
   ]
  },
  {
   "cell_type": "markdown",
   "id": "d538e66d-1918-4619-b36b-52c41d2d9d6a",
   "metadata": {},
   "source": [
    "- `Bag Weight`\n",
    "\n",
    "    Currently treated as categorical, but `Bag Weight` may be better represented numerically, similar to `Altitude`. Also, there are 39 unique values with one extremely large label \"19200 kg\". It'd be worth investigating into it and see if it'd be a typo."
   ]
  },
  {
   "cell_type": "code",
   "execution_count": 53,
   "id": "ce57d450-12d1-4afa-b479-22d500ec6568",
   "metadata": {},
   "outputs": [
    {
     "name": "stdout",
     "output_type": "stream",
     "text": [
      "Bag Weight\n",
      "30 kg       38\n",
      "60 kg       29\n",
      "69 kg       25\n",
      "1 kg        12\n",
      "5 kg        10\n",
      "15 kg       10\n",
      "2 kg         8\n",
      "70 kg        6\n",
      "50 kg        6\n",
      "100 kg       6\n",
      "10 kg        5\n",
      "35 kg        4\n",
      "80 kg        4\n",
      "12 kg        3\n",
      "20 kg        3\n",
      "8 kg         2\n",
      "16 kg        2\n",
      "22 kg        2\n",
      "25 kg        2\n",
      "13 kg        2\n",
      "4 kg         2\n",
      "90 kg        2\n",
      "19200 kg     2\n",
      "45 kg        2\n",
      "24 kg        1\n",
      "27 kg        1\n",
      "48 kg        1\n",
      "85 kg        1\n",
      "300 kg       1\n",
      "104 kg       1\n",
      "36 kg        1\n",
      "40 kg        1\n",
      "110 kg       1\n",
      "320 kg       1\n",
      "32 kg        1\n",
      "200 kg       1\n",
      "3 kg         1\n",
      "6 kg         1\n",
      "59 kg        1\n",
      "Name: count, dtype: int64\n",
      "39\n"
     ]
    }
   ],
   "source": [
    "print(df_formatting['Bag Weight'].value_counts())\n",
    "print(len(df_formatting['Bag Weight'].value_counts()))"
   ]
  },
  {
   "cell_type": "markdown",
   "id": "861ec6b1-cbc5-471a-9ec6-06a2831d75b4",
   "metadata": {},
   "source": [
    "The weight values seem legitimate, and there is no significant indication of an error. It’s possible that these items are shipped in bulk. However, given that these values are significantly higher than the rest of the dataset, I decided to remove them to ensure the analysis remains more representative and not skewed by these extreme values."
   ]
  },
  {
   "cell_type": "code",
   "execution_count": 54,
   "id": "06d27f57-356c-4f83-93a8-cf85586c9903",
   "metadata": {},
   "outputs": [
    {
     "data": {
      "text/html": [
       "<div>\n",
       "<style scoped>\n",
       "    .dataframe tbody tr th:only-of-type {\n",
       "        vertical-align: middle;\n",
       "    }\n",
       "\n",
       "    .dataframe tbody tr th {\n",
       "        vertical-align: top;\n",
       "    }\n",
       "\n",
       "    .dataframe thead th {\n",
       "        text-align: right;\n",
       "    }\n",
       "</style>\n",
       "<table border=\"1\" class=\"dataframe\">\n",
       "  <thead>\n",
       "    <tr style=\"text-align: right;\">\n",
       "      <th></th>\n",
       "      <th>ID</th>\n",
       "      <th>Country of Origin</th>\n",
       "      <th>Farm Name</th>\n",
       "      <th>Lot Number</th>\n",
       "      <th>Mill</th>\n",
       "      <th>ICO Number</th>\n",
       "      <th>Company</th>\n",
       "      <th>Altitude</th>\n",
       "      <th>Region</th>\n",
       "      <th>Producer</th>\n",
       "    </tr>\n",
       "  </thead>\n",
       "  <tbody>\n",
       "    <tr>\n",
       "      <th>35</th>\n",
       "      <td>35</td>\n",
       "      <td>Ethiopia</td>\n",
       "      <td>YHAENU PLC FARM</td>\n",
       "      <td>1</td>\n",
       "      <td>GUJI COFFEE EXPORT P.L.C</td>\n",
       "      <td>010/0891/00041</td>\n",
       "      <td>yhaenu plc</td>\n",
       "      <td>1700.0</td>\n",
       "      <td>OROMIA</td>\n",
       "      <td>YHAENU PLC</td>\n",
       "    </tr>\n",
       "    <tr>\n",
       "      <th>116</th>\n",
       "      <td>116</td>\n",
       "      <td>Ethiopia</td>\n",
       "      <td>YHAENU PLC FARM</td>\n",
       "      <td>1</td>\n",
       "      <td>GUJI COFFEE EXPORT P.L.C</td>\n",
       "      <td>NaN</td>\n",
       "      <td>yhaenu plc</td>\n",
       "      <td>1700.0</td>\n",
       "      <td>OROMIA</td>\n",
       "      <td>YHAENU PLC</td>\n",
       "    </tr>\n",
       "  </tbody>\n",
       "</table>\n",
       "</div>"
      ],
      "text/plain": [
       "      ID Country of Origin        Farm Name Lot Number  \\\n",
       "35    35          Ethiopia  YHAENU PLC FARM          1   \n",
       "116  116          Ethiopia  YHAENU PLC FARM          1   \n",
       "\n",
       "                         Mill      ICO Number     Company  Altitude  Region  \\\n",
       "35   GUJI COFFEE EXPORT P.L.C  010/0891/00041  yhaenu plc    1700.0  OROMIA   \n",
       "116  GUJI COFFEE EXPORT P.L.C             NaN  yhaenu plc    1700.0  OROMIA   \n",
       "\n",
       "       Producer  \n",
       "35   YHAENU PLC  \n",
       "116  YHAENU PLC  "
      ]
     },
     "execution_count": 54,
     "metadata": {},
     "output_type": "execute_result"
    }
   ],
   "source": [
    "df_filtered = df_formatting[df_formatting['Bag Weight'] == '19200 kg']\n",
    "\n",
    "df_filtered.iloc[:,:10]"
   ]
  },
  {
   "cell_type": "code",
   "execution_count": 55,
   "id": "ebe1c350-39d3-4319-afe4-ca1b3c267a3e",
   "metadata": {},
   "outputs": [
    {
     "data": {
      "text/html": [
       "<div>\n",
       "<style scoped>\n",
       "    .dataframe tbody tr th:only-of-type {\n",
       "        vertical-align: middle;\n",
       "    }\n",
       "\n",
       "    .dataframe tbody tr th {\n",
       "        vertical-align: top;\n",
       "    }\n",
       "\n",
       "    .dataframe thead th {\n",
       "        text-align: right;\n",
       "    }\n",
       "</style>\n",
       "<table border=\"1\" class=\"dataframe\">\n",
       "  <thead>\n",
       "    <tr style=\"text-align: right;\">\n",
       "      <th></th>\n",
       "      <th>Number of Bags</th>\n",
       "      <th>Bag Weight</th>\n",
       "      <th>In-Country Partner</th>\n",
       "      <th>Harvest Year</th>\n",
       "      <th>Grading Date</th>\n",
       "      <th>Owner</th>\n",
       "      <th>Variety</th>\n",
       "      <th>Status</th>\n",
       "      <th>Processing Method</th>\n",
       "      <th>Aroma</th>\n",
       "    </tr>\n",
       "  </thead>\n",
       "  <tbody>\n",
       "    <tr>\n",
       "      <th>35</th>\n",
       "      <td>320</td>\n",
       "      <td>19200 kg</td>\n",
       "      <td>METAD Agricultural Development plc</td>\n",
       "      <td>2021 / 2022</td>\n",
       "      <td>December 12th, 2022</td>\n",
       "      <td>YHAENU PLC</td>\n",
       "      <td>Ethiopian Heirlooms</td>\n",
       "      <td>Completed</td>\n",
       "      <td>Washed / Wet</td>\n",
       "      <td>7.92</td>\n",
       "    </tr>\n",
       "    <tr>\n",
       "      <th>116</th>\n",
       "      <td>320</td>\n",
       "      <td>19200 kg</td>\n",
       "      <td>METAD Agricultural Development plc</td>\n",
       "      <td>2021 / 2022</td>\n",
       "      <td>November 30th, 2022</td>\n",
       "      <td>YHAENU PLC</td>\n",
       "      <td>Ethiopian Heirlooms</td>\n",
       "      <td>Completed</td>\n",
       "      <td>Washed / Wet</td>\n",
       "      <td>7.42</td>\n",
       "    </tr>\n",
       "  </tbody>\n",
       "</table>\n",
       "</div>"
      ],
      "text/plain": [
       "     Number of Bags Bag Weight                  In-Country Partner  \\\n",
       "35              320   19200 kg  METAD Agricultural Development plc   \n",
       "116             320   19200 kg  METAD Agricultural Development plc   \n",
       "\n",
       "    Harvest Year         Grading Date       Owner              Variety  \\\n",
       "35   2021 / 2022  December 12th, 2022  YHAENU PLC  Ethiopian Heirlooms   \n",
       "116  2021 / 2022  November 30th, 2022  YHAENU PLC  Ethiopian Heirlooms   \n",
       "\n",
       "        Status Processing Method  Aroma  \n",
       "35   Completed      Washed / Wet   7.92  \n",
       "116  Completed      Washed / Wet   7.42  "
      ]
     },
     "execution_count": 55,
     "metadata": {},
     "output_type": "execute_result"
    }
   ],
   "source": [
    "df_filtered.iloc[:,10:20]"
   ]
  },
  {
   "cell_type": "code",
   "execution_count": 56,
   "id": "42439439-ca96-47a3-bcf0-2a4b84ca8eec",
   "metadata": {},
   "outputs": [
    {
     "data": {
      "text/html": [
       "<div>\n",
       "<style scoped>\n",
       "    .dataframe tbody tr th:only-of-type {\n",
       "        vertical-align: middle;\n",
       "    }\n",
       "\n",
       "    .dataframe tbody tr th {\n",
       "        vertical-align: top;\n",
       "    }\n",
       "\n",
       "    .dataframe thead th {\n",
       "        text-align: right;\n",
       "    }\n",
       "</style>\n",
       "<table border=\"1\" class=\"dataframe\">\n",
       "  <thead>\n",
       "    <tr style=\"text-align: right;\">\n",
       "      <th></th>\n",
       "      <th>Flavor</th>\n",
       "      <th>Aftertaste</th>\n",
       "      <th>Acidity</th>\n",
       "      <th>Body</th>\n",
       "      <th>Balance</th>\n",
       "      <th>Uniformity</th>\n",
       "      <th>Clean Cup</th>\n",
       "      <th>Sweetness</th>\n",
       "      <th>Overall</th>\n",
       "      <th>Defects</th>\n",
       "    </tr>\n",
       "  </thead>\n",
       "  <tbody>\n",
       "    <tr>\n",
       "      <th>35</th>\n",
       "      <td>7.75</td>\n",
       "      <td>7.83</td>\n",
       "      <td>8.17</td>\n",
       "      <td>8.00</td>\n",
       "      <td>7.75</td>\n",
       "      <td>10.0</td>\n",
       "      <td>10.0</td>\n",
       "      <td>10.0</td>\n",
       "      <td>7.83</td>\n",
       "      <td>0.0</td>\n",
       "    </tr>\n",
       "    <tr>\n",
       "      <th>116</th>\n",
       "      <td>7.42</td>\n",
       "      <td>7.42</td>\n",
       "      <td>8.00</td>\n",
       "      <td>7.92</td>\n",
       "      <td>7.67</td>\n",
       "      <td>10.0</td>\n",
       "      <td>10.0</td>\n",
       "      <td>10.0</td>\n",
       "      <td>7.67</td>\n",
       "      <td>0.0</td>\n",
       "    </tr>\n",
       "  </tbody>\n",
       "</table>\n",
       "</div>"
      ],
      "text/plain": [
       "     Flavor  Aftertaste  Acidity  Body  Balance  Uniformity  Clean Cup  \\\n",
       "35     7.75        7.83     8.17  8.00     7.75        10.0       10.0   \n",
       "116    7.42        7.42     8.00  7.92     7.67        10.0       10.0   \n",
       "\n",
       "     Sweetness  Overall  Defects  \n",
       "35        10.0     7.83      0.0  \n",
       "116       10.0     7.67      0.0  "
      ]
     },
     "execution_count": 56,
     "metadata": {},
     "output_type": "execute_result"
    }
   ],
   "source": [
    "df_filtered.iloc[:,20:30]"
   ]
  },
  {
   "cell_type": "code",
   "execution_count": 57,
   "id": "aca5a39d-d6c6-47c7-9e8a-28afc666ae33",
   "metadata": {},
   "outputs": [
    {
     "data": {
      "text/html": [
       "<div>\n",
       "<style scoped>\n",
       "    .dataframe tbody tr th:only-of-type {\n",
       "        vertical-align: middle;\n",
       "    }\n",
       "\n",
       "    .dataframe tbody tr th {\n",
       "        vertical-align: top;\n",
       "    }\n",
       "\n",
       "    .dataframe thead th {\n",
       "        text-align: right;\n",
       "    }\n",
       "</style>\n",
       "<table border=\"1\" class=\"dataframe\">\n",
       "  <thead>\n",
       "    <tr style=\"text-align: right;\">\n",
       "      <th></th>\n",
       "      <th>Total Cup Points</th>\n",
       "      <th>Moisture Percentage</th>\n",
       "      <th>Category One Defects</th>\n",
       "      <th>Quakers</th>\n",
       "      <th>Color</th>\n",
       "      <th>Category Two Defects</th>\n",
       "      <th>Expiration</th>\n",
       "      <th>Certification Body</th>\n",
       "      <th>Certification Address</th>\n",
       "      <th>Certification Contact</th>\n",
       "    </tr>\n",
       "  </thead>\n",
       "  <tbody>\n",
       "    <tr>\n",
       "      <th>35</th>\n",
       "      <td>85.25</td>\n",
       "      <td>9.4</td>\n",
       "      <td>0</td>\n",
       "      <td>1</td>\n",
       "      <td>greenish</td>\n",
       "      <td>1</td>\n",
       "      <td>December 12th, 2023</td>\n",
       "      <td>METAD Agricultural Development plc</td>\n",
       "      <td>BAWA Center, 3rd Floor (Gerji), Addis Ababa, E...</td>\n",
       "      <td>Aman Adinew (Emebet Dinku) - +251-116-292534, ...</td>\n",
       "    </tr>\n",
       "    <tr>\n",
       "      <th>116</th>\n",
       "      <td>83.50</td>\n",
       "      <td>10.4</td>\n",
       "      <td>0</td>\n",
       "      <td>1</td>\n",
       "      <td>greenish</td>\n",
       "      <td>11</td>\n",
       "      <td>November 30th, 2023</td>\n",
       "      <td>METAD Agricultural Development plc</td>\n",
       "      <td>BAWA Center, 3rd Floor (Gerji), Addis Ababa, E...</td>\n",
       "      <td>Aman Adinew (Emebet Dinku) - +251-116-292534, ...</td>\n",
       "    </tr>\n",
       "  </tbody>\n",
       "</table>\n",
       "</div>"
      ],
      "text/plain": [
       "     Total Cup Points  Moisture Percentage  Category One Defects  Quakers  \\\n",
       "35              85.25                  9.4                     0        1   \n",
       "116             83.50                 10.4                     0        1   \n",
       "\n",
       "        Color  Category Two Defects           Expiration  \\\n",
       "35   greenish                     1  December 12th, 2023   \n",
       "116  greenish                    11  November 30th, 2023   \n",
       "\n",
       "                     Certification Body  \\\n",
       "35   METAD Agricultural Development plc   \n",
       "116  METAD Agricultural Development plc   \n",
       "\n",
       "                                 Certification Address  \\\n",
       "35   BAWA Center, 3rd Floor (Gerji), Addis Ababa, E...   \n",
       "116  BAWA Center, 3rd Floor (Gerji), Addis Ababa, E...   \n",
       "\n",
       "                                 Certification Contact  \n",
       "35   Aman Adinew (Emebet Dinku) - +251-116-292534, ...  \n",
       "116  Aman Adinew (Emebet Dinku) - +251-116-292534, ...  "
      ]
     },
     "execution_count": 57,
     "metadata": {},
     "output_type": "execute_result"
    }
   ],
   "source": [
    "df_filtered.iloc[:,30:40]"
   ]
  },
  {
   "cell_type": "code",
   "execution_count": 58,
   "id": "8de093c8-bfd5-4fcf-b5cd-bfe9b684995c",
   "metadata": {},
   "outputs": [
    {
     "data": {
      "text/html": [
       "<div>\n",
       "<style scoped>\n",
       "    .dataframe tbody tr th:only-of-type {\n",
       "        vertical-align: middle;\n",
       "    }\n",
       "\n",
       "    .dataframe tbody tr th {\n",
       "        vertical-align: top;\n",
       "    }\n",
       "\n",
       "    .dataframe thead th {\n",
       "        text-align: right;\n",
       "    }\n",
       "</style>\n",
       "<table border=\"1\" class=\"dataframe\">\n",
       "  <thead>\n",
       "    <tr style=\"text-align: right;\">\n",
       "      <th></th>\n",
       "      <th>Outlier_Flag_Quakers</th>\n",
       "      <th>Region_New</th>\n",
       "      <th>Processing_Method_New</th>\n",
       "    </tr>\n",
       "  </thead>\n",
       "  <tbody>\n",
       "    <tr>\n",
       "      <th>35</th>\n",
       "      <td>False</td>\n",
       "      <td>Africa</td>\n",
       "      <td>Washed / Wet</td>\n",
       "    </tr>\n",
       "    <tr>\n",
       "      <th>116</th>\n",
       "      <td>False</td>\n",
       "      <td>Africa</td>\n",
       "      <td>Washed / Wet</td>\n",
       "    </tr>\n",
       "  </tbody>\n",
       "</table>\n",
       "</div>"
      ],
      "text/plain": [
       "     Outlier_Flag_Quakers Region_New Processing_Method_New\n",
       "35                  False     Africa          Washed / Wet\n",
       "116                 False     Africa          Washed / Wet"
      ]
     },
     "execution_count": 58,
     "metadata": {},
     "output_type": "execute_result"
    }
   ],
   "source": [
    "df_filtered.iloc[:,40:50]"
   ]
  },
  {
   "cell_type": "code",
   "execution_count": 59,
   "id": "c6b4014e-9d91-4eba-8ed3-aca25c22d6bd",
   "metadata": {},
   "outputs": [
    {
     "name": "stdout",
     "output_type": "stream",
     "text": [
      "After dropping bag weight outliers: (200, 43)\n"
     ]
    }
   ],
   "source": [
    "df_formatting = df_formatting[df_formatting['Bag Weight'] != '19200 kg']\n",
    "\n",
    "print(\"After dropping bag weight outliers:\", df_formatting.shape)"
   ]
  },
  {
   "cell_type": "code",
   "execution_count": 60,
   "id": "af72dad4-26db-4c45-866c-bae9584d393d",
   "metadata": {},
   "outputs": [
    {
     "name": "stdout",
     "output_type": "stream",
     "text": [
      "Bag Weight\n",
      "30.0     38\n",
      "60.0     29\n",
      "69.0     25\n",
      "1.0      12\n",
      "5.0      10\n",
      "15.0     10\n",
      "2.0       8\n",
      "70.0      6\n",
      "50.0      6\n",
      "100.0     6\n",
      "10.0      5\n",
      "35.0      4\n",
      "80.0      4\n",
      "12.0      3\n",
      "20.0      3\n",
      "8.0       2\n",
      "25.0      2\n",
      "22.0      2\n",
      "4.0       2\n",
      "45.0      2\n",
      "13.0      2\n",
      "90.0      2\n",
      "16.0      2\n",
      "24.0      1\n",
      "27.0      1\n",
      "48.0      1\n",
      "85.0      1\n",
      "300.0     1\n",
      "104.0     1\n",
      "36.0      1\n",
      "40.0      1\n",
      "110.0     1\n",
      "320.0     1\n",
      "32.0      1\n",
      "200.0     1\n",
      "3.0       1\n",
      "6.0       1\n",
      "59.0      1\n",
      "Name: count, dtype: int64\n",
      "38\n"
     ]
    }
   ],
   "source": [
    "df_formatting['Bag Weight'] = df_formatting['Bag Weight'].str.replace(' kg', '').astype(float)\n",
    "\n",
    "print(df_formatting['Bag Weight'].value_counts())\n",
    "print(len(df_formatting['Bag Weight'].value_counts()))"
   ]
  },
  {
   "cell_type": "markdown",
   "id": "03220aed-be77-41f5-b927-ef3c0d7324b0",
   "metadata": {},
   "source": [
    "Once the updates are checked, we can save the data frame as `df_formatted`."
   ]
  },
  {
   "cell_type": "code",
   "execution_count": 61,
   "id": "f3d1fa99-4ca6-48c6-83a8-a0f24b723d6d",
   "metadata": {},
   "outputs": [],
   "source": [
    "df_formatted = df_formatting"
   ]
  },
  {
   "cell_type": "markdown",
   "id": "38a0a636-1cbe-4def-8c5c-a5f20f314462",
   "metadata": {},
   "source": [
    "#### 3-4-3. Date Standardization\n",
    "\n",
    "I will use the `to_datetime()` function to convert the values in the `Grading Date` and `Expiration` columns to a datetime format. This ensures that all date-related fields are consistent and comparable."
   ]
  },
  {
   "cell_type": "code",
   "execution_count": 62,
   "id": "3f2adfbe-a3b6-4e9b-8ae0-2229e98c7a07",
   "metadata": {},
   "outputs": [],
   "source": [
    "df_adjust_date = df_formatted"
   ]
  },
  {
   "cell_type": "markdown",
   "id": "fba230bb-3fb2-493f-a35d-419a79aec59f",
   "metadata": {},
   "source": [
    "- `Grading Date` "
   ]
  },
  {
   "cell_type": "code",
   "execution_count": 63,
   "id": "83e51ede-ad94-4bce-9c86-61dde782f1f8",
   "metadata": {},
   "outputs": [
    {
     "data": {
      "text/plain": [
       "Grading Date\n",
       "November 15th, 2022    40\n",
       "January 6th, 2023      26\n",
       "December 12th, 2022     7\n",
       "December 30th, 2022     7\n",
       "July 14th, 2022         7\n",
       "                       ..\n",
       "May 31st, 2022          1\n",
       "April 20th, 2023        1\n",
       "June 10th, 2022         1\n",
       "July 20th, 2022         1\n",
       "November 11th, 2022     1\n",
       "Name: count, Length: 72, dtype: int64"
      ]
     },
     "execution_count": 63,
     "metadata": {},
     "output_type": "execute_result"
    }
   ],
   "source": [
    "df_adjust_date['Grading Date'].value_counts()"
   ]
  },
  {
   "cell_type": "code",
   "execution_count": 64,
   "id": "8f23a021-b342-486f-8de3-9fb40bcc1683",
   "metadata": {},
   "outputs": [
    {
     "name": "stdout",
     "output_type": "stream",
     "text": [
      "0      2022-09-21\n",
      "1      2022-11-15\n",
      "2      2022-11-15\n",
      "3      2022-09-21\n",
      "4      2023-03-06\n",
      "          ...    \n",
      "201    2022-07-20\n",
      "203    2023-03-03\n",
      "204    2022-11-11\n",
      "205    2023-03-08\n",
      "206    2022-11-18\n",
      "Name: Grading Date, Length: 200, dtype: object\n",
      "0\n"
     ]
    }
   ],
   "source": [
    "# Function to remove day suffix (e.g., \"st\", \"nd\", \"rd\", \"th\")\n",
    "def remove_day_suffix(date_str):\n",
    "    if isinstance(date_str, str):  # Ensure it's a string before processing\n",
    "        return re.sub(r'(\\d+)(st|nd|rd|th)', r'\\1', date_str)\n",
    "    return date_str  # If it's not a string, return the value as is\n",
    "\n",
    "# Apply the function to remove the suffix for 'Grading Date'\n",
    "df_adjust_date['Grading Date'] = df_adjust_date['Grading Date'].apply(remove_day_suffix)\n",
    "\n",
    "# Convert to datetime format with dayfirst=False, coerce errors to NaT\n",
    "df_adjust_date['Grading Date'] = pd.to_datetime(df_adjust_date['Grading Date'], errors='coerce', dayfirst=False)\n",
    "\n",
    "# Standardize to the format YYYY-MM-DD\n",
    "df_adjust_date['Grading Date'] = df_adjust_date['Grading Date'].dt.strftime('%Y-%m-%d')\n",
    "\n",
    "# Print the standardized DataFrame\n",
    "print(df_adjust_date['Grading Date'])\n",
    "\n",
    "# Check for missing dates\n",
    "print(df_adjust_date['Grading Date'].isna().sum())  "
   ]
  },
  {
   "cell_type": "markdown",
   "id": "15c4b458-068b-49de-8fd5-36ef0020e8c3",
   "metadata": {},
   "source": [
    "- `Expiration` "
   ]
  },
  {
   "cell_type": "code",
   "execution_count": 65,
   "id": "5e693a02-ddbf-4575-a229-7b12cc8cf65f",
   "metadata": {},
   "outputs": [
    {
     "data": {
      "text/plain": [
       "Expiration\n",
       "November 15th, 2023    40\n",
       "January 6th, 2024      26\n",
       "December 12th, 2023     7\n",
       "December 30th, 2023     7\n",
       "July 14th, 2023         7\n",
       "                       ..\n",
       "May 31st, 2023          1\n",
       "April 19th, 2024        1\n",
       "June 10th, 2023         1\n",
       "July 20th, 2023         1\n",
       "November 11th, 2023     1\n",
       "Name: count, Length: 72, dtype: int64"
      ]
     },
     "execution_count": 65,
     "metadata": {},
     "output_type": "execute_result"
    }
   ],
   "source": [
    "df_adjust_date['Expiration'].value_counts()"
   ]
  },
  {
   "cell_type": "code",
   "execution_count": 66,
   "id": "0a87de62-b363-43ef-a69f-808c9f153f1b",
   "metadata": {},
   "outputs": [
    {
     "name": "stdout",
     "output_type": "stream",
     "text": [
      "0      2023-09-21\n",
      "1      2023-11-15\n",
      "2      2023-11-15\n",
      "3      2023-09-21\n",
      "4      2024-03-05\n",
      "          ...    \n",
      "201    2023-07-20\n",
      "203    2024-03-02\n",
      "204    2023-11-11\n",
      "205    2024-03-07\n",
      "206    2023-11-18\n",
      "Name: Expiration, Length: 200, dtype: object\n",
      "0\n"
     ]
    }
   ],
   "source": [
    "# Apply the function to remove the suffix for 'Expiration'\n",
    "df_adjust_date['Expiration'] = df_adjust_date['Expiration'].apply(remove_day_suffix)\n",
    "\n",
    "# Convert to datetime format with dayfirst=False, coerce errors to NaT\n",
    "df_adjust_date['Expiration'] = pd.to_datetime(df_adjust_date['Expiration'], errors='coerce', dayfirst=False)\n",
    "\n",
    "# Standardize to the format YYYY-MM-DD\n",
    "df_adjust_date['Expiration'] = df_adjust_date['Expiration'].dt.strftime('%Y-%m-%d')\n",
    "\n",
    "# Print the standardized DataFrame\n",
    "print(df_adjust_date['Expiration'])\n",
    "\n",
    "# Check for missing dates\n",
    "print(df_adjust_date['Expiration'].isna().sum())  "
   ]
  },
  {
   "cell_type": "markdown",
   "id": "c12d7ded-029e-4e3e-b585-099176607517",
   "metadata": {},
   "source": [
    "#### 3-4-4. Quick Final Check"
   ]
  },
  {
   "cell_type": "code",
   "execution_count": 67,
   "id": "a163da15-258d-4baf-bbc4-89124162f684",
   "metadata": {},
   "outputs": [
    {
     "data": {
      "text/html": [
       "<div>\n",
       "<style scoped>\n",
       "    .dataframe tbody tr th:only-of-type {\n",
       "        vertical-align: middle;\n",
       "    }\n",
       "\n",
       "    .dataframe tbody tr th {\n",
       "        vertical-align: top;\n",
       "    }\n",
       "\n",
       "    .dataframe thead th {\n",
       "        text-align: right;\n",
       "    }\n",
       "</style>\n",
       "<table border=\"1\" class=\"dataframe\">\n",
       "  <thead>\n",
       "    <tr style=\"text-align: right;\">\n",
       "      <th></th>\n",
       "      <th>ID</th>\n",
       "      <th>Country of Origin</th>\n",
       "      <th>Farm Name</th>\n",
       "      <th>Lot Number</th>\n",
       "      <th>Mill</th>\n",
       "      <th>ICO Number</th>\n",
       "      <th>Company</th>\n",
       "      <th>Altitude</th>\n",
       "      <th>Region</th>\n",
       "      <th>Producer</th>\n",
       "    </tr>\n",
       "  </thead>\n",
       "  <tbody>\n",
       "    <tr>\n",
       "      <th>0</th>\n",
       "      <td>0</td>\n",
       "      <td>Colombia</td>\n",
       "      <td>Finca El Paraiso</td>\n",
       "      <td>CQU2022015</td>\n",
       "      <td>Finca El Paraiso</td>\n",
       "      <td>NaN</td>\n",
       "      <td>Coffee Quality Union</td>\n",
       "      <td>1815.0</td>\n",
       "      <td>Piendamo,Cauca</td>\n",
       "      <td>Diego Samuel Bermudez</td>\n",
       "    </tr>\n",
       "    <tr>\n",
       "      <th>1</th>\n",
       "      <td>1</td>\n",
       "      <td>Taiwan</td>\n",
       "      <td>Royal Bean Geisha Estate</td>\n",
       "      <td>The 2022 Pacific Rim Coffee Summit,T037</td>\n",
       "      <td>Royal Bean Geisha Estate</td>\n",
       "      <td>NaN</td>\n",
       "      <td>Taiwan Coffee Laboratory</td>\n",
       "      <td>1200.0</td>\n",
       "      <td>Chiayi</td>\n",
       "      <td>曾福森</td>\n",
       "    </tr>\n",
       "    <tr>\n",
       "      <th>2</th>\n",
       "      <td>2</td>\n",
       "      <td>Laos</td>\n",
       "      <td>OKLAO coffee farms</td>\n",
       "      <td>The 2022 Pacific Rim Coffee Summit,LA01</td>\n",
       "      <td>oklao coffee processing plant</td>\n",
       "      <td>NaN</td>\n",
       "      <td>Taiwan Coffee Laboratory</td>\n",
       "      <td>1300.0</td>\n",
       "      <td>Laos Borofen Plateau</td>\n",
       "      <td>WU TAO CHI</td>\n",
       "    </tr>\n",
       "    <tr>\n",
       "      <th>3</th>\n",
       "      <td>3</td>\n",
       "      <td>Costa Rica</td>\n",
       "      <td>La Cumbre</td>\n",
       "      <td>CQU2022017</td>\n",
       "      <td>La Montana Tarrazu MIll</td>\n",
       "      <td>NaN</td>\n",
       "      <td>Coffee Quality Union</td>\n",
       "      <td>1900.0</td>\n",
       "      <td>Los Santos,Tarrazu</td>\n",
       "      <td>Santa Maria de Dota</td>\n",
       "    </tr>\n",
       "    <tr>\n",
       "      <th>4</th>\n",
       "      <td>4</td>\n",
       "      <td>Colombia</td>\n",
       "      <td>Finca Santuario</td>\n",
       "      <td>CQU2023002</td>\n",
       "      <td>Finca Santuario</td>\n",
       "      <td>NaN</td>\n",
       "      <td>Coffee Quality Union</td>\n",
       "      <td>1975.0</td>\n",
       "      <td>Popayan,Cauca</td>\n",
       "      <td>Camilo Merizalde</td>\n",
       "    </tr>\n",
       "  </tbody>\n",
       "</table>\n",
       "</div>"
      ],
      "text/plain": [
       "   ID Country of Origin                 Farm Name  \\\n",
       "0   0          Colombia          Finca El Paraiso   \n",
       "1   1            Taiwan  Royal Bean Geisha Estate   \n",
       "2   2              Laos        OKLAO coffee farms   \n",
       "3   3        Costa Rica                 La Cumbre   \n",
       "4   4          Colombia           Finca Santuario   \n",
       "\n",
       "                                Lot Number                           Mill  \\\n",
       "0                               CQU2022015               Finca El Paraiso   \n",
       "1  The 2022 Pacific Rim Coffee Summit,T037       Royal Bean Geisha Estate   \n",
       "2  The 2022 Pacific Rim Coffee Summit,LA01  oklao coffee processing plant   \n",
       "3                               CQU2022017        La Montana Tarrazu MIll   \n",
       "4                               CQU2023002                Finca Santuario   \n",
       "\n",
       "  ICO Number                   Company  Altitude                Region  \\\n",
       "0        NaN      Coffee Quality Union    1815.0        Piendamo,Cauca   \n",
       "1        NaN  Taiwan Coffee Laboratory    1200.0                Chiayi   \n",
       "2        NaN  Taiwan Coffee Laboratory    1300.0  Laos Borofen Plateau   \n",
       "3        NaN      Coffee Quality Union    1900.0    Los Santos,Tarrazu   \n",
       "4        NaN      Coffee Quality Union    1975.0         Popayan,Cauca   \n",
       "\n",
       "                Producer  \n",
       "0  Diego Samuel Bermudez  \n",
       "1                    曾福森  \n",
       "2             WU TAO CHI  \n",
       "3    Santa Maria de Dota  \n",
       "4       Camilo Merizalde  "
      ]
     },
     "execution_count": 67,
     "metadata": {},
     "output_type": "execute_result"
    }
   ],
   "source": [
    "df_adjust_date.head().iloc[:,:10]"
   ]
  },
  {
   "cell_type": "code",
   "execution_count": 68,
   "id": "025afea8-2b98-4e35-8bc6-b1d959aebad4",
   "metadata": {},
   "outputs": [
    {
     "data": {
      "text/html": [
       "<div>\n",
       "<style scoped>\n",
       "    .dataframe tbody tr th:only-of-type {\n",
       "        vertical-align: middle;\n",
       "    }\n",
       "\n",
       "    .dataframe tbody tr th {\n",
       "        vertical-align: top;\n",
       "    }\n",
       "\n",
       "    .dataframe thead th {\n",
       "        text-align: right;\n",
       "    }\n",
       "</style>\n",
       "<table border=\"1\" class=\"dataframe\">\n",
       "  <thead>\n",
       "    <tr style=\"text-align: right;\">\n",
       "      <th></th>\n",
       "      <th>Number of Bags</th>\n",
       "      <th>Bag Weight</th>\n",
       "      <th>In-Country Partner</th>\n",
       "      <th>Harvest Year</th>\n",
       "      <th>Grading Date</th>\n",
       "      <th>Owner</th>\n",
       "      <th>Variety</th>\n",
       "      <th>Status</th>\n",
       "      <th>Processing Method</th>\n",
       "      <th>Aroma</th>\n",
       "    </tr>\n",
       "  </thead>\n",
       "  <tbody>\n",
       "    <tr>\n",
       "      <th>0</th>\n",
       "      <td>1</td>\n",
       "      <td>35.0</td>\n",
       "      <td>Japan Coffee Exchange</td>\n",
       "      <td>2021 / 2022</td>\n",
       "      <td>2022-09-21</td>\n",
       "      <td>Coffee Quality Union</td>\n",
       "      <td>Castillo</td>\n",
       "      <td>Completed</td>\n",
       "      <td>Double Anaerobic Washed</td>\n",
       "      <td>8.58</td>\n",
       "    </tr>\n",
       "    <tr>\n",
       "      <th>1</th>\n",
       "      <td>1</td>\n",
       "      <td>80.0</td>\n",
       "      <td>Taiwan Coffee Laboratory 台灣咖啡研究室</td>\n",
       "      <td>2021 / 2022</td>\n",
       "      <td>2022-11-15</td>\n",
       "      <td>Taiwan Coffee Laboratory 台灣咖啡研究室</td>\n",
       "      <td>Gesha</td>\n",
       "      <td>Completed</td>\n",
       "      <td>Washed / Wet</td>\n",
       "      <td>8.50</td>\n",
       "    </tr>\n",
       "    <tr>\n",
       "      <th>2</th>\n",
       "      <td>19</td>\n",
       "      <td>25.0</td>\n",
       "      <td>Taiwan Coffee Laboratory 台灣咖啡研究室</td>\n",
       "      <td>2021 / 2022</td>\n",
       "      <td>2022-11-15</td>\n",
       "      <td>Taiwan Coffee Laboratory 台灣咖啡研究室</td>\n",
       "      <td>Java</td>\n",
       "      <td>Completed</td>\n",
       "      <td>Semi Washed</td>\n",
       "      <td>8.33</td>\n",
       "    </tr>\n",
       "    <tr>\n",
       "      <th>3</th>\n",
       "      <td>1</td>\n",
       "      <td>22.0</td>\n",
       "      <td>Japan Coffee Exchange</td>\n",
       "      <td>2022</td>\n",
       "      <td>2022-09-21</td>\n",
       "      <td>Coffee Quality Union</td>\n",
       "      <td>Gesha</td>\n",
       "      <td>Completed</td>\n",
       "      <td>Washed / Wet</td>\n",
       "      <td>8.08</td>\n",
       "    </tr>\n",
       "    <tr>\n",
       "      <th>4</th>\n",
       "      <td>2</td>\n",
       "      <td>24.0</td>\n",
       "      <td>Japan Coffee Exchange</td>\n",
       "      <td>2022</td>\n",
       "      <td>2023-03-06</td>\n",
       "      <td>Coffee Quality Union</td>\n",
       "      <td>Red Bourbon</td>\n",
       "      <td>Completed</td>\n",
       "      <td>Honey,Mossto</td>\n",
       "      <td>8.33</td>\n",
       "    </tr>\n",
       "  </tbody>\n",
       "</table>\n",
       "</div>"
      ],
      "text/plain": [
       "   Number of Bags  Bag Weight                In-Country Partner Harvest Year  \\\n",
       "0               1        35.0             Japan Coffee Exchange  2021 / 2022   \n",
       "1               1        80.0  Taiwan Coffee Laboratory 台灣咖啡研究室  2021 / 2022   \n",
       "2              19        25.0  Taiwan Coffee Laboratory 台灣咖啡研究室  2021 / 2022   \n",
       "3               1        22.0             Japan Coffee Exchange         2022   \n",
       "4               2        24.0             Japan Coffee Exchange         2022   \n",
       "\n",
       "  Grading Date                             Owner      Variety     Status  \\\n",
       "0   2022-09-21              Coffee Quality Union     Castillo  Completed   \n",
       "1   2022-11-15  Taiwan Coffee Laboratory 台灣咖啡研究室        Gesha  Completed   \n",
       "2   2022-11-15  Taiwan Coffee Laboratory 台灣咖啡研究室         Java  Completed   \n",
       "3   2022-09-21              Coffee Quality Union        Gesha  Completed   \n",
       "4   2023-03-06              Coffee Quality Union  Red Bourbon  Completed   \n",
       "\n",
       "         Processing Method  Aroma  \n",
       "0  Double Anaerobic Washed   8.58  \n",
       "1             Washed / Wet   8.50  \n",
       "2              Semi Washed   8.33  \n",
       "3             Washed / Wet   8.08  \n",
       "4             Honey,Mossto   8.33  "
      ]
     },
     "execution_count": 68,
     "metadata": {},
     "output_type": "execute_result"
    }
   ],
   "source": [
    "df_adjust_date.head().iloc[:,10:20]"
   ]
  },
  {
   "cell_type": "code",
   "execution_count": 69,
   "id": "26adb7e1-5041-43fd-a036-44a687a5a9b3",
   "metadata": {
    "scrolled": true
   },
   "outputs": [
    {
     "data": {
      "text/html": [
       "<div>\n",
       "<style scoped>\n",
       "    .dataframe tbody tr th:only-of-type {\n",
       "        vertical-align: middle;\n",
       "    }\n",
       "\n",
       "    .dataframe tbody tr th {\n",
       "        vertical-align: top;\n",
       "    }\n",
       "\n",
       "    .dataframe thead th {\n",
       "        text-align: right;\n",
       "    }\n",
       "</style>\n",
       "<table border=\"1\" class=\"dataframe\">\n",
       "  <thead>\n",
       "    <tr style=\"text-align: right;\">\n",
       "      <th></th>\n",
       "      <th>Flavor</th>\n",
       "      <th>Aftertaste</th>\n",
       "      <th>Acidity</th>\n",
       "      <th>Body</th>\n",
       "      <th>Balance</th>\n",
       "      <th>Uniformity</th>\n",
       "      <th>Clean Cup</th>\n",
       "      <th>Sweetness</th>\n",
       "      <th>Overall</th>\n",
       "      <th>Defects</th>\n",
       "    </tr>\n",
       "  </thead>\n",
       "  <tbody>\n",
       "    <tr>\n",
       "      <th>0</th>\n",
       "      <td>8.50</td>\n",
       "      <td>8.42</td>\n",
       "      <td>8.58</td>\n",
       "      <td>8.25</td>\n",
       "      <td>8.42</td>\n",
       "      <td>10.0</td>\n",
       "      <td>10.0</td>\n",
       "      <td>10.0</td>\n",
       "      <td>8.58</td>\n",
       "      <td>0.0</td>\n",
       "    </tr>\n",
       "    <tr>\n",
       "      <th>1</th>\n",
       "      <td>8.50</td>\n",
       "      <td>7.92</td>\n",
       "      <td>8.00</td>\n",
       "      <td>7.92</td>\n",
       "      <td>8.25</td>\n",
       "      <td>10.0</td>\n",
       "      <td>10.0</td>\n",
       "      <td>10.0</td>\n",
       "      <td>8.50</td>\n",
       "      <td>0.0</td>\n",
       "    </tr>\n",
       "    <tr>\n",
       "      <th>2</th>\n",
       "      <td>8.42</td>\n",
       "      <td>8.08</td>\n",
       "      <td>8.17</td>\n",
       "      <td>7.92</td>\n",
       "      <td>8.17</td>\n",
       "      <td>10.0</td>\n",
       "      <td>10.0</td>\n",
       "      <td>10.0</td>\n",
       "      <td>8.33</td>\n",
       "      <td>0.0</td>\n",
       "    </tr>\n",
       "    <tr>\n",
       "      <th>3</th>\n",
       "      <td>8.17</td>\n",
       "      <td>8.17</td>\n",
       "      <td>8.25</td>\n",
       "      <td>8.17</td>\n",
       "      <td>8.08</td>\n",
       "      <td>10.0</td>\n",
       "      <td>10.0</td>\n",
       "      <td>10.0</td>\n",
       "      <td>8.25</td>\n",
       "      <td>0.0</td>\n",
       "    </tr>\n",
       "    <tr>\n",
       "      <th>4</th>\n",
       "      <td>8.33</td>\n",
       "      <td>8.08</td>\n",
       "      <td>8.25</td>\n",
       "      <td>7.92</td>\n",
       "      <td>7.92</td>\n",
       "      <td>10.0</td>\n",
       "      <td>10.0</td>\n",
       "      <td>10.0</td>\n",
       "      <td>8.25</td>\n",
       "      <td>0.0</td>\n",
       "    </tr>\n",
       "  </tbody>\n",
       "</table>\n",
       "</div>"
      ],
      "text/plain": [
       "   Flavor  Aftertaste  Acidity  Body  Balance  Uniformity  Clean Cup  \\\n",
       "0    8.50        8.42     8.58  8.25     8.42        10.0       10.0   \n",
       "1    8.50        7.92     8.00  7.92     8.25        10.0       10.0   \n",
       "2    8.42        8.08     8.17  7.92     8.17        10.0       10.0   \n",
       "3    8.17        8.17     8.25  8.17     8.08        10.0       10.0   \n",
       "4    8.33        8.08     8.25  7.92     7.92        10.0       10.0   \n",
       "\n",
       "   Sweetness  Overall  Defects  \n",
       "0       10.0     8.58      0.0  \n",
       "1       10.0     8.50      0.0  \n",
       "2       10.0     8.33      0.0  \n",
       "3       10.0     8.25      0.0  \n",
       "4       10.0     8.25      0.0  "
      ]
     },
     "execution_count": 69,
     "metadata": {},
     "output_type": "execute_result"
    }
   ],
   "source": [
    "df_adjust_date.head().iloc[:,20:30]"
   ]
  },
  {
   "cell_type": "code",
   "execution_count": 70,
   "id": "d4df5256-3677-410e-b6e8-290163a10cb0",
   "metadata": {},
   "outputs": [
    {
     "data": {
      "text/html": [
       "<div>\n",
       "<style scoped>\n",
       "    .dataframe tbody tr th:only-of-type {\n",
       "        vertical-align: middle;\n",
       "    }\n",
       "\n",
       "    .dataframe tbody tr th {\n",
       "        vertical-align: top;\n",
       "    }\n",
       "\n",
       "    .dataframe thead th {\n",
       "        text-align: right;\n",
       "    }\n",
       "</style>\n",
       "<table border=\"1\" class=\"dataframe\">\n",
       "  <thead>\n",
       "    <tr style=\"text-align: right;\">\n",
       "      <th></th>\n",
       "      <th>Total Cup Points</th>\n",
       "      <th>Moisture Percentage</th>\n",
       "      <th>Category One Defects</th>\n",
       "      <th>Quakers</th>\n",
       "      <th>Color</th>\n",
       "      <th>Category Two Defects</th>\n",
       "      <th>Expiration</th>\n",
       "      <th>Certification Body</th>\n",
       "      <th>Certification Address</th>\n",
       "      <th>Certification Contact</th>\n",
       "    </tr>\n",
       "  </thead>\n",
       "  <tbody>\n",
       "    <tr>\n",
       "      <th>0</th>\n",
       "      <td>89.33</td>\n",
       "      <td>11.8</td>\n",
       "      <td>0</td>\n",
       "      <td>0</td>\n",
       "      <td>green</td>\n",
       "      <td>3</td>\n",
       "      <td>2023-09-21</td>\n",
       "      <td>Japan Coffee Exchange</td>\n",
       "      <td>〒413-0002 静岡県熱海市伊豆山１１７３−５８ 1173-58 Izusan, Ata...</td>\n",
       "      <td>松澤　宏樹　Koju Matsuzawa - +81(0)9085642901</td>\n",
       "    </tr>\n",
       "    <tr>\n",
       "      <th>1</th>\n",
       "      <td>87.58</td>\n",
       "      <td>10.5</td>\n",
       "      <td>0</td>\n",
       "      <td>0</td>\n",
       "      <td>blue-green</td>\n",
       "      <td>0</td>\n",
       "      <td>2023-11-15</td>\n",
       "      <td>Taiwan Coffee Laboratory 台灣咖啡研究室</td>\n",
       "      <td>QAHWAH CO., LTD 4F, No. 225, Sec. 3, Beixin Rd...</td>\n",
       "      <td>Lin, Jen-An Neil 林仁安 - 886-289116612</td>\n",
       "    </tr>\n",
       "    <tr>\n",
       "      <th>2</th>\n",
       "      <td>87.42</td>\n",
       "      <td>10.4</td>\n",
       "      <td>0</td>\n",
       "      <td>0</td>\n",
       "      <td>yellowish</td>\n",
       "      <td>2</td>\n",
       "      <td>2023-11-15</td>\n",
       "      <td>Taiwan Coffee Laboratory 台灣咖啡研究室</td>\n",
       "      <td>QAHWAH CO., LTD 4F, No. 225, Sec. 3, Beixin Rd...</td>\n",
       "      <td>Lin, Jen-An Neil 林仁安 - 886-289116612</td>\n",
       "    </tr>\n",
       "    <tr>\n",
       "      <th>3</th>\n",
       "      <td>87.17</td>\n",
       "      <td>11.8</td>\n",
       "      <td>0</td>\n",
       "      <td>0</td>\n",
       "      <td>green</td>\n",
       "      <td>0</td>\n",
       "      <td>2023-09-21</td>\n",
       "      <td>Japan Coffee Exchange</td>\n",
       "      <td>〒413-0002 静岡県熱海市伊豆山１１７３−５８ 1173-58 Izusan, Ata...</td>\n",
       "      <td>松澤　宏樹　Koju Matsuzawa - +81(0)9085642901</td>\n",
       "    </tr>\n",
       "    <tr>\n",
       "      <th>4</th>\n",
       "      <td>87.08</td>\n",
       "      <td>11.6</td>\n",
       "      <td>0</td>\n",
       "      <td>2</td>\n",
       "      <td>yellow-green</td>\n",
       "      <td>2</td>\n",
       "      <td>2024-03-05</td>\n",
       "      <td>Japan Coffee Exchange</td>\n",
       "      <td>〒413-0002 静岡県熱海市伊豆山１１７３−５８ 1173-58 Izusan, Ata...</td>\n",
       "      <td>松澤　宏樹　Koju Matsuzawa - +81(0)9085642901</td>\n",
       "    </tr>\n",
       "  </tbody>\n",
       "</table>\n",
       "</div>"
      ],
      "text/plain": [
       "   Total Cup Points  Moisture Percentage  Category One Defects  Quakers  \\\n",
       "0             89.33                 11.8                     0        0   \n",
       "1             87.58                 10.5                     0        0   \n",
       "2             87.42                 10.4                     0        0   \n",
       "3             87.17                 11.8                     0        0   \n",
       "4             87.08                 11.6                     0        2   \n",
       "\n",
       "          Color  Category Two Defects  Expiration  \\\n",
       "0         green                     3  2023-09-21   \n",
       "1    blue-green                     0  2023-11-15   \n",
       "2     yellowish                     2  2023-11-15   \n",
       "3         green                     0  2023-09-21   \n",
       "4  yellow-green                     2  2024-03-05   \n",
       "\n",
       "                 Certification Body  \\\n",
       "0             Japan Coffee Exchange   \n",
       "1  Taiwan Coffee Laboratory 台灣咖啡研究室   \n",
       "2  Taiwan Coffee Laboratory 台灣咖啡研究室   \n",
       "3             Japan Coffee Exchange   \n",
       "4             Japan Coffee Exchange   \n",
       "\n",
       "                               Certification Address  \\\n",
       "0  〒413-0002 静岡県熱海市伊豆山１１７３−５８ 1173-58 Izusan, Ata...   \n",
       "1  QAHWAH CO., LTD 4F, No. 225, Sec. 3, Beixin Rd...   \n",
       "2  QAHWAH CO., LTD 4F, No. 225, Sec. 3, Beixin Rd...   \n",
       "3  〒413-0002 静岡県熱海市伊豆山１１７３−５８ 1173-58 Izusan, Ata...   \n",
       "4  〒413-0002 静岡県熱海市伊豆山１１７３−５８ 1173-58 Izusan, Ata...   \n",
       "\n",
       "                     Certification Contact  \n",
       "0  松澤　宏樹　Koju Matsuzawa - +81(0)9085642901  \n",
       "1     Lin, Jen-An Neil 林仁安 - 886-289116612  \n",
       "2     Lin, Jen-An Neil 林仁安 - 886-289116612  \n",
       "3  松澤　宏樹　Koju Matsuzawa - +81(0)9085642901  \n",
       "4  松澤　宏樹　Koju Matsuzawa - +81(0)9085642901  "
      ]
     },
     "execution_count": 70,
     "metadata": {},
     "output_type": "execute_result"
    }
   ],
   "source": [
    "df_adjust_date.head().iloc[:,30:40]"
   ]
  },
  {
   "cell_type": "code",
   "execution_count": 71,
   "id": "06bebe2f-3f77-41dc-a5f7-baee7f3771ed",
   "metadata": {},
   "outputs": [
    {
     "data": {
      "text/html": [
       "<div>\n",
       "<style scoped>\n",
       "    .dataframe tbody tr th:only-of-type {\n",
       "        vertical-align: middle;\n",
       "    }\n",
       "\n",
       "    .dataframe tbody tr th {\n",
       "        vertical-align: top;\n",
       "    }\n",
       "\n",
       "    .dataframe thead th {\n",
       "        text-align: right;\n",
       "    }\n",
       "</style>\n",
       "<table border=\"1\" class=\"dataframe\">\n",
       "  <thead>\n",
       "    <tr style=\"text-align: right;\">\n",
       "      <th></th>\n",
       "      <th>Outlier_Flag_Quakers</th>\n",
       "      <th>Region_New</th>\n",
       "      <th>Processing_Method_New</th>\n",
       "    </tr>\n",
       "  </thead>\n",
       "  <tbody>\n",
       "    <tr>\n",
       "      <th>0</th>\n",
       "      <td>False</td>\n",
       "      <td>Americas</td>\n",
       "      <td>Washed / Wet</td>\n",
       "    </tr>\n",
       "    <tr>\n",
       "      <th>1</th>\n",
       "      <td>False</td>\n",
       "      <td>Asia</td>\n",
       "      <td>Washed / Wet</td>\n",
       "    </tr>\n",
       "    <tr>\n",
       "      <th>2</th>\n",
       "      <td>False</td>\n",
       "      <td>Asia</td>\n",
       "      <td>Washed / Wet</td>\n",
       "    </tr>\n",
       "    <tr>\n",
       "      <th>3</th>\n",
       "      <td>False</td>\n",
       "      <td>Americas</td>\n",
       "      <td>Washed / Wet</td>\n",
       "    </tr>\n",
       "    <tr>\n",
       "      <th>4</th>\n",
       "      <td>False</td>\n",
       "      <td>Americas</td>\n",
       "      <td>Honey / Pulped Natural</td>\n",
       "    </tr>\n",
       "  </tbody>\n",
       "</table>\n",
       "</div>"
      ],
      "text/plain": [
       "   Outlier_Flag_Quakers Region_New   Processing_Method_New\n",
       "0                 False   Americas            Washed / Wet\n",
       "1                 False       Asia            Washed / Wet\n",
       "2                 False       Asia            Washed / Wet\n",
       "3                 False   Americas            Washed / Wet\n",
       "4                 False   Americas  Honey / Pulped Natural"
      ]
     },
     "execution_count": 71,
     "metadata": {},
     "output_type": "execute_result"
    }
   ],
   "source": [
    "df_adjust_date.head().iloc[:,40:50]"
   ]
  },
  {
   "cell_type": "code",
   "execution_count": 72,
   "id": "c1db1792-158a-4262-85c4-204b578b14c2",
   "metadata": {},
   "outputs": [],
   "source": [
    "df_date_adjusted = df_adjust_date"
   ]
  },
  {
   "cell_type": "markdown",
   "id": "2138f7e7-a1ac-4ada-b4c4-abc61f7ae3b3",
   "metadata": {},
   "source": [
    "### 3-5. Transform Features\n",
    "\n",
    "We can create new features for further analysis or modeling purposes.\n",
    "\n",
    "_Note on 02/26/25: not sure what to add yet, will update later at [EDA](https://github.com/Lillian1070/showcase_python_EDA_1)._"
   ]
  },
  {
   "cell_type": "markdown",
   "id": "78d8b31a-df59-4ca7-b48f-4becbd2d8787",
   "metadata": {},
   "source": [
    "## 4. Save Final Dataset\n",
    "\n",
    "At this stage, we can save the cleaned dataset for exploratory analysis. During the EDA process, we may also exclude unnecessary variables that do not contribute to the analysis, ensuring a more focused and efficient exploration."
   ]
  },
  {
   "cell_type": "code",
   "execution_count": 73,
   "id": "7ec2cf8e-6231-4368-bf2a-3ecf66f71e38",
   "metadata": {},
   "outputs": [],
   "source": [
    "df_cleaned = df_date_adjusted"
   ]
  },
  {
   "cell_type": "code",
   "execution_count": 74,
   "id": "11fe8dd9-be42-40a8-8450-a946e9efeb2a",
   "metadata": {},
   "outputs": [
    {
     "name": "stdout",
     "output_type": "stream",
     "text": [
      "Shape of cleaned dataset: (200, 43)\n",
      "Index(['ID', 'Country of Origin', 'Farm Name', 'Lot Number', 'Mill',\n",
      "       'ICO Number', 'Company', 'Altitude', 'Region', 'Producer',\n",
      "       'Number of Bags', 'Bag Weight', 'In-Country Partner', 'Harvest Year',\n",
      "       'Grading Date', 'Owner', 'Variety', 'Status', 'Processing Method',\n",
      "       'Aroma', 'Flavor', 'Aftertaste', 'Acidity', 'Body', 'Balance',\n",
      "       'Uniformity', 'Clean Cup', 'Sweetness', 'Overall', 'Defects',\n",
      "       'Total Cup Points', 'Moisture Percentage', 'Category One Defects',\n",
      "       'Quakers', 'Color', 'Category Two Defects', 'Expiration',\n",
      "       'Certification Body', 'Certification Address', 'Certification Contact',\n",
      "       'Outlier_Flag_Quakers', 'Region_New', 'Processing_Method_New'],\n",
      "      dtype='object')\n",
      "<class 'pandas.core.frame.DataFrame'>\n",
      "Index: 200 entries, 0 to 206\n",
      "Data columns (total 43 columns):\n",
      " #   Column                 Non-Null Count  Dtype  \n",
      "---  ------                 --------------  -----  \n",
      " 0   ID                     200 non-null    int64  \n",
      " 1   Country of Origin      200 non-null    object \n",
      " 2   Farm Name              200 non-null    object \n",
      " 3   Lot Number             200 non-null    object \n",
      " 4   Mill                   200 non-null    object \n",
      " 5   ICO Number             72 non-null     object \n",
      " 6   Company                200 non-null    object \n",
      " 7   Altitude               200 non-null    float64\n",
      " 8   Region                 200 non-null    object \n",
      " 9   Producer               200 non-null    object \n",
      " 10  Number of Bags         200 non-null    int64  \n",
      " 11  Bag Weight             200 non-null    float64\n",
      " 12  In-Country Partner     200 non-null    object \n",
      " 13  Harvest Year           200 non-null    object \n",
      " 14  Grading Date           200 non-null    object \n",
      " 15  Owner                  200 non-null    object \n",
      " 16  Variety                200 non-null    object \n",
      " 17  Status                 200 non-null    object \n",
      " 18  Processing Method      200 non-null    object \n",
      " 19  Aroma                  200 non-null    float64\n",
      " 20  Flavor                 200 non-null    float64\n",
      " 21  Aftertaste             200 non-null    float64\n",
      " 22  Acidity                200 non-null    float64\n",
      " 23  Body                   200 non-null    float64\n",
      " 24  Balance                200 non-null    float64\n",
      " 25  Uniformity             200 non-null    float64\n",
      " 26  Clean Cup              200 non-null    float64\n",
      " 27  Sweetness              200 non-null    float64\n",
      " 28  Overall                200 non-null    float64\n",
      " 29  Defects                200 non-null    float64\n",
      " 30  Total Cup Points       200 non-null    float64\n",
      " 31  Moisture Percentage    200 non-null    float64\n",
      " 32  Category One Defects   200 non-null    int64  \n",
      " 33  Quakers                200 non-null    int64  \n",
      " 34  Color                  200 non-null    object \n",
      " 35  Category Two Defects   200 non-null    int64  \n",
      " 36  Expiration             200 non-null    object \n",
      " 37  Certification Body     200 non-null    object \n",
      " 38  Certification Address  200 non-null    object \n",
      " 39  Certification Contact  200 non-null    object \n",
      " 40  Outlier_Flag_Quakers   200 non-null    bool   \n",
      " 41  Region_New             200 non-null    object \n",
      " 42  Processing_Method_New  200 non-null    object \n",
      "dtypes: bool(1), float64(15), int64(5), object(22)\n",
      "memory usage: 67.4+ KB\n",
      "None\n"
     ]
    },
    {
     "data": {
      "text/html": [
       "<div>\n",
       "<style scoped>\n",
       "    .dataframe tbody tr th:only-of-type {\n",
       "        vertical-align: middle;\n",
       "    }\n",
       "\n",
       "    .dataframe tbody tr th {\n",
       "        vertical-align: top;\n",
       "    }\n",
       "\n",
       "    .dataframe thead th {\n",
       "        text-align: right;\n",
       "    }\n",
       "</style>\n",
       "<table border=\"1\" class=\"dataframe\">\n",
       "  <thead>\n",
       "    <tr style=\"text-align: right;\">\n",
       "      <th></th>\n",
       "      <th>ID</th>\n",
       "      <th>Country of Origin</th>\n",
       "      <th>Farm Name</th>\n",
       "      <th>Lot Number</th>\n",
       "      <th>Mill</th>\n",
       "      <th>ICO Number</th>\n",
       "      <th>Company</th>\n",
       "      <th>Altitude</th>\n",
       "      <th>Region</th>\n",
       "      <th>Producer</th>\n",
       "      <th>...</th>\n",
       "      <th>Quakers</th>\n",
       "      <th>Color</th>\n",
       "      <th>Category Two Defects</th>\n",
       "      <th>Expiration</th>\n",
       "      <th>Certification Body</th>\n",
       "      <th>Certification Address</th>\n",
       "      <th>Certification Contact</th>\n",
       "      <th>Outlier_Flag_Quakers</th>\n",
       "      <th>Region_New</th>\n",
       "      <th>Processing_Method_New</th>\n",
       "    </tr>\n",
       "  </thead>\n",
       "  <tbody>\n",
       "    <tr>\n",
       "      <th>0</th>\n",
       "      <td>0</td>\n",
       "      <td>Colombia</td>\n",
       "      <td>Finca El Paraiso</td>\n",
       "      <td>CQU2022015</td>\n",
       "      <td>Finca El Paraiso</td>\n",
       "      <td>NaN</td>\n",
       "      <td>Coffee Quality Union</td>\n",
       "      <td>1815.0</td>\n",
       "      <td>Piendamo,Cauca</td>\n",
       "      <td>Diego Samuel Bermudez</td>\n",
       "      <td>...</td>\n",
       "      <td>0</td>\n",
       "      <td>green</td>\n",
       "      <td>3</td>\n",
       "      <td>2023-09-21</td>\n",
       "      <td>Japan Coffee Exchange</td>\n",
       "      <td>〒413-0002 静岡県熱海市伊豆山１１７３−５８ 1173-58 Izusan, Ata...</td>\n",
       "      <td>松澤　宏樹　Koju Matsuzawa - +81(0)9085642901</td>\n",
       "      <td>False</td>\n",
       "      <td>Americas</td>\n",
       "      <td>Washed / Wet</td>\n",
       "    </tr>\n",
       "    <tr>\n",
       "      <th>1</th>\n",
       "      <td>1</td>\n",
       "      <td>Taiwan</td>\n",
       "      <td>Royal Bean Geisha Estate</td>\n",
       "      <td>The 2022 Pacific Rim Coffee Summit,T037</td>\n",
       "      <td>Royal Bean Geisha Estate</td>\n",
       "      <td>NaN</td>\n",
       "      <td>Taiwan Coffee Laboratory</td>\n",
       "      <td>1200.0</td>\n",
       "      <td>Chiayi</td>\n",
       "      <td>曾福森</td>\n",
       "      <td>...</td>\n",
       "      <td>0</td>\n",
       "      <td>blue-green</td>\n",
       "      <td>0</td>\n",
       "      <td>2023-11-15</td>\n",
       "      <td>Taiwan Coffee Laboratory 台灣咖啡研究室</td>\n",
       "      <td>QAHWAH CO., LTD 4F, No. 225, Sec. 3, Beixin Rd...</td>\n",
       "      <td>Lin, Jen-An Neil 林仁安 - 886-289116612</td>\n",
       "      <td>False</td>\n",
       "      <td>Asia</td>\n",
       "      <td>Washed / Wet</td>\n",
       "    </tr>\n",
       "    <tr>\n",
       "      <th>2</th>\n",
       "      <td>2</td>\n",
       "      <td>Laos</td>\n",
       "      <td>OKLAO coffee farms</td>\n",
       "      <td>The 2022 Pacific Rim Coffee Summit,LA01</td>\n",
       "      <td>oklao coffee processing plant</td>\n",
       "      <td>NaN</td>\n",
       "      <td>Taiwan Coffee Laboratory</td>\n",
       "      <td>1300.0</td>\n",
       "      <td>Laos Borofen Plateau</td>\n",
       "      <td>WU TAO CHI</td>\n",
       "      <td>...</td>\n",
       "      <td>0</td>\n",
       "      <td>yellowish</td>\n",
       "      <td>2</td>\n",
       "      <td>2023-11-15</td>\n",
       "      <td>Taiwan Coffee Laboratory 台灣咖啡研究室</td>\n",
       "      <td>QAHWAH CO., LTD 4F, No. 225, Sec. 3, Beixin Rd...</td>\n",
       "      <td>Lin, Jen-An Neil 林仁安 - 886-289116612</td>\n",
       "      <td>False</td>\n",
       "      <td>Asia</td>\n",
       "      <td>Washed / Wet</td>\n",
       "    </tr>\n",
       "    <tr>\n",
       "      <th>3</th>\n",
       "      <td>3</td>\n",
       "      <td>Costa Rica</td>\n",
       "      <td>La Cumbre</td>\n",
       "      <td>CQU2022017</td>\n",
       "      <td>La Montana Tarrazu MIll</td>\n",
       "      <td>NaN</td>\n",
       "      <td>Coffee Quality Union</td>\n",
       "      <td>1900.0</td>\n",
       "      <td>Los Santos,Tarrazu</td>\n",
       "      <td>Santa Maria de Dota</td>\n",
       "      <td>...</td>\n",
       "      <td>0</td>\n",
       "      <td>green</td>\n",
       "      <td>0</td>\n",
       "      <td>2023-09-21</td>\n",
       "      <td>Japan Coffee Exchange</td>\n",
       "      <td>〒413-0002 静岡県熱海市伊豆山１１７３−５８ 1173-58 Izusan, Ata...</td>\n",
       "      <td>松澤　宏樹　Koju Matsuzawa - +81(0)9085642901</td>\n",
       "      <td>False</td>\n",
       "      <td>Americas</td>\n",
       "      <td>Washed / Wet</td>\n",
       "    </tr>\n",
       "    <tr>\n",
       "      <th>4</th>\n",
       "      <td>4</td>\n",
       "      <td>Colombia</td>\n",
       "      <td>Finca Santuario</td>\n",
       "      <td>CQU2023002</td>\n",
       "      <td>Finca Santuario</td>\n",
       "      <td>NaN</td>\n",
       "      <td>Coffee Quality Union</td>\n",
       "      <td>1975.0</td>\n",
       "      <td>Popayan,Cauca</td>\n",
       "      <td>Camilo Merizalde</td>\n",
       "      <td>...</td>\n",
       "      <td>2</td>\n",
       "      <td>yellow-green</td>\n",
       "      <td>2</td>\n",
       "      <td>2024-03-05</td>\n",
       "      <td>Japan Coffee Exchange</td>\n",
       "      <td>〒413-0002 静岡県熱海市伊豆山１１７３−５８ 1173-58 Izusan, Ata...</td>\n",
       "      <td>松澤　宏樹　Koju Matsuzawa - +81(0)9085642901</td>\n",
       "      <td>False</td>\n",
       "      <td>Americas</td>\n",
       "      <td>Honey / Pulped Natural</td>\n",
       "    </tr>\n",
       "  </tbody>\n",
       "</table>\n",
       "<p>5 rows × 43 columns</p>\n",
       "</div>"
      ],
      "text/plain": [
       "   ID Country of Origin                 Farm Name  \\\n",
       "0   0          Colombia          Finca El Paraiso   \n",
       "1   1            Taiwan  Royal Bean Geisha Estate   \n",
       "2   2              Laos        OKLAO coffee farms   \n",
       "3   3        Costa Rica                 La Cumbre   \n",
       "4   4          Colombia           Finca Santuario   \n",
       "\n",
       "                                Lot Number                           Mill  \\\n",
       "0                               CQU2022015               Finca El Paraiso   \n",
       "1  The 2022 Pacific Rim Coffee Summit,T037       Royal Bean Geisha Estate   \n",
       "2  The 2022 Pacific Rim Coffee Summit,LA01  oklao coffee processing plant   \n",
       "3                               CQU2022017        La Montana Tarrazu MIll   \n",
       "4                               CQU2023002                Finca Santuario   \n",
       "\n",
       "  ICO Number                   Company  Altitude                Region  \\\n",
       "0        NaN      Coffee Quality Union    1815.0        Piendamo,Cauca   \n",
       "1        NaN  Taiwan Coffee Laboratory    1200.0                Chiayi   \n",
       "2        NaN  Taiwan Coffee Laboratory    1300.0  Laos Borofen Plateau   \n",
       "3        NaN      Coffee Quality Union    1900.0    Los Santos,Tarrazu   \n",
       "4        NaN      Coffee Quality Union    1975.0         Popayan,Cauca   \n",
       "\n",
       "                Producer  ...  Quakers         Color Category Two Defects  \\\n",
       "0  Diego Samuel Bermudez  ...        0         green                    3   \n",
       "1                    曾福森  ...        0    blue-green                    0   \n",
       "2             WU TAO CHI  ...        0     yellowish                    2   \n",
       "3    Santa Maria de Dota  ...        0         green                    0   \n",
       "4       Camilo Merizalde  ...        2  yellow-green                    2   \n",
       "\n",
       "   Expiration                Certification Body  \\\n",
       "0  2023-09-21             Japan Coffee Exchange   \n",
       "1  2023-11-15  Taiwan Coffee Laboratory 台灣咖啡研究室   \n",
       "2  2023-11-15  Taiwan Coffee Laboratory 台灣咖啡研究室   \n",
       "3  2023-09-21             Japan Coffee Exchange   \n",
       "4  2024-03-05             Japan Coffee Exchange   \n",
       "\n",
       "                               Certification Address  \\\n",
       "0  〒413-0002 静岡県熱海市伊豆山１１７３−５８ 1173-58 Izusan, Ata...   \n",
       "1  QAHWAH CO., LTD 4F, No. 225, Sec. 3, Beixin Rd...   \n",
       "2  QAHWAH CO., LTD 4F, No. 225, Sec. 3, Beixin Rd...   \n",
       "3  〒413-0002 静岡県熱海市伊豆山１１７３−５８ 1173-58 Izusan, Ata...   \n",
       "4  〒413-0002 静岡県熱海市伊豆山１１７３−５８ 1173-58 Izusan, Ata...   \n",
       "\n",
       "                     Certification Contact Outlier_Flag_Quakers Region_New  \\\n",
       "0  松澤　宏樹　Koju Matsuzawa - +81(0)9085642901                False   Americas   \n",
       "1     Lin, Jen-An Neil 林仁安 - 886-289116612                False       Asia   \n",
       "2     Lin, Jen-An Neil 林仁安 - 886-289116612                False       Asia   \n",
       "3  松澤　宏樹　Koju Matsuzawa - +81(0)9085642901                False   Americas   \n",
       "4  松澤　宏樹　Koju Matsuzawa - +81(0)9085642901                False   Americas   \n",
       "\n",
       "    Processing_Method_New  \n",
       "0            Washed / Wet  \n",
       "1            Washed / Wet  \n",
       "2            Washed / Wet  \n",
       "3            Washed / Wet  \n",
       "4  Honey / Pulped Natural  \n",
       "\n",
       "[5 rows x 43 columns]"
      ]
     },
     "execution_count": 74,
     "metadata": {},
     "output_type": "execute_result"
    }
   ],
   "source": [
    "print(\"Shape of cleaned dataset:\", df_cleaned.shape)\n",
    "print(df_cleaned.columns)\n",
    "print(df_cleaned.info())\n",
    "df_cleaned.head()"
   ]
  },
  {
   "cell_type": "code",
   "execution_count": 75,
   "id": "d075bc3d-0e1e-4672-8d6f-cc56d823454b",
   "metadata": {},
   "outputs": [],
   "source": [
    "df_cleaned.to_csv('cleaned_dataset.csv', index=False)"
   ]
  }
 ],
 "metadata": {
  "kernelspec": {
   "display_name": "Python 3 (ipykernel)",
   "language": "python",
   "name": "python3"
  },
  "language_info": {
   "codemirror_mode": {
    "name": "ipython",
    "version": 3
   },
   "file_extension": ".py",
   "mimetype": "text/x-python",
   "name": "python",
   "nbconvert_exporter": "python",
   "pygments_lexer": "ipython3",
   "version": "3.10.0"
  }
 },
 "nbformat": 4,
 "nbformat_minor": 5
}
